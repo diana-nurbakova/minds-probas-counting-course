{
 "cells": [
  {
   "cell_type": "markdown",
   "id": "f6829b15",
   "metadata": {},
   "source": [
    "# Conditional Probability, Independence and Bayes Rule"
   ]
  },
  {
   "cell_type": "code",
   "execution_count": null,
   "id": "daee2013",
   "metadata": {},
   "outputs": [],
   "source": [
    "%%html\n",
    "<link rel=\"stylesheet\" type=\"text/css\" href=\"../styles/styles.css\">"
   ]
  },
  {
   "cell_type": "code",
   "execution_count": null,
   "id": "0eb6b495",
   "metadata": {},
   "outputs": [],
   "source": [
    "import numpy as np\n",
    "import matplotlib.pyplot as plt\n",
    "import seaborn as sns\n",
    "import pandas as pd\n",
    "from scipy import stats\n",
    "import warnings\n",
    "warnings.filterwarnings('ignore')\n",
    "\n",
    "plt.style.use('seaborn-v0_8')\n",
    "sns.set_palette(\"husl\")\n",
    "# fixed random seed \n",
    "np.random.seed(42)"
   ]
  },
  {
   "cell_type": "code",
   "execution_count": null,
   "id": "056861ad",
   "metadata": {},
   "outputs": [],
   "source": [
    "import sys\n",
    "from pathlib import Path\n",
    "\n",
    "# Add the \"resources\" directory to the path\n",
    "project_root = Path().resolve().parent\n",
    "resources_path = project_root / 'resources'\n",
    "sys.path.insert(0, str(resources_path))"
   ]
  },
  {
   "cell_type": "code",
   "execution_count": null,
   "id": "cd3147fe",
   "metadata": {},
   "outputs": [],
   "source": [
    "from elementary_probabilities import (solve_ai_doctor_paradox, ai_reliability_example, netflix_conditional_probability, interactive_bayes_explorer)"
   ]
  },
  {
   "cell_type": "markdown",
   "id": "efb96b82",
   "metadata": {},
   "source": [
    "## Learning Objectives"
   ]
  },
  {
   "cell_type": "markdown",
   "id": "55cbf066",
   "metadata": {},
   "source": [
    "By the end of this session, you will be able to:\n",
    "- Calculate conditional probabilities and recognize independence\n",
    "- Apply Bayes' theorem to real-world problems\n",
    "- Solve the Monty Hall problem both theoretically and computationally\n",
    "- Connect conditional probability concepts to machine learning applications"
   ]
  },
  {
   "cell_type": "markdown",
   "id": "6fe0a15e",
   "metadata": {},
   "source": [
    "<div class=\"alert alert-info\">\n",
    "<h4>🎯 The AI Doctor Paradox</h3>\n",
    "<p><b>Scenario:</b> You're developing an AI system for medical diagnosis. Your system has impressive performance:</p>\n",
    "<ul>\n",
    "  <li> 95% accuracy at detecting a rare disease (only 1% of population has it)</li>\n",
    "  <li> 90% accuracy at correctly identifying healthy patients</li>\n",
    "</ul>\n",
    "<p><strong>The Paradox:</strong> Your AI gives a positive diagnosis to a patient. What's the probability they actually have the disease?</p>\n",
    "\n",
    "<p><b>Your Intuitive Guess:</b></p>\n",
    "<p>Most people guess: <strong>85-95%</strong> (thinking: \"The AI is very accurate!\")</p>\n",
    "<p><strong>Write down your guess before we start:</strong> ______%</p>\n",
    "<p><em>We'll return to this at the end and see if your intuition was correct...</em></p>\n",
    "</div>"
   ]
  },
  {
   "cell_type": "markdown",
   "id": "493558b5",
   "metadata": {},
   "source": [
    "## Conditional Probability"
   ]
  },
  {
   "cell_type": "markdown",
   "id": "37e010d4",
   "metadata": {},
   "source": [
    "Let's consider the following use case.\n",
    "\n",
    "You're Netflix's ML engineer. Your recommendation algorithm shows that:\n",
    "- 40% of users watch comedies\n",
    "- 60% of users who watch comedies also watch romantic movies  \n",
    "- 20% of users who don't watch comedies watch romantic movies\n",
    "\n",
    "**Question:** If a user watches romantic movies, what's the probability they also watch comedies?\n",
    "\n",
    "Let's think through this step by step with a visualization:\n",
    "\n",
    "To do that, let's consider a population of 10,000 users.\n",
    "\n",
    "Population breakdown:\n",
    "- 40% of users watch comedies $\\rightarrow$ 4,000 watch comedies\n",
    "- 100 - 40 = 60% of users DO NOT watch comedies  $\\rightarrow$ 6,000 DO NOT watch comedies\n",
    "- 60% of users who watch comedies also watch romantic movies  $\\rightarrow$ 0.6 * 4000 = 2400 users watch comedies AND romantic movies\n",
    "- 20% of users who don't watch comedies watch romantic movies $\\rightarrow$ 0.2 * 6000 = 1200 users DO NOT watch comedies AND watch romantic movies\n",
    "\n",
    "We can represent this information in the following contingency table:\n",
    "\n",
    "| | &hearts; Romance | X Romance| TOTAL|\n",
    "|---:|:----:|:---:|:---:|\n",
    "| **&hearts; Comedy** | $$0.6\\times 4000 = 2,400$$| $$4000 - 2400 = 1,600$$| $$4,000$$|\n",
    "| **X Comedy** | $$0.2\\times 6000 = 1,200$$| $$6000 - 1200 = 4,800$$| $$10000 - 4000 = 6,000$$|\n",
    "| **TOTAL** | $$2400 + 1200 = 3600$$| $$10000 - 3600 = 6400$$ | $$10,000$$|\n",
    "\n",
    "As we can see, a total number of users who watch romantic movies is $2400 + 1200 = 3,600$ (36% of our population). \n",
    "\n",
    "Now, if we want to find the probability a user who watches romantic movies also watches comedies, we can use the ratio: $\\frac{2400}{3600} = \\frac{2}{3}$\n",
    "\n",
    "> How to calculate that formally?\n",
    "\n",
    "Let $A = ``\\heartsuit\\text{ Romance}\"$ and $B = ``\\heartsuit\\text{ Comedy}\"$. An event $``\\heartsuit\\text{ Romance AND } \\heartsuit\\text{ Comedy}\"$ corresponds to the intersection between two events, i.e. $A \\cap B$:\n",
    "\n",
    "<center>\n",
    "<img src=\"img/venn-event-intersection-2.png\" alt=\"Probability of a union vs intersection\" width=\"400px\">\n",
    "</center>\n",
    "\n",
    "Previously, we saw the treatment of the union and intersection of two events.\n",
    "\n",
    "Thus, in the case of the union of $A\\in \\mathcal{A}$ and $B\\in \\mathcal{A}$ when it concerns the realization of $A$ **or** $B$, we saw that $\\mathbb{P}(A\\cup B) = \\mathbb{P}(A) + \\mathbb{P}(B) -  \\mathbb{P}(A\\cap B)$. We can deduce that $\\mathbb{P}(A\\cup B) \\geq \\mathbb{P}(A)$ and $\\mathbb{P}(A\\cup B)\\geq \\mathbb{P}(B)$.\n",
    "\n",
    "However, we have dealt less with the case of intersection. Following intuition, we can say that $\\mathbb{P}(A\\cap B) < \\mathbb{P}(A)$ and $\\mathbb{P}(A\\cap B) < \\mathbb{P}(B)$. What would be the operation on the individual probabilities of $A$ and $B$ that could ensure these conditions, taking into account that $\\mathbb{P}(A) \\leq 1$ and $\\mathbb{P}(B) \\leq 1$?\n",
    "\n",
    "A good candidate is the product. For this, we introduce here the notion of **the probability of $B$ given $A$**, denoted $\\mathbb{P}(B|A)$. This can be translated by the fact that the realization of $A$ influences the probability of realization of $B$.\n",
    "\n",
    "Let's summarize with the diagram below:\n",
    "\n",
    "<center>\n",
    "<img src=\"img/venn-event-union-vs-intersection.png\" alt=\"Probability to test positive\" width=\"800px\">\n",
    "</center>\n",
    "\n",
    "Getting back to our example: Note that once $A$ is realised (a user watches romantic movies) with $P(A) = \\frac{3600}{10000} = 0.36$, the sample space for event $B$ is modified. Indeed, now we can only select from people who watch romantic movies, i.e. 3600 users. Thus, $P(B|A) = \\frac{2400}{3600} = \\frac{2}{3}$. That's what we were looking for in the question. \n",
    "\n",
    "$A\\cap B$ corresponds to the cell where a user watches romantic movies and comedies. $P(A\\cap B) = \\frac{2400}{10000} = 0.24$. \n",
    "\n",
    "$$\\mathbb{P}(B|A) = \\frac{\\mathbb{P}(A\\cap B)}{\\mathbb{P}(A)} = \\frac{0.24}{0.36} = \\frac{2400}{3600} = \\frac{2}{3}$$\n",
    "\n",
    "In the case, where a realisation of one event influences a realisation of another we call events $A$ and $B$ **dependent**.\n",
    "\n",
    "Thus we seek to calculate the probability of realization of an event when part of the information concerning the result is known."
   ]
  },
  {
   "cell_type": "markdown",
   "id": "ed72beba",
   "metadata": {},
   "source": [
    "<div class=\"alert alert-success\">\n",
    "<h4>Definition: Conditional Probability</h4>\n",
    "\n",
    "Let $(\\Omega, \\mathcal{A}, \\mathbb{P})$ be a probability space, $A\\in \\mathcal{A}$, $B\\in \\mathcal{A}$ events, $\\mathbb{P}(B)\\neq 0$. We call **the probability of $A$ given $B$** the probability defined by:\n",
    "$$\\mathbb{P}(A|B) = \\frac{\\mathbb{P}(A\\cap B)}{\\mathbb{P}(B)}$$\n",
    "If $\\mathbb{P}(B) = 0$, we can generalize the definition for the case of events with zero probability, i.e. $\\mathbb{P}(A|B) = 0$.\n",
    "\n",
    "<p><i>Intuition:</i> \"What's the probability of A, restricting our attention to cases where B occurred?\"</p>\n",
    "\n",
    "**The conditional probability given $B$** is an application:\n",
    "$$\\mathbb{P}_B : A\\in \\mathcal{A} \\rightarrow \\mathbb{P}(A|B)$$\n",
    "which defines a probability on the event space $(\\Omega, \\mathcal{A})$.\n",
    "\n",
    "\n",
    "</div>\n",
    "\n",
    "\n",
    "<div class=\"alert alert-success\" style='background-color:white'>\n",
    "<h4>Properties of Conditional Probability<h4>\n",
    "\n",
    "Here are some properties of conditional probability A given $B$:\n",
    "\n",
    "1. $\\mathbb{P}(\\bar{A}|B) = 1 - \\mathbb{P}(A|B)$ because we can represent $B$ as $B = (B\\cap A) \\cup (B\\cap \\bar{A})$ where $(B\\cap A) \\cap (B\\cap \\bar{A}) = \\emptyset$\n",
    "\n",
    "<center>\n",
    "\n",
    "<center>\n",
    "<img src=\"img/venn-diagram-union-b-a-complement.png\" alt=\"Probability not A given B\" width=\"400px\">\n",
    "</center>\n",
    "\n",
    "2. $\\mathbb{P}(A\\cap B) = \\mathbb{P}(A|B)\\times \\mathbb{P}(B) = \\mathbb{P}(B|A)\\times \\mathbb{P}(A)$\n",
    "\n",
    "</div>"
   ]
  },
  {
   "cell_type": "code",
   "execution_count": null,
   "id": "39abf840",
   "metadata": {},
   "outputs": [],
   "source": [
    "# demo\n",
    "netflix_conditional_probability()"
   ]
  },
  {
   "cell_type": "markdown",
   "id": "26b7e650",
   "metadata": {},
   "source": [
    "<div class=\"alert alert-warning\">\n",
    "<h4>💡 Key Insight: Conditional probabilities are NOT symmetric!</h4>\n",
    "\n",
    "<p>P(A|B) ≠ P(B|A) in general</p>\n",
    "\n",
    "</div>\n",
    "\n",
    "In our Netflix example:\n",
    "\n",
    "- $P(Romantic | Comedy) ≈ 0.60$\n",
    "- $P(Comedy | Romantic) ≈ 0.67$\n"
   ]
  },
  {
   "cell_type": "markdown",
   "id": "fb059a87",
   "metadata": {},
   "source": [
    "## Independence"
   ]
  },
  {
   "cell_type": "markdown",
   "id": "d72c54f3",
   "metadata": {},
   "source": [
    "Now let's consider a coin toss. Let $A = ``\\text{obtaining heads when tossing a coin}\"$ and $B = ``\\text{obtaining tails when tossing a coin}\"$.\n",
    "\n",
    "$\\mathbb{P}(A) = 1/2$. Note that the realization of $A$ in this case does not influence the realization of $B$. So $\\mathbb{P}(B|A) = \\mathbb{P}(B) = 1/2$.\n",
    "\n",
    "We speak of **independent** events."
   ]
  },
  {
   "cell_type": "markdown",
   "id": "74458fd8",
   "metadata": {},
   "source": [
    "<div class=\"alert alert-success\">\n",
    "<h4>Definition: Independent Events</h4>\n",
    "\n",
    "Let $(\\Omega, \\mathcal{A}, \\mathbb{P})$ be a probability space, $A, B \\in \\mathcal{A}$ two events. $A$ and $B$ are called **independent**, if:\n",
    "$$\\mathbb{P}(A\\cap B) = \\mathbb{P}(A)\\times \\mathbb{P}(B)$$\n",
    "Using the notion of conditional probability, we can consider that $A$ and $B$ such that $\\mathbb{P}(B)\\neq 0$ are independent if:\n",
    "$$\\mathbb{P}(A|B) = \\mathbb{P}(A)$$\n",
    "\n",
    "<p><i>Intuition:</i> \"Learning that B occurred doesn't change our belief about A\"</p>\n",
    "\n",
    "</div>\n",
    "\n",
    "Note that if events $A$ and $B$ are independent, then the following pairs of events are independent:\n",
    "\n",
    "* $A$ and $\\bar{B}$\n",
    "* $\\bar{A}$ and $B$\n",
    "* $\\bar{A}$ and $\\bar{B}$\n",
    "\n",
    "<div class=\"alert alert-success\">\n",
    "<h4>Definition: Mutually Independent Events</h4>\n",
    "\n",
    "The events $A_1, ..., A_n\\in \\mathcal{A}$ in the probability space $(\\Omega, \\mathcal{A}, \\mathbb{P})$ are **mutually independent**, if $\\forall k\\in \\{1,...,n\\}$ and $\\forall (i_1,...,i_k) \\in \\mathbb{N}^k$ such that $1\\leq i_1 \\leq i_2\\leq ...\\leq i_k \\leq n$, we have:\n",
    "$$\\mathbb{P}(A_{i_1} \\cap ... \\cap A_{i_k} ) = \\mathbb{P}(A_{i_1})\\times ... \\times \\mathbb{P}(A_{i_k}) $$\n",
    "\n",
    "\n",
    "</div>\n",
    "\n",
    "Note that for the case of 3 events $A, B, C \\in \\mathcal{A}$, the following conditions must be satisfied:\n",
    "\n",
    "1. pairwise independence:\n",
    "\n",
    "* $\\mathbb{P}(A \\cap B) = \\mathbb{P}(A)\\times \\mathbb{P}(B)$\n",
    "* $\\mathbb{P}(A \\cap C) = \\mathbb{P}(A)\\times \\mathbb{P}(C)$\n",
    "* $\\mathbb{P}(B \\cap C) = \\mathbb{P}(B)\\times \\mathbb{P}(C)$\n",
    "\n",
    "2. $\\mathbb{P}(A \\cap B \\cap C) = \\mathbb{P}(A)\\times \\mathbb{P}(B) \\times \\mathbb{P}(C)$\n",
    "\n",
    "*Remark*: events can be pairwise independent without being mutually independent."
   ]
  },
  {
   "cell_type": "markdown",
   "id": "ca348793",
   "metadata": {},
   "source": [
    "<div class=\"alert alert-exercise\">\n",
    "<h4>Calculation Example: Independence</h4>\n",
    "\n",
    "The probability of event $A$ is $\\mathbb{P}(A) = 0.8$, the probability of event $C$ is $\\mathbb{P}(C) = 0.35$ and the probability $\\mathbb{P}(A\\cap C) = 0.28$. Are events $A$ and $C$ independent?\n",
    "\n",
    "</div>\n",
    "\n",
    "<details>\n",
    "<summary>Reveal solution</summary>\n",
    "Events $A$ and $C$ are independent if $\\mathbb{P}(A\\cap C) = \\mathbb{P}(A)\\times \\mathbb{P}(C)$.\n",
    "\n",
    "We know $\\mathbb{P}(A\\cap C) = 0.28$. It remains to calculate the product:\n",
    "$\\mathbb{P}(A)\\times \\mathbb{P}(C) = 0.8\\times 0.35 = 0.28$.\n",
    "\n",
    "Therefore, we have verified that $0.28 = \\mathbb{P}(A\\cap C) = \\mathbb{P}(A)\\times \\mathbb{P}(C) = 0.8\\times 0.35 = 0.28$. So, events $A$ and $C$ are independent.\n",
    "</details>"
   ]
  },
  {
   "cell_type": "markdown",
   "id": "0236114a",
   "metadata": {},
   "source": [
    "<div class=\"alert alert-exercise\">\n",
    "<h4>Calculation Example: Birthday on the Same Day</h4>\n",
    "\n",
    "If your birthday is February 2, what is the probability that your 2 friends have their birthday on the same day?\n",
    "</div>\n",
    "\n",
    "<details>\n",
    "<summary>Reveal solution</summary>\n",
    "\n",
    "Let's define events $A$ and $B$ as follows:\n",
    "\n",
    "$A = ``\\text{one friend's birthday is February 2}\"$ **and** $B = ``\\text{another friend's birthday is February 2}\"$.\n",
    "We are looking for the probability $\\mathbb{P}(A\\cap B)$.\n",
    "\n",
    "We know that $\\mathbb{P}(A\\cap B) = \\mathbb{P}(A)\\times \\mathbb{P}(B|A)$. The question that arises is therefore: are events $A$ and $B$ independent? in other words, does the realization of $A$ influence the realization of $B$?\n",
    "\n",
    "In the general case, the birth of one friend on a particular day does not influence the birth day of another friend. Then, $\\mathbb{P}(B|A) = \\mathbb{P}(B)$.\n",
    "\n",
    "Let's find the probabilities of $A$ and $B$, considering that a year contains 365 days:\n",
    "\n",
    "* $\\mathbb{P}(A) = \\frac{1}{365}$\n",
    "* $\\mathbb{P}(B) = \\frac{1}{365}$\n",
    "\n",
    "Let's return to the formula:\n",
    "\n",
    "$\\mathbb{P}(A\\cap B) = \\mathbb{P}(A)\\times \\mathbb{P}(B|A) = \\mathbb{P}(A)\\times \\mathbb{P}(B) = \\frac{1}{365}\\times \\frac{1}{365} = \\mathbf{\\frac{1}{365^2}}$\n",
    "</details>"
   ]
  },
  {
   "cell_type": "markdown",
   "id": "72f165c0",
   "metadata": {},
   "source": [
    "<div class=\"alert alert-exercise\">\n",
    "<h4>Calculation Example: Autonomous Vehicle Reliability Analysis</h4>\n",
    "\n",
    "You're a safety engineer evaluating an autonomous vehicle (AV) AI system before deployment. The vehicle has 6 critical subsystems that must all function correctly for safe operation:\n",
    "\n",
    "- Camera system: reliability = 0.995\n",
    "- LiDAR sensor: reliability = 0.998\n",
    "- Radar system: reliability = 0.997\n",
    "- AI processor: reliability = 0.999\n",
    "- Decision engine: reliability = 0.993\n",
    "- Communication module: reliability = 0.990\n",
    "\n",
    "Questions:\n",
    "1. What is the probability that ALL systems function correctly (overall system reliability)?\n",
    "2. What is the probability of at least one system failure?\n",
    "3. Which component, if perfected (reliability = 1.0), would provide the greatest improvement to overall system reliability?\n",
    "4. If the vehicle operates 10,000 hours per year, how many hours of system failure should you expect?\n",
    "5. Is this system safe enough for deployment if the industry standard requires 99.9% reliability?\n",
    "\n",
    "</div>\n",
    "\n",
    "<details>\n",
    "<summary>Reveal solution</summary>\n",
    "\n",
    "1. Overall System Reliability\n",
    "\n",
    "Since the AV requires ALL subsystems to work (series system), we multiply the individual reliabilities:\n",
    "$$P(\\text{all systems work}) = P(camera) \\times P(LiDAR) \\times P(radar) \\times P(AI) \\times P(decision) \\times P(comm) = $$\n",
    "\n",
    "$$= 0.995 \\times 0.998 \\times 0.997 \\times 0.999 \\times 0.993 \\times 0.990 = 0.9723$$\n",
    "\n",
    "The overall system reliability is approximately 97.23%\n",
    "\n",
    "2. Probability of System Failure\n",
    "\n",
    "Using the complement rule:\n",
    "$$P(\\text{at least one failure}) = 1 - P(\\text{all systems work}) = 1 - 0.9723 = 0.0277$$\n",
    "\n",
    "There's a 2.78% probability of at least one system failing.\n",
    "\n",
    "3. Critical Component Analysis\n",
    "\n",
    "To find which component matters most, calculate the improvement if each were perfected:\n",
    "\n",
    "Original failure rate: $1 - 0.9723 = 0.0277$\n",
    "\n",
    "For each component, temporarily set its reliability to 1.0:\n",
    "\n",
    "|Component| New System Reliability| Improvement|\n",
    "|---|-----|----|\n",
    "|Camera (0.995→1.0)|$\\mathbf{1.0} \\times 0.998 \\times 0.997 \\times 0.999 \\times 0.993 \\times 0.990 = 0.9772$| $0.9772 - 0.9723 = 0.0049$|\n",
    "| LiDAR (0.998→1.0) | $0.995 \\times \\mathbf{1.0} \\times 0.997 \\times 0.999 \\times 0.993 \\times 0.990= 0.9742$ | $0.9742 - 0.9723 = 0.0019$|\n",
    "| Radar (0.997→1.0) | $0.995 \\times 0.998 \\times \\mathbf{1.0} \\times 0.999 \\times 0.993 \\times 0.990 = 0.9752$ | $0.9752 - 0.9723 = 0.0029$|\n",
    "| AI (0.999→1.0) | $0.995 \\times 0.998 \\times 0.997 \\times \\mathbf{1.0} \\times 0.993 \\times 0.990 = 0.9733$ | $0.9733 - 0.9723 = 0.0010$|\n",
    "| Decision (0.993→1.0) | $0.995 \\times 0.998 \\times 0.997 \\times 0.999 \\times \\mathbf{1.0} \\times 0.990 = 0.9792$ | $0.9792 - 0.9723 = 0.0069$|\n",
    "| Comm (0.990→1.0) | $0.995 \\times 0.998 \\times 0.997 \\times 0.999 \\times 0.993 \\times \\mathbf{1.0} = 0.9821$ | $0.9821 - 0.9723 = \\mathbf{0.0098}$|\n",
    "\n",
    "The communication module is the most critical component. Perfecting it would improve system reliability by 0.98 percentage points (from 97.23% to 98.21%).\n",
    "\n",
    "4. Expected Failure Hours Per Year\n",
    "\n",
    "$$\\text{Expected failure time} = \\text{Operating hours} \\times \\text{Failure probability} = 10000\\times 0.0277 = 277\\text{ hours per year} \\approx 23.08\\text{ hours per month}$$\n",
    "\n",
    "Expect approximately 277 hours of system failure per year (about 23 hours/month or 0.76 hours/day).\n",
    "\n",
    "5. Safety Assessment\n",
    "\n",
    "- Industry standard: 99.9% reliability (0.1% failure rate)\n",
    "- Our system: 97.23% reliability (2.77& failure rate)\n",
    "\n",
    "$$Gap = 99.9 - 97.23 = 2.67\\%$$\n",
    "\n",
    "NO, the system does NOT meet safety standards. The system has approximately 28 times more failures than acceptable. This is a critical safety gap. The system would fail almost 30 times more often than industry standards permit.\n",
    "\n",
    "</details>"
   ]
  },
  {
   "cell_type": "code",
   "execution_count": null,
   "id": "8c7a789c",
   "metadata": {},
   "outputs": [],
   "source": [
    "# demo\n",
    "ai_reliability_example()"
   ]
  },
  {
   "cell_type": "markdown",
   "id": "e2b9193a",
   "metadata": {},
   "source": [
    "## Law of Total Probability"
   ]
  },
  {
   "cell_type": "markdown",
   "id": "5f88a803",
   "metadata": {},
   "source": [
    "Let's consider the following example (the data is imaginary).\n",
    "\n",
    "A country's energy production is based on 3 main sources. Nuclear produces 60% of the energy, fossil fuels 30%, and renewable energy constitutes 10%. In the first case, the production process is completely functional 95% of the time, in the 2nd case 80% of the time, and in the 3rd case 65% of the time. What is the probability that by signing the contract, you will not have any interruption?\n",
    "\n",
    "Let's denote by $B_1, B_2, B_3$ the energy sources: nuclear, fossil fuels, and renewable energy, respectively. The probabilities of $B_1, B_2, B_3$ are then given according to the statement by $\\mathbb{P}(B_1) = 0.6$, $\\mathbb{P}(B_2) = 0.3$, $\\mathbb{P}(B_3) = 0.1$. Let's denote by $A$ the event $``\\text{contract with uninterrupted service}\"$\n",
    "\n",
    "Let's approach this problem using a probability tree.\n",
    "\n",
    "<center>\n",
    "<img src=\"img/bayes-1.png\" alt=\"Probability tree of three energy sources\" width=\"800px\">\n",
    "</center>\n",
    "\n",
    "Knowing the energy source for a contract, we know the probabilities of proper functioning. Let's add this information to the diagram:\n",
    "\n",
    "<center>\n",
    "<img src=\"img/bayes-2.png\" alt=\"Probability tree of three energy sources and proper functioning\" width=\"800px\">\n",
    "</center>\n",
    "\n",
    "The second part of this tree corresponds to the probabilities of $A$ given $B_i, i=1,2,3$.\n",
    "\n",
    "<center>\n",
    "<img src=\"img/bayes-3.png\" alt=\"Probability tree of three energy sources and proper functioning. Conditional probabilities\" width=\"800px\">\n",
    "</center>\n",
    "\n",
    "Thus, $\\mathbb{P}(A|B_1) = 0.95$, $\\mathbb{P}(A|B_2) = 0.8$, $\\mathbb{P}(A|B_3) = 0.65$.\n",
    "\n",
    "Notice that there are 3 different paths to reach $A$:\n",
    "\n",
    "<center>\n",
    "<img src=\"img/bayes-4.png\" alt=\"Three paths to reach A\" width=\"800px\">\n",
    "</center>\n",
    "\n",
    "So, to answer the question in the statement, we must calculate $\\mathbb{P}(A)$. For this, we will use all these paths, i.e.:\n",
    "$$\\mathbb{P}(A) = \\mathbb{P}(B_1)\\cdot\\mathbb{P}(A|B_1) + \\mathbb{P}(B_2)\\cdot\\mathbb{P}(A|B_2) + \\mathbb{P}(B_3)\\cdot\\mathbb{P}(A|B_3) =$$\n",
    "\n",
    "$$= 0.6\\times 0.95 + 0.3\\times 0.8 + 0.1\\times 0.65 = 0.57+0.24+0.065 = 0.875$$"
   ]
  },
  {
   "cell_type": "markdown",
   "id": "ed7809ad",
   "metadata": {},
   "source": [
    "<div class=\"alert alert-success\">\n",
    "<h4>Definition: Law of Total Probability</h4>\n",
    "\n",
    "Let $(\\Omega, \\mathcal{A}, \\mathbb{P})$ be a probability space. Let $B_1, B_2, ..., B_n$ be an exhaustive system of events (partition of $\\Omega$) such that $\\bigcup_{i=1}^n B_i = \\Omega$ and $\\forall (i,j)\\in \\{1,...,n\\}^2, i\\neq j, B_i \\cap B_j = \\emptyset$. Let $\\forall i=\\overline{1,n}, \\mathbb{P}(B_i)\\neq 0$, then\n",
    "the total probability of event $A \\in \\mathcal{A}$ is given by:\n",
    "$$\\mathbb{P}(A) = \\sum_{i=1}^n\\mathbb{P}(A|B_i)\\cdot \\mathbb{P}(B_i) = \\sum_{i=1}^n\\mathbb{P}(A\\cap B_i)$$\n",
    "\n",
    "\n",
    "</div>"
   ]
  },
  {
   "cell_type": "markdown",
   "id": "50b9d98c",
   "metadata": {},
   "source": [
    "## Bayes' Rule"
   ]
  },
  {
   "cell_type": "markdown",
   "id": "eddbd475",
   "metadata": {},
   "source": [
    "Returning to the same example, imagine that now we are interested in the probability of a particular energy source given that $A$ has been realized, in other words, we would like to find $\\mathbb{P}(B_i|A), i=1,2,3$.\n",
    "\n",
    "We have seen that the conditional probability of $A$ given $B$ is given by: $\\mathbb{P}(A|B) = \\frac{\\mathbb{P}(A\\cap B)}{\\mathbb{P}(B)}$. Then, $\\mathbb{P}(A\\cap B) = \\mathbb{P}(A|B)\\times \\mathbb{P}(B)$.\n",
    "\n",
    "Let's consider two conditional probabilities:\n",
    "\n",
    "1. $\\mathbb{P}(A|B) = \\frac{\\mathbb{P}(A\\cap B)}{\\mathbb{P}(B)} \\Rightarrow \\mathbb{P}(A\\cap B) = \\mathbb{P}(A|B)\\times \\mathbb{P}(B)$\n",
    "2. $\\mathbb{P}(B|A) = \\frac{\\mathbb{P}(B\\cap A)}{\\mathbb{P}(A)}$\n",
    "\n",
    "Let's replace $\\mathbb{P}(B\\cap A)$ with the expression $\\mathbb{P}(B\\cap A) = \\mathbb{P}(A|B)\\times \\mathbb{P}(B)$ in the second expression. We obtain:\n",
    "\n",
    "$$\\mathbb{P}(B|A) = \\frac{\\mathbb{P}(B\\cap A)}{\\mathbb{P}(A)} = \\frac{\\mathbb{P}(A|B)\\times \\mathbb{P}(B)}{\\mathbb{P}(A)}$$\n",
    "\n",
    "We call this formula **Bayes' theorem** or **Bayes' rule**."
   ]
  },
  {
   "cell_type": "markdown",
   "id": "13d74677",
   "metadata": {},
   "source": [
    "<div class=\"alert alert-success\">\n",
    "<h4>Definition: Bayes' Rule</h4>\n",
    "\n",
    "Let $(\\Omega, \\mathcal{A}, \\mathbb{P})$ be a probability space. Let $B_1, B_2, ..., B_n$ be an exhaustive system of events (partition of $\\Omega$) such that $\\bigcup_{i=1}^n B_i = \\Omega$ and $\\forall (i,j)\\in \\{1,...,n\\}^2, i\\neq j, B_i \\cap B_j = \\emptyset$. Let $\\forall i=\\overline{1,n}, \\mathbb{P}(B_i)\\neq 0$. Then:\n",
    "\n",
    "$$\\forall A\\in \\mathcal{A}:\\ \\ \\mathbb{P}(B_k|A) = \\frac{\\mathbb{P}(A|B_k)\\times \\mathbb{P}(B_k)}{\\sum_{i=1}^n \\mathbb{P}(A|B_i)\\times \\mathbb{P}(B_i)} = \\frac{\\mathbb{P}(A|B_k)\\times \\mathbb{P}(B_k)}{\\mathbb{P}(A)}$$\n",
    "\n",
    "**Components:**\n",
    "- $\\mathbb{P}(B_k|A)$: Posterior - what we want to find\n",
    "- $\\mathbb{P}(A|B)$: Likelihood - how likely is evidence given hypothesis\n",
    "- $\\mathbb{P}(B)$: Prior - our initial belief\n",
    "- $\\mathbb{P}(A)$: Evidence - probability of observing the data \n",
    "\n",
    "</div>"
   ]
  },
  {
   "cell_type": "markdown",
   "id": "9638b0cb",
   "metadata": {},
   "source": [
    "## ML Applications"
   ]
  },
  {
   "cell_type": "markdown",
   "id": "b8068a21",
   "metadata": {},
   "source": [
    "<div class=\"alert alert-primary\">\n",
    "<h4>🤖 ML Application Spotlight</h4>\n",
    "<p><strong>Where you'll use conditional probabilities:</strong> Every classification algorithm!</p>\n",
    "<p><strong>Examples:</strong></p>\n",
    "<ul>\n",
    "  <li><strong>Email Classification:</strong> P(Spam | contains \"free\") vs P(contains \"free\" | Spam)</li>\n",
    "  <li><strong>Image Recognition:</strong> P(Dog | pixel_pattern) vs P(pixel_pattern | Dog)</li>\n",
    "  <li><strong>Medical AI:</strong> P(Disease | symptoms) vs P(symptoms | Disease)</li>\n",
    "</ul>\n",
    "</div>"
   ]
  },
  {
   "cell_type": "markdown",
   "id": "8064952f",
   "metadata": {},
   "source": [
    "<div class=\"alert alert-primary\">\n",
    "<h4>🤖 ML Application Spotlight</h4>\n",
    "<p><strong>Naive Bayes Classifier:</strong> Assumes features are independent!</p>\n",
    "<p><strong>Example:</strong> Email spam detection</p>\n",
    "<ul>\n",
    "  <li>Assumes \"contains 'free'\" and \"contains 'money'\" are independent</li>\n",
    "  <li>This assumption is often wrong, but the algorithm still works well!</li>\n",
    "  <li>That's why it's called \"naive\"</li>\n",
    "</ul>\n",
    "<p><strong>When assumption fails:</strong> More sophisticated models needed (e.g., neural networks)</p>\n",
    "</div>"
   ]
  },
  {
   "cell_type": "markdown",
   "id": "9d6c8c27",
   "metadata": {},
   "source": [
    "<div class=\"alert alert-primary\">\n",
    "<h4>🤖 ML Application Spotlight: Model Calibration</h4>\n",
    "<p><b>Problem:</b> An AI model says \"90% confident\" but is only correct 60% of the time!</p>\n",
    "<p><b>Solution:</b> Probability calibration ensures P(correct | \"90% confident\") ≈ 0.9</p>\n",
    "<p><b>Methods:</b></p>\n",
    "<ul>\n",
    "<li><b>Platt Scaling:</b> Use logistic regression to map raw scores to probabilities</li>\n",
    "<li><b>Temperature Scaling:</b> Divide logits by temperature T before softmax</li>\n",
    "<li><b>Reliability Diagrams:</b> Plot predicted vs actual probability</li>\n",
    "</ul>\n",
    "<p><b>Why It Matters:</b> Miscalibrated probabilities in medical AI could be life-threatening!</p>\n",
    "</div>"
   ]
  },
  {
   "cell_type": "markdown",
   "id": "eeda41b4",
   "metadata": {},
   "source": [
    "## Return to Opening Challenge"
   ]
  },
  {
   "cell_type": "markdown",
   "id": "5b51bdba",
   "metadata": {},
   "source": [
    "Let's resume the given information:\n",
    "- disease rate: 0.01 (*1% of population has disease*)\n",
    "- sensitivity: 0.95 (*95% accuracy detecting disease*)\n",
    "- specificity: 0.90 (*90% accuracy identifying healthy patients*)\n",
    "\n",
    "> Is your intuition correct?\n",
    "\n",
    "Before calculating using Bayes' rule, let's analyze a population of 10,000 patients:\n",
    "\n",
    "*Population Breakdown:*\n",
    "- Diseased Patients (1%):\n",
    "\n",
    "Total diseased: 10,000 × 0.01 = 100 patients\n",
    "\n",
    "    * True Positives (test correctly identifies disease): 100 × 0.95 = 95 patients\n",
    "    * False Negatives (test misses disease): 100 × 0.05 = 5 patients\n",
    "\n",
    "- Healthy Patients (99%):\n",
    "\n",
    "Total healthy: 10,000 × 0.99 = 9,900 patients\n",
    "\n",
    "    * True Negatives (test correctly says healthy): 9,900 × 0.90 = 8,910 patients\n",
    "    * False Positives (test incorrectly says diseased): 9,900 × 0.10 = 990 patients\n",
    "\n",
    "*Among All Positive Tests:*\n",
    "\n",
    "Total positive tests = True Positives + False Positives\n",
    "\n",
    "Total positive tests = 95 + 990 = 1,085 tests\n",
    "\n",
    "Of these 1,085 positive tests:\n",
    "\n",
    "- Actually diseased: 95 patients (8.75%)\n",
    "- Actually healthy: 990 patients (91.25%)\n",
    "\n",
    "||Actually Diseased | Actually Healthy | Total |\n",
    "|--|:----:|:---:|---|\n",
    "| **Test Positive** | 95 | **990** | 1085 |\n",
    "| **Test Negative** | 5 | 8,910 | 8,915|\n",
    "| **Total** | 100 | 9,900 | 10,000 |"
   ]
  },
  {
   "cell_type": "markdown",
   "id": "e93fdfb2",
   "metadata": {},
   "source": [
    "> How to calculate using Bayes' rule?\n",
    "\n",
    "Let's define our events:\n",
    "\n",
    "- $D = ``\\text{patient has the disease\"}$\n",
    "- $D' = ``\\text{patient DOES NOT have the disease\"}$\n",
    "- $T = ``\\text{test result is positive\"}$\n",
    "- $T' = ``\\text{test result is negative\"}$\n",
    "\n",
    "Let's translate given  information into probability notation:\n",
    "1. Disease prevalence (Prior Probability):\n",
    "- $P(D) = 0.01$ (*1% of population has disease*)\n",
    "- $P(D') = 1- P(D) = 1 - 0.01 = 0.99$ (*99% of population is healthy*)\n",
    "\n",
    "2. Test sensitivity (True Positive Rate):\n",
    "$P(T | D) = 0.95$ (*95% accuracy detecting disease*)\n",
    "\n",
    "Meaning: *If a patient HAS the disease, there's a 95% chance the test correctly says \"positive\"*\n",
    "\n",
    "3. Test specificity (True Negative Rate):\n",
    "$P(T' | D') = 0.90$ (*90% accuracy identifying healthy patients*)\n",
    "\n",
    "Meaning: *If a patient is HEALTHY, there's a 90% chance the test correctly says \"negative\"*\n",
    "\n",
    "4. False Positive Rate (derived from specificity):\n",
    "$P(T | D') = 1 - P(T' | D') = 1 - 0.90 = 0.10$\n",
    "\n",
    "Meaning: *If a patient is HEALTHY, there's a 10% chance the test incorrectly says \"positive\"*\n",
    "\n",
    "**What we want to find:** \n",
    "\n",
    "Probability patient has disease GIVEN that test is positive, i.e. $P(D | T)$\n",
    "\n",
    "To find that, we can apply Bayes' Rule.\n",
    "\n",
    "Bayes' theorem tells us:\n",
    "\n",
    "$$P(D | T) = \\frac{P(T | D) \\times P(D)}{P(T)} = \\frac{0.95 \\times 0.01}{\\mathbf{???}}$$\n",
    "\n",
    "We need to find $P(T)$. To do so, we can use the Law of Total Probability:\n",
    "\n",
    "A patient can test positive in two ways:\n",
    "\n",
    "- They have the disease AND test positive\n",
    "- They're healthy AND test positive (false positive)\n",
    "\n",
    "<center>\n",
    "<img src=\"img/bayes-doctor.png\" alt=\"Probability to test positive\" width=\"400px\">\n",
    "</center>\n",
    "\n",
    "Hence:\n",
    "\n",
    "$$P(T) = P(D) \\times P(T | D) + P(D') \\times P(T | D') = 0.01 \\times 0.95 + 0.99 \\times 0.1 = 0.0095 + 0.099 = 0.1085$$\n",
    "\n",
    "which means that about 10.85% of all patients will test positive.\n",
    "\n",
    "Back to Bayes' theorem:\n",
    "\n",
    "$$P(D | T) = \\frac{P(T | D) \\times P(D)}{P(T)} = \\frac{0.95 \\times 0.01}{\\mathbf{0.1085}} = 0.0876$$\n",
    "\n",
    "**Even with a 95% accurate test, a positive result only indicates an 8.76% chance the patient actually has the disease!**\n"
   ]
  },
  {
   "cell_type": "code",
   "execution_count": null,
   "id": "b149d97c",
   "metadata": {},
   "outputs": [],
   "source": [
    "# demonstration\n",
    "solve_ai_doctor_paradox()"
   ]
  },
  {
   "cell_type": "markdown",
   "id": "ffbc5295",
   "metadata": {},
   "source": [
    "<div class=\"alert .alert-warning\">\n",
    "<h4>💡 Key Insight: Base Rate Fallacy</h4>\n",
    "\n",
    "1. Low Prevalence Dominates:\n",
    "\n",
    "Even though only 10% of healthy people get false positives, there are SO MANY healthy people (9,900) that false positives (990) vastly outnumber true positives (95)\n",
    "\n",
    "\n",
    "2. The Mathematics:\n",
    "\n",
    "- False positives: 990 patients\n",
    "- True positives: 95 patients\n",
    "- Ratio: 990/95 ≈ 10.4 false positives for every true positive!\n",
    "\n",
    "\n",
    "3. The Intuition Trap:\n",
    "\n",
    "- We focus on test accuracy (95%) and ignore base rate (1%)\n",
    "- Our brains aren't wired to intuitively handle these rare event probabilities\n",
    "</div>"
   ]
  },
  {
   "cell_type": "code",
   "execution_count": null,
   "id": "8da1af8a",
   "metadata": {},
   "outputs": [],
   "source": [
    "# interactive visualisation\n",
    "interactive_bayes_explorer()"
   ]
  },
  {
   "cell_type": "markdown",
   "id": "e2eb5b29",
   "metadata": {},
   "source": [
    "## Common Mistakes"
   ]
  },
  {
   "cell_type": "markdown",
   "id": "b6d5fb18",
   "metadata": {},
   "source": [
    "<div class=\"alert alert-danger\">\n",
    "<h4>⚠️ Common Pitfalls to Avoid:</h4>\n",
    "<ul>\n",
    "  <li><strong>Confusing P(A|B) with P(B|A)</strong> - they're usually different!</li>\n",
    "  <li><strong>Assuming independence without testing</strong> - check your assumptions</li>\n",
    "  <li><strong>Ignoring base rates</strong> - prior probabilities matter enormously</li>\n",
    "  <li><strong>Misinterpreting test results</strong> - always consider false positives/negatives</li>\n",
    "</ul>\n",
    "</div>"
   ]
  },
  {
   "cell_type": "markdown",
   "id": "58173f7c",
   "metadata": {},
   "source": [
    "## Applications in Machine Learning"
   ]
  },
  {
   "cell_type": "markdown",
   "id": "d2b30304",
   "metadata": {},
   "source": [
    "<div class=\"alert alert-secondary\">\n",
    "<h4>🤖 ML Applications Summary</h4>\n",
    "<ul>\n",
    "  <li><strong>Naive Bayes:</strong> Text classification, spam detection, sentiment analysis</li>\n",
    "  <li><strong>Medical AI:</strong> Diagnostic systems with uncertainty quantification</li>\n",
    "  <li><strong>A/B Testing:</strong> Statistical significance of model improvements</li>\n",
    "  <li><strong>Recommender Systems:</strong> Updating user preferences based on behavior</li>\n",
    "  <li><strong>Fraud Detection:</strong> Risk assessment with conditional probabilities</li>\n",
    "</ul>\n",
    "</div>"
   ]
  },
  {
   "cell_type": "markdown",
   "id": "f1d56ec3",
   "metadata": {},
   "source": [
    "## Key Takeaways"
   ]
  },
  {
   "cell_type": "markdown",
   "id": "a6fb76f4",
   "metadata": {},
   "source": [
    "<div class=\"alert alert-summary\">\n",
    "<h4>📋 Key Takeaways</h4>\n",
    "<ol>\n",
    "<li><strong>Conditional Probability:</strong> P(A|B) = P(A∩B) / P(B) - updating beliefs with new information</li>\n",
    "  <li><strong>Independence:</strong> P(A|B) = P(A) - events don't influence each other</li>\n",
    "  <li><strong>Bayes' Theorem:</strong> P(A|B) = P(B|A) × P(A)/P(B) - the foundation of AI classification</li>\n",
    "  <li><strong>Base Rate Fallacy:</strong> Ignoring prior probabilities leads to wrong conclusions</li>\n",
    "  <li><strong>Law of Total Probability</strong>: P(B) = Σ P(B|Aᵢ) × P(Aᵢ)</li>\n",
    "\n",
    "</ol>\n",
    "</div>"
   ]
  },
  {
   "cell_type": "markdown",
   "id": "47dac2b2",
   "metadata": {},
   "source": [
    "## Useful Links"
   ]
  },
  {
   "cell_type": "markdown",
   "id": "16455333",
   "metadata": {},
   "source": [
    "1. Jeremy Orloff, and Jonathan Bloom. *18.05 Introduction to Probability and Statistics*. Spring 2014. Massachusetts Institute of Technology: MIT OpenCourseWare, [https://ocw.mit.edu](https://ocw.mit.edu). License: Creative Commons BY-NC-SA.\n",
    "2. Stéphane Balac, and Olivier Mazet. *Introduction aux Probabilités*. Centre de Mathématiques. Institut National des Sciences Appliquées de Lyon, [https://perso.univ-rennes1.fr/stephane.balac/publis/polypbs.pdf](https://perso.univ-rennes1.fr/stephane.balac/publis/polypbs.pdf)\n",
    "3. MathTutor. *Conditional Probability Tutorial*. [https://www.youtube.com/watch?v=rp9I0x0jqHo](https://www.youtube.com/watch?v=rp9I0x0jqHo)"
   ]
  }
 ],
 "metadata": {
  "kernelspec": {
   "display_name": "venv",
   "language": "python",
   "name": "python3"
  },
  "language_info": {
   "codemirror_mode": {
    "name": "ipython",
    "version": 3
   },
   "file_extension": ".py",
   "mimetype": "text/x-python",
   "name": "python",
   "nbconvert_exporter": "python",
   "pygments_lexer": "ipython3",
   "version": "3.10.11"
  }
 },
 "nbformat": 4,
 "nbformat_minor": 5
}
