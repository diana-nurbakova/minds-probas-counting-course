{
 "cells": [
  {
   "cell_type": "markdown",
   "id": "ced53110",
   "metadata": {},
   "source": [
    "# Elementary Probabilities"
   ]
  },
  {
   "cell_type": "code",
   "execution_count": null,
   "id": "3e092d2f",
   "metadata": {},
   "outputs": [],
   "source": [
    "%%html\n",
    "<link rel=\"stylesheet\" type=\"text/css\" href=\"../styles/styles.css\">"
   ]
  },
  {
   "cell_type": "code",
   "execution_count": null,
   "id": "77dec85a",
   "metadata": {},
   "outputs": [],
   "source": [
    "import numpy as np\n",
    "import matplotlib.pyplot as plt\n",
    "import seaborn as sns\n",
    "from collections import Counter\n",
    "import pandas as pd\n",
    "from itertools import product, combinations, permutations\n",
    "from scipy.special import comb, perm\n",
    "import warnings\n",
    "warnings.filterwarnings('ignore')\n",
    "\n",
    "# Set style for better visualizations\n",
    "plt.style.use('seaborn-v0_8')\n",
    "sns.set_palette(\"husl\")"
   ]
  },
  {
   "cell_type": "code",
   "execution_count": null,
   "id": "41a62013",
   "metadata": {},
   "outputs": [],
   "source": [
    "import sys\n",
    "from pathlib import Path\n",
    "\n",
    "# Add the \"resources\" directory to the path\n",
    "project_root = Path().resolve().parent\n",
    "resources_path = project_root / 'resources'\n",
    "sys.path.insert(0, str(resources_path))"
   ]
  },
  {
   "cell_type": "code",
   "execution_count": null,
   "id": "5174959b",
   "metadata": {},
   "outputs": [],
   "source": [
    "from elementary_probabilities import (create_probability_scale, rolling_dice, print_classif_example, examples_elementary_prob)"
   ]
  },
  {
   "cell_type": "markdown",
   "id": "41955f51",
   "metadata": {},
   "source": [
    "## Learning Objectives"
   ]
  },
  {
   "cell_type": "markdown",
   "id": "0bb9bc5a",
   "metadata": {},
   "source": [
    "By the end of this session, you will be able to:\n",
    "- Calculate elementary probability of an event\n",
    "- Calculate the probability of two events"
   ]
  },
  {
   "cell_type": "markdown",
   "id": "7b3b1ccb",
   "metadata": {},
   "source": [
    "<div class=\"alert alert-info\">\n",
    "<h4>🎯 The Autonomous Vehicle Dilemma</h3>\n",
    "<p><b>Scenario:</b> In 2016, a Tesla autopilot system failed to distinguish between a white truck and a bright sky, resulting in a fatal accident. The AI vision system had never encountered this specific scenario during training.</p>\n",
    "<p><b>Questions:</b></p>\n",
    "<ul>\n",
    "<li>How many possible scenarios must an AI system be prepared for?</li>\n",
    "<li>Can we mathematically quantify uncertainty in AI decisions?</li>\n",
    "<li>What's the probability that an AI encounters a completely new situation?</li>\n",
    "</ul>\n",
    "<p><b>Your Intuitive Guess:</b> On a scale of 1-10, how confident should an AI be when making life-critical decisions?</p>\n",
    "<p><i>Promise: By the end of this lesson, you'll understand the mathematical foundation that could prevent such disasters!</i></p>\n",
    "</div>"
   ]
  },
  {
   "cell_type": "markdown",
   "id": "42636bf7",
   "metadata": {},
   "source": [
    "## Understanding Probability"
   ]
  },
  {
   "cell_type": "markdown",
   "id": "cdd87c95",
   "metadata": {},
   "source": [
    "Think of the following examples:\n",
    "- Coin flip (heads): 0.5\n",
    "<center>\n",
    "<img src=\"img/static_coin.svg\" alt=\"Static coin flip\" width=\"300px\">\n",
    "</center>\n",
    "\n",
    "- Rolling a 6 on fair die: 1/6\n",
    "<center>\n",
    "<img src=\"img/six_dice.svg\" alt=\"Fair dice rolling\" width=\"300px\">\n",
    "</center>\n",
    "\n",
    "- AI correctly identifying a cat: 0.95\n",
    "<center>\n",
    "<img src=\"img/cat_dog_choice.svg\" alt=\"Cat identification by AI\" width=\"300px\">\n",
    "</center>\n",
    "\n",
    "- Email being spam: 0.12\n",
    "<center>\n",
    "<img src=\"img/spam_vs_not_spam.svg\" alt=\"Spam identification by AI\" width=\"500px\">\n",
    "</center>\n",
    "\n",
    "- Autonomous car sensor failure: 0.001\n",
    "<center>\n",
    "<img src=\"https://upload.wikimedia.org/wikipedia/commons/thumb/9/90/Handan_Accident.gif/1125px-Handan_Accident.gif\" alt=\"Tesla accident in Handan, Hebei, China, on January 20, 2016, CC BY-SA 4.0\" width=\"500px\" title=\"Source: Wikipedia https://upload.wikimedia.org/wikipedia/commons/thumb/9/90/Handan_Accident.gif/1125px-Handan_Accident.gif\">\n",
    "</center>\n",
    "\n",
    "> What do they have in common?\n",
    "\n",
    "A result of these events is **uncertain**.\n",
    "\n",
    "<div class=\"alert alert-success\">\n",
    "<h4>Intuitive Definition: Probability</h4>\n",
    "\n",
    "<b>Probability</b> of an event $A$, denoted $P(A)$, is a measure of how likely that event is to occur.\n",
    "\n",
    "- Range: $0 \\leq P(A) \\leq 1$\n",
    "- $P(A) = 0$: Event will never happen\n",
    "- $P(A) = 1$: Event will always happen\n",
    "- $P(A) = 0.5$: Event happens half the time\n",
    "</div>"
   ]
  },
  {
   "cell_type": "code",
   "execution_count": null,
   "id": "1b6aef7b",
   "metadata": {},
   "outputs": [],
   "source": [
    "# visualise probability scale\n",
    "create_probability_scale()"
   ]
  },
  {
   "cell_type": "markdown",
   "id": "c51035bb",
   "metadata": {},
   "source": [
    "<div class=\"alert alert-primary\">\n",
    "<h4>🤖 ML Application Spotlight: AI Confidence Scores</h4>\n",
    "<p>In machine learning, models output <b>confidence scores</b> that are essentially probabilities:</p>\n",
    "<ul>\n",
    "<li><b>Image Classification:</b> \"89% confident this is a cat\"</li>\n",
    "<li><b>Spam Detection:</b> \"12% chance this email is spam\"</li>\n",
    "<li><b>Medical Diagnosis:</b> \"95% probability of disease presence\"</li>\n",
    "<li><b>Autonomous Driving:</b> \"99.9% sure this is a stop sign\"</li>\n",
    "</ul>\n",
    "<p><b>Critical Question:</b> How do we ensure these probabilities are calibrated correctly?</p>\n",
    "</div>"
   ]
  },
  {
   "cell_type": "markdown",
   "id": "168b0229",
   "metadata": {},
   "source": [
    "## Sample Spaces and Events"
   ]
  },
  {
   "cell_type": "markdown",
   "id": "03f256ba",
   "metadata": {},
   "source": [
    "<div class=\"alert alert-success\">\n",
    "<h4>Formal Definitions</h4>\n",
    "\n",
    "<b>Random Experiment:</b> A process whose outcome is uncertain and can be repeated under identical conditions.\n",
    "\n",
    "<b>Sample Space ($\\Omega$):</b> The set of all possible outcomes of a random experiment.\n",
    "\n",
    "<b>Event ($A$):</b> A subset of the sample space - a collection of outcomes we're interested in.\n",
    "\n",
    "<b>Elementary Event:</b> A single outcome $\\{\\omega\\}$ from the sample space.\n",
    "</div>"
   ]
  },
  {
   "cell_type": "markdown",
   "id": "a29c52c8",
   "metadata": {},
   "source": [
    "Let's consider several examples.\n",
    "\n",
    "**Example 1: Rolling a Six-Sided Die**\n",
    "\n",
    "- Sample space $\\Omega = \\{1, 2, 3, 4, 5, 6\\}$\n",
    "- Size of sample space: $|\\Omega| = \\text{\\# outcomes} = 6$\n",
    "\n",
    "We consider the following events:\n",
    "- $\\text{Event A} = \\text{`rolling even number'} = \\{2, 4, 6\\}$\n",
    "- $\\text{Event B} = \\text{`rolling odd number'} = \\{1, 3, 5\\}$\n",
    "- $\\text{Event C} = \\text{`rolling ≥ 4'} = \\{4, 5, 6\\}$"
   ]
  },
  {
   "cell_type": "code",
   "execution_count": null,
   "id": "e4a254d4",
   "metadata": {},
   "outputs": [],
   "source": [
    "# visualise the example\n",
    "rolling_dice()"
   ]
  },
  {
   "cell_type": "markdown",
   "id": "401079f3",
   "metadata": {},
   "source": [
    "**Example 2: AI Image Classification System**\n",
    "\n",
    "- Sample space $\\Omega = \\{'cat', 'dog', 'bird', 'car', 'tree', 'person', 'unknown'\\}$\n",
    "- Size of sample space: $|\\Omega| = \\text{\\# outcomes} = 7$\n",
    "\n",
    "Consider the following events:\n",
    "- $\\text{Event A} = \\text{`animal detected'} = \\{'cat', 'dog', 'bird'\\}$\n",
    "- $\\text{Event B} = \\text{`object detected'} = \\{'car', 'tree'\\}$\n",
    "- $\\text{Event C} = \\text{`classification error'} = \\{'unknown'\\}$"
   ]
  },
  {
   "cell_type": "code",
   "execution_count": null,
   "id": "238271f8",
   "metadata": {},
   "outputs": [],
   "source": [
    "# print example\n",
    "print_classif_example()"
   ]
  },
  {
   "cell_type": "markdown",
   "id": "aa898299",
   "metadata": {},
   "source": [
    "<div class=\"alert alert-primary\">\n",
    "<h4>🤖 ML Application Spotlight: Cybersecurity Intrusion Detection</h4>\n",
    "<p><b>Scenario:</b> An AI system monitors network traffic to detect cyber attacks.</p>\n",
    "<p><b>Sample Space:</b> Ω = {normal_traffic, ddos_attack, malware, phishing, sql_injection, data_breach}</p>\n",
    "<p><b>Events of Interest:</b></p>\n",
    "<ul>\n",
    "<li>A = \"Attack detected\" = {ddos_attack, malware, phishing, sql_injection, data_breach}</li>\n",
    "<li>B = \"High-severity threat\" = {malware, data_breach}</li>\n",
    "<li>C = \"Network overload\" = {ddos_attack}</li>\n",
    "</ul>\n",
    "<p><b>Business Impact:</b> P(A) helps determine security budget allocation!</p>\n",
    "</div>"
   ]
  },
  {
   "cell_type": "markdown",
   "id": "65808454",
   "metadata": {},
   "source": [
    "<div class=\"alert .alert-exercise\">\n",
    "<h4>MINI-EXERCISE</h4>\n",
    "\n",
    "A federated learning system has 5 client devices: phone, laptop, tablet, IoT sensor, server.\n",
    "\n",
    "Define the sample space and events for:\n",
    "1. \"Mobile device participates\"\n",
    "2. \"High computational power available\"\n",
    "\n",
    "Which devices belong to each event?\n",
    "</div>\n",
    "\n",
    "[https://app.wooclap.com/EDPRJU](https://app.wooclap.com/EDPRJU)\n",
    "\n",
    "<details>\n",
    "<summary>Reveal solution</summary>\n",
    "\n",
    "- Sample space: $\\Omega = \\{phone, laptop, tablet, IoT sensor, server\\}$\n",
    "- Sample size: $|\\Omega| = 5$\n",
    "\n",
    "- $\\text{Event A} = \\text{\"Mobile device participates\"} = \\{phone, tablet\\}, |A| = 2$\n",
    "\n",
    "*Reasoning*: Mobile devices are those designed for portability. The phone and tablet are mobile, while laptop (though portable, typically considered semi-mobile), IoT sensor (usually stationary/embedded), and server (stationary) don't fit this category. In federated learning literature, \"mobile\" typically refers to personal mobile devices (phones/tablets).\n",
    "\n",
    "- $\\text{Event B} = \\text{\"High computational power available\"} = \\{laptop, server\\}, |B| = 2$\n",
    "\n",
    "*Reasoning*: \n",
    "- Server: Highest computational resources (multi-core CPUs, large RAM, GPUs)\n",
    "- Laptop: Significant compute capability (modern CPUs, 8-32GB RAM)\n",
    "- Phone/Tablet: Limited compute (mobile processors, 4-8GB RAM typically)\n",
    "- IoT sensor: Minimal compute (microcontrollers, very limited resources)\n",
    "\n",
    "</details>"
   ]
  },
  {
   "cell_type": "markdown",
   "id": "3ae424f2",
   "metadata": {},
   "source": [
    "## Elementary Probability of an Event"
   ]
  },
  {
   "cell_type": "markdown",
   "id": "dfbecfc3",
   "metadata": {},
   "source": [
    "<div class=\"alert alert-success\">\n",
    "<h4>Definition: Elementary Probability</h4>\n",
    "\n",
    "For experiments with <i>equally likely outcomes</i>, the <b>probability</b> of an event $A$ is:\n",
    "\n",
    "$$P(A) = \\frac{\\text{\\# favorable outcomes}}{\\text{\\# possible outcomes}} = \\frac{|A|}{|\\Omega|}$$\n",
    "\n",
    "</div>\n",
    "\n",
    "<center>\n",
    "<img src=\"img/venn-event-a.png\" alt=\"Venn diagram of Event A\" width=\"400px\">\n",
    "</center>\n",
    "\n",
    "Examples:\n",
    "\n",
    "- Rolling a die: $P(\\text{rolling a 3}) = 1/6$\n",
    "- Drawing a card: $P(\\text{drawing a heart}) = 13/52 = 1/4$\n",
    "- Coin flip: $P(heads) = 1/2$"
   ]
  },
  {
   "cell_type": "code",
   "execution_count": null,
   "id": "83a0af28",
   "metadata": {},
   "outputs": [],
   "source": [
    "# examples\n",
    "examples_elementary_prob()"
   ]
  },
  {
   "cell_type": "markdown",
   "id": "8d60af67",
   "metadata": {
    "vscode": {
     "languageId": "html"
    }
   },
   "source": [
    "<div class=\"alert alert-exercise\">\n",
    "<h4>Calculation Example: Bikes and Scooters</h4>\n",
    "A bike station has 18 city bikes and 12 electric scooters. If we randomly choose 4 vehicles, what is the probability of having 2 city bikes and 2 scooters?\n",
    "</div>\n",
    "\n",
    "<details>\n",
    "<summary>Reveal solution</summary>\n",
    "1. Define the event\n",
    "\n",
    "Let's define the event: $A = ``\\text{having 2 bikes and 2 scooters}\"$\n",
    "\n",
    "The total number of vehicles available at the station is: $18 + 12 = 30$.\n",
    "\n",
    "We are in the case of a finite sample space. So, to calculate the probability of $A$, we can use the ratio: $\\mathbb{P}(A) = \\frac{\\text{\\# favorable results}}{\\text{\\# possible results}}$\n",
    "\n",
    "2. Calculate possible results\n",
    "\n",
    "This involves choosing 4 vehicles from 30. How many possible choices?\n",
    "\n",
    "When order doesn't matter in this case, it's about combinations:\n",
    "\n",
    "$$C(30, 4) = \\begin{pmatrix}30 \\\\ 4\\end{pmatrix} = \\frac{30!}{4!(30-4)!} = \\frac{30!}{4!26!} = \\frac{27\\times 28\\times 29\\times 30}{4\\times 3\\times 2\\times 1} = 27\\times 7\\times 29\\times 5 = 27405$$\n",
    "\n",
    "3. Calculate favourable results\n",
    "\n",
    "Now, we'll calculate the number of favorable results based on the fundamental counting principle. For this, we will calculate:\n",
    "\n",
    "* the number of ways to choose 2 bikes from 18 available: $C(18, 2) = \\begin{pmatrix}18 \\\\ 2\\end{pmatrix} =\\frac{18!}{2!(18-2)!} = \\frac{18!}{2!16!} = \\frac{18\\times 17}{2\\times 1} = 153$\n",
    "* the number of ways to choose 2 scooters from 12: $C(12,2) = \\begin{pmatrix}12 \\\\ 2\\end{pmatrix} =\\frac{12!}{2!(12-2)!} = \\frac{12!}{2!10!} = \\frac{12\\times 11}{2\\times 1} = 66$\n",
    "\n",
    "and take their product: $\\begin{pmatrix}18 \\\\ 2\\end{pmatrix} \\times \\begin{pmatrix}12 \\\\ 2\\end{pmatrix} = 153\\times 66 = 10098$\n",
    "\n",
    "4. Calculate probability\n",
    "\n",
    "Let's return to the probability formula for $A$:\n",
    "\n",
    "$$\\mathbb{P}(A) = \\frac{\\text{\\# favorable results}}{\\text{\\# possible results}} = \\frac{\\begin{pmatrix}18 \\\\ 2\\end{pmatrix} \\times \\begin{pmatrix}12 \\\\ 2\\end{pmatrix}}{\\begin{pmatrix}30 \\\\ 4\\end{pmatrix}}= \\frac{10098}{27405} \\approx 0.368 $$\n",
    "\n",
    "</details>"
   ]
  },
  {
   "cell_type": "code",
   "execution_count": null,
   "id": "86554b2d",
   "metadata": {},
   "outputs": [],
   "source": [
    "# bikes and e-scooter example\n",
    "total_outcomes = comb(30, 4, exact=True)\n",
    "print(f\"# possible results: {total_outcomes}\")\n",
    "# choose 2 bikes from 18\n",
    "bikes = comb(18, 2, exact=True)\n",
    "print(f\"# possibilities to choose 2 bikes from 18: {bikes}\")\n",
    "# choose 2 e-scooters from 12\n",
    "scooters = comb(12, 2, exact=True)\n",
    "print(f\"# possibilities to choose 2 e-scooters from 12: {scooters}\")\n",
    "# calculate favourable results\n",
    "favourable_outcomes = bikes * scooters\n",
    "print(f\"# favourable results: {favourable_outcomes}\")\n",
    "# calculate probability\n",
    "prob = favourable_outcomes / total_outcomes\n",
    "print(f\"probability of having 2 city bikes and 2 e-scooters: {prob}\")"
   ]
  },
  {
   "cell_type": "markdown",
   "id": "5a97a9f2",
   "metadata": {},
   "source": [
    "### Probability of the Complementary Event"
   ]
  },
  {
   "cell_type": "markdown",
   "id": "09bbee0c",
   "metadata": {},
   "source": [
    "What is the *complementary event* to $A$ or in other words, the *opposite event*? \n",
    "\n",
    "<center>\n",
    "<img src=\"img/venn-event-complement.png\" alt=\"Venn diagram of the complementary event to A\" width=\"400px\">\n",
    "</center>\n",
    "\n",
    "Consider an example of rolling a dice.\n",
    "\n",
    "Let $A = \\text{``obtaining an odd result}\" = \\{1,3,5\\}$. Then, $\\bar{A} = ``\\text{not obtaining an odd result}\" = \\{2,4,6\\}$. \n",
    "\n",
    "Let's calculate the probability of $\\bar{A}$ by applying the same formula as in the previous case:\n",
    "\n",
    "$$\\mathbb{P}(\\bar{A}) = \\frac{\\text{\\# favorable results}}{\\text{\\# possible results}} = \\frac{card(\\bar{A})}{card(\\Omega)} = \\frac{card(\\{2,4,6\\})}{card(\\{1,2,3,4,5,6\\})} = \\frac{3}{6} = 1/2$$\n",
    "\n",
    "We can see that:\n",
    "\n",
    "$$\\mathbb{P}(\\Omega) = \\frac{card(\\Omega)}{card(\\Omega)} = \\mathbb{P}(A) + \\mathbb{P}(\\bar{A}) = 1$$\n",
    "\n",
    "<center>\n",
    "<img src=\"img/venn-event-and-compliment.png\" alt=\"Venn diagram of the event A and its complementary\" width=\"400px\">\n",
    "</center>\n",
    "\n",
    "Hence:\n",
    "\n",
    "<div class=\"alert alert-success\" style='background-color:white'>\n",
    "\n",
    "$$\\mathbb{P}(A) = 1 - \\mathbb{P}(\\bar{A})$$\n",
    "\n",
    "</div>"
   ]
  },
  {
   "cell_type": "markdown",
   "id": "64b8d85d",
   "metadata": {},
   "source": [
    "## Probability of Two Events"
   ]
  },
  {
   "cell_type": "markdown",
   "id": "80ec9edc",
   "metadata": {},
   "source": [
    "Now let's consider two events $A\\in \\mathcal{F}$ and $B\\in \\mathcal{F}$ in a probability space $(\\Omega, \\mathcal{F}, \\mathbb{P})$. Depending on the relationship between $A$ and $B$, the probability calculation will be done in different ways.\n",
    "\n",
    "Let's return to the example of rolling a die. As a reminder, $\\Omega = \\{1,2,3,4,5,6\\}$."
   ]
  },
  {
   "cell_type": "markdown",
   "id": "63587343",
   "metadata": {},
   "source": [
    "### $A$ and $B$\n",
    "\n",
    "Let $A = ``\\text{obtaining an even result}\" = \\{2,4,6\\}$ and $B = ``\\text{obtaining a result}\\geq 4\" = \\{4,5,6\\}$.\n",
    "Suppose what we are looking for is the probability of having $A$ **and** $B$ realized.\n",
    "\n",
    "From a set theory point of view, this is the intersection of $A$ and $B$, $A\\cap B = \\{\\omega|(\\omega \\in A) \\&\\& (\\omega \\in B) \\}$ or in the form of a Venn diagram:\n",
    "\n",
    "<center>\n",
    "<img src=\"img/venn-event-intersection.png\" alt=\"Venn diagram of the intersection of events A and B\" width=\"400px\">\n",
    "</center>\n",
    "\n",
    "$A\\cap B = \\{2,\\mathbf{4},\\mathbf{6}\\} \\cap \\{\\mathbf{4},5,\\mathbf{6}\\} = \\{4,6\\} \\neq \\emptyset$\n",
    "\n",
    "Then: $\\mathbb{P}(A\\cap B) = \\frac{card(A\\cap B)}{card(\\Omega)} = \\frac{card(\\{4,6\\})}{card(\\{1,2,3,4,5,6\\})} = \\frac{2}{6} = \\frac{1}{3}$\n",
    "\n",
    "<div class=\"alert alert-success\" style='background-color:white'>\n",
    "\n",
    "$$\\mathbb{P}(A\\cap B) = \\frac{card(A\\cap B)}{card(\\Omega)}$$\n",
    "\n",
    "</div>"
   ]
  },
  {
   "cell_type": "markdown",
   "id": "62321f80",
   "metadata": {},
   "source": [
    "### $A$ or $B$"
   ]
  },
  {
   "cell_type": "markdown",
   "id": "e0cdf8cb",
   "metadata": {},
   "source": [
    "Now we will be interested in the case of $A$ **or** $B$. Two options are possible:\n",
    "\n",
    "1. $A$ and $B$ are disjoint, i.e. $A\\cap B = \\emptyset$\n",
    "2. $A\\cap B \\neq \\emptyset$"
   ]
  },
  {
   "cell_type": "markdown",
   "id": "06c132e8",
   "metadata": {},
   "source": [
    "#### Case 1: $\\mathbb{P}(A\\cup B)$ if $A\\cap B = \\emptyset$"
   ]
  },
  {
   "cell_type": "markdown",
   "id": "2f0f8f9a",
   "metadata": {},
   "source": [
    "Let $A = ``\\text{obtaining an even result}\" = \\{2,4,6\\}$ and $B = ``\\text{obtaining a 3}\" = \\{3\\}$.\n",
    "\n",
    "Suppose we are looking for the probability of the event \"obtaining an even result or a 3\". From a set theory point of view, this corresponds to the union of $A$ and $B$, i.e. $A\\cup B = \\{\\omega| (\\omega\\in A)||(\\omega\\in B)\\}$. Note that in our case $A\\cap B = \\emptyset$.\n",
    "\n",
    "In the form of a Venn diagram, the union of $A$ and $B$ where $A\\cap B = \\emptyset$ is given by:\n",
    "\n",
    "<center>\n",
    "<img src=\"img/venn-event-union-disjoint.png\" alt=\"Venn diagram of the union of disjoint events A and B\" width=\"400px\">\n",
    "</center>\n",
    "\n",
    "$A\\cup B = \\{2,4,6\\} \\cup \\{3\\} = \\{2,3,4,6\\}$\n",
    "\n",
    "Then: $\\mathbb{P}(A\\cup B) = \\frac{card(A\\cup B)}{card(\\Omega)} = \\frac{card(A) + card(B)}{card(\\Omega)} = \\mathbb{P}(A) + \\mathbb{P}(B) = \\frac{card(\\{2,3,4,6\\})}{card(\\{1,2,3,4,5,6\\})} = \\frac{4}{6} = \\frac{2}{3}$\n",
    "\n",
    "<div class=\"alert alert-success\" style='background-color:white'>\n",
    "\n",
    "If $A\\cap B = \\emptyset$, then:\n",
    "$$\\mathbb{P}(A\\cup B) = \\frac{card(A\\cup B)}{card(\\Omega)} = \\frac{card(A) + card(B)}{card(\\Omega)} = \\mathbb{P}(A) + \\mathbb{P}(B)$$\n",
    "\n",
    "\n",
    "</div>\n"
   ]
  },
  {
   "cell_type": "markdown",
   "id": "040e04d4",
   "metadata": {},
   "source": [
    "#### Case 2: $\\mathbb{P}(A\\cup B)$ if $A\\cap B \\neq \\emptyset$"
   ]
  },
  {
   "cell_type": "markdown",
   "id": "110f6644",
   "metadata": {},
   "source": [
    "Let $A = ``\\text{obtaining an even result}\" = \\{2,4,6\\}$ and $B = ``\\text{obtaining a 3 or a 6}\" = \\{3, 6\\}$.\n",
    "\n",
    "Note that in this case, $A\\cap B = \\{6\\} \\neq \\emptyset$.\n",
    "\n",
    "In terms of a Venn diagram:\n",
    "\n",
    "<center>\n",
    "<img src=\"img/venn-event-union-account-intersection.png\" alt=\"Venn diagram of the union of events A and B\" width=\"400px\">\n",
    "</center>\n",
    "\n",
    "$A \\cup B = \\{2,4,6\\} \\cup \\{3,6\\} = \\{2,3,4,\\underbrace{\\mathbf{6},\\mathbf{6}}_{\\text{duplicate!}}\\} = \\{2,3,4,\\mathbf{6}\\}$\n",
    "\n",
    "Note that we keep only one instance of 6 in the resulting set because otherwise we risk having duplicates. In this case, $card(A\\cup B)\\neq card(A) + card(B)$.\n",
    "\n",
    "Thus, to avoid counting the elements of the intersection $A\\cap B$ twice, we will remove them:\n",
    "$\\mathbb{P}(A\\cup B) =\\frac{card(A\\cup B)}{card(\\Omega)}= \\mathbb{P}(A) + \\mathbb{P}(B) - \\mathbb{P}(A\\cap B) = \\frac{3}{6} + \\frac{2}{6} - \\frac{1}{6} = \\frac{4}{6} = \\frac{2}{3}$\n",
    "\n",
    "<div class=\"alert alert-success\" style='background-color:white'>\n",
    "\n",
    "For $A\\in \\mathcal{F}$ and $B \\in \\mathcal{F}$:\n",
    "$$\\mathbb{P}(A\\cup B) = \\mathbb{P}(A) + \\mathbb{P}(B) - \\mathbb{P}(A\\cap B)$$\n",
    "\n",
    "Note that if $A\\cap B = \\emptyset$, then $\\mathbb{P}(A\\cap B) = \\mathbb{P}(\\emptyset) = 0$. Therefore, the expression becomes: $\\mathbb{P}(A\\cup B) = \\mathbb{P}(A) + \\mathbb{P}(B) - \\mathbb{P}(A\\cap B) = \\mathbb{P}(A) + \\mathbb{P}(B) - 0 = \\mathbb{P}(A) + \\mathbb{P}(B)$\n",
    "</div>"
   ]
  },
  {
   "cell_type": "markdown",
   "id": "959d46bb",
   "metadata": {},
   "source": [
    "### Union of $n$ events"
   ]
  },
  {
   "cell_type": "markdown",
   "id": "8caf763e",
   "metadata": {},
   "source": [
    "This property can be generalised for the case of $n$ events.\n",
    "\n",
    "Note that in the case of multiple events (sets), the intersections of all combinations of sets must be taken into account.\n",
    "\n",
    "Here is the Venn diagram for the case of three events:\n",
    "\n",
    "<center>\n",
    "<img src=\"img/venn-event-union-n-events.png\" alt=\"Venn diagram of the union of n events\" width=\"400px\">\n",
    "</center>\n",
    "\n",
    "The formula is then given by:\n",
    "\n",
    "<div class=\"alert alert-success\" style='background-color:white'>\n",
    "\n",
    "Let $A_1, A_2, ..., A_n\\in \\mathcal{F}$:\n",
    "\n",
    "$$\\mathbb{P}\\left(\\bigcup_{i=1}^n A\\right) = \\sum_{i=1}^n \\mathbb{P}(A_i) - \\sum_{(i,j)|1\\leq i<j\\leq n} \\mathbb{P}(A_i\\cap A_j) + \\sum_{(i,j,k)|1\\leq i<j<k\\leq n} \\mathbb{P}(A_i\\cap A_j \\cap A_k) + ... + (-1)^{n-1}\\mathbb{P}(A_i\\cap A_j \\cap ... \\cap A_n)$$\n",
    "\n",
    "or\n",
    "\n",
    "$$\\mathbb{P}\\left(\\bigcup_{i=1}^n A\\right) = \\sum_{k=1}^n (-1)^{k-1} \\sum_{(i_1,...,i_k)|1\\leq i_1 <...<i_k\\leq n} \\mathbb{P}(A_{i_1}\\cap ...\\cap A_{i_k})$$\n",
    "\n",
    "\n",
    "</div>\n"
   ]
  },
  {
   "cell_type": "markdown",
   "id": "84037c8c",
   "metadata": {},
   "source": [
    "<div class=\"alert alert-exercise\">\n",
    "<h4>Calculation Example: Rolling a dice twice</h4>\n",
    "\n",
    "We roll a die twice. The sample space is defined as $\\Omega = \\{(i,j)\\in \\mathbb{N}^2, 1\\leq i\\leq 6, 1\\leq j\\leq 6\\}$, $\\mathcal{A} = \\mathcal{P}(\\Omega)$. What is the probability that the sum of the points is 3 or 4?\n",
    "\n",
    "</div>\n",
    "\n",
    "<details>\n",
    "<summary>Reveal solution</summary>\n",
    "Let's represent visually what the sum of the two rolls looks like:\n",
    "\n",
    "|  dice 1\\dice 2     | **1** | **2** | **3** | **4** | **5** | **6** |\n",
    "|-------|-------|-------|-------|-------|-------|-------|\n",
    "| **1** | 2     | <mark>**3**</mark> | <mark>**4**</mark> | 5     | 6     | 7     |\n",
    "| **2** | <mark>**3**</mark> | <mark>**4**</mark> | 5     | 6     | 7     | 8     |\n",
    "| **3** | <mark>**4**</mark> | 5     | 6     | 7     | 8     | 9     |\n",
    "| **4** | 5     | 6     | 7     | 8     | 9     | 10    |\n",
    "| **5** | 6     | 7     | 8     | 9     | 10    | 11    |\n",
    "| **6** | 7     | 8     | 9     | 10    | 11    | 12    |\n",
    "\n",
    "We note that the total number of possible outcomes is $6 \\times 6 = 36$.\n",
    "\n",
    "Let us break down the overall event $A' = ``\\text{the sum of points is either 3 or 4}\"$ into two separate events $A$ and $B$ defined as follows:\n",
    "\n",
    "$$\\begin{matrix}\n",
    "A = ``\\text{the sum = 3}\" \\\\\n",
    "\\mathbf{or} \\\\\n",
    "B  = ``\\text{the sum = 4}\"\n",
    "\\end{matrix}$$\n",
    "\n",
    "We are interested in $A$ or $B$, i.e. $A' = A\\cap B$.\n",
    "\n",
    "Note that $A$ and $B$ are disjoint, i.e. $A\\cap B = \\emptyset$:\n",
    "\n",
    "<center>\n",
    "<img src=\"img/venn-event-union-disjoint.png\" alt=\"Venn diagram of the union of disjoint events A and B\" width=\"400px\">\n",
    "</center>\n",
    "\n",
    "Hence, \n",
    "$$\\mathbb{P}(A\\cup B) = \\mathbb{P}(A) + \\mathbb{P}(B) - \\mathbb{P}(A\\cap B) = \\mathbb{P}(A) + \\mathbb{P}(B) - 0 = \\mathbb{P}(A) + \\mathbb{P}(B)$$\n",
    "\n",
    "Therefore, the solution is limited to finding $\\mathbb{P}(A)$ and $\\mathbb{P}(B)$.\n",
    "\n",
    "1. $\\mathbb{P}(A) = \\mathbb{P}(``\\text{the sum of points is 3}\")$\n",
    "\n",
    "As we can see in the table above, the event $A$ happens in **two cases**: \n",
    "- roll 1 gives 1 and roll 2 gives 2\n",
    "- roll 1 gives 2 and roll 1 gives 1\n",
    "\n",
    "Then $\\mathbb{P}(A) = \\frac{2}{36}$\n",
    "\n",
    "2. $\\mathbb{P}(B) = \\mathbb{P}(``\\text{the sum of points is 4}\")$\n",
    "\n",
    "As we can see in the table above, the event $B$ happens in **three cases**: \n",
    "- roll 1 gives 1 and roll 2 gives 3\n",
    "- roll 1 gives 3 and roll 1 gives 1\n",
    "- roll 1 gives 2 and roll 2 gives 2\n",
    "\n",
    "Then $\\mathbb{P}(B) = \\frac{3}{36}$\n",
    "\n",
    "3. Calculate $\\mathbb{P}(A\\cup B)$\n",
    "\n",
    "$$\\mathbb{P}(A\\cup B) = \\mathbb{P}(A) + \\mathbb{P}(B) = \\frac{2}{36} + \\frac{3}{36} = \\frac{5}{36}$$\n",
    "\n",
    "</details>"
   ]
  },
  {
   "cell_type": "code",
   "execution_count": null,
   "id": "dcd81990",
   "metadata": {},
   "outputs": [],
   "source": [
    "dice_1 = [1, 2, 3, 4, 5, 6]\n",
    "dice_2 = [1, 2, 3, 4, 5, 6]\n",
    "# Create sample space Ω\n",
    "sample_space = [(i, j) for i in dice_1 for j in dice_2]\n",
    "print(f\"Sample Space Ω has |Ω| = {len(sample_space)} outcomes\\n\")\n",
    "\n",
    "# Create sum table using numpy\n",
    "sum_table = np.array([[i + j for j in dice_2] for i in dice_1])\n",
    "df = pd.DataFrame(\n",
    "    sum_table,\n",
    "    index=dice_1,\n",
    "    columns=dice_2\n",
    ")\n",
    "print(f\"Sum Table (Die 1 + Die 2):\\n{df}\")\n",
    "\n",
    "# Define the event: sum is 3 or 4\n",
    "target_sums = [3, 4]\n",
    "favorable_outcomes = [(i, j) for i, j in sample_space if i + j in target_sums]\n",
    "# display favourable outcomes\n",
    "for target_sum in target_sums:\n",
    "    outcomes = [(i, j) for i, j in favorable_outcomes if i + j == target_sum]\n",
    "    print(f\"Sum = {target_sum}: {outcomes} → {len(outcomes)} outcome(s)\")\n",
    "print(f\"\\nTotal favourable outcomes: |A| = {len(favorable_outcomes)}\")\n",
    "# Calculate probability\n",
    "probability = len(favorable_outcomes) / len(sample_space)\n",
    "print(f\"P(sum is 3 or 4) = |A|/|Ω| = {len(favorable_outcomes)}/{len(sample_space)}\")\n",
    "print(f\"P(sum is 3 or 4) = {probability:.4f}\")\n",
    "print(f\"P(sum is 3 or 4) ≈ {probability*100:.2f}%\")"
   ]
  },
  {
   "cell_type": "markdown",
   "id": "9c6c1e35",
   "metadata": {},
   "source": [
    "## Probability Measure\n",
    "<div class=\"alert alert-danger\">\n",
    "<b>Limitations of the definition of elementary probability:</b>\n",
    "\n",
    "1. Requires equally likely outcomes: \n",
    "\n",
    "What if outcomes aren't equally likely? The counting approach doesn't work here. E.g.: a biased coin with $P(H) = 0.7$, $P(T) = 0.3$, $P(\\text{rain tomorrow}) \\neq P(\\text{no rain})$\n",
    "\n",
    "2. Only works for finite sample spaces:\n",
    "\n",
    "What if we are dealing with continuous measurements (e.g. *What's the probability the temperature is exactly 23.5°C?*)? or infinite sequences (e.g. *What's the probability of getting heads eventually in infinite coin flips?*). We cannot \"count\" outcomes in continuous or infinite spaces.\n",
    "\n",
    "3. Cannot handle complex events:\n",
    "\n",
    "What if we are dealing with events in high-dimensional spaces?  \n",
    "</div>"
   ]
  },
  {
   "cell_type": "markdown",
   "id": "8d1bba31",
   "metadata": {},
   "source": [
    "<div class=\"alert alert-success\">\n",
    "<h4>Definition: Probability Measure</h4>\n",
    "<p>A <b>probability measure</b> P is a specific type of measure that quantifies the likelihood of events in a probability space. Let Ω be a sample space (the set of all possible outcomes). A probability measure is a function P that maps from a σ-algebra F of subsets of Ω to the real numbers [0,1]:\n",
    "\n",
    "$$P : F \\rightarrow [0, 1]$$\n",
    "\n",
    "such that the following three axioms (Kolmogorov axioms) are satisfied:</p>\n",
    "<ol>\n",
    "<li><b>Non-negativity:</b> For any event A ∈ F: P(A) ≥ 0</li>\n",
    "<li><b>Normalisation (Unitarity):</b> The probability of the entire sample space is 1: P(Ω) = 1 (something must happen)</li>\n",
    "<li><b>Countable Additivity (σ-additivity):</b> For any countable sequence of pairwise disjoint events {A₁, A₂, A₃, ...} ⊆ F (meaning Aᵢ ∩ Aⱼ = ∅ for i ≠ j),\n",
    "\n",
    "$$P\\left(\\bigcup_{i=1}^\\infty A_i\\right) = \\sum_{i=1}^\\infty P(A_i)$$\n",
    "</li>\n",
    "</ol>\n",
    "\n",
    "The triple (Ω, F, P) is called a <b>probability space</b>, where:\n",
    "\n",
    "- Ω is the sample space\n",
    "- F is a σ-algebra of events (subsets of Ω)\n",
    "- P is the probability measure satisfying the three axioms above\n",
    "\n",
    "</div>"
   ]
  },
  {
   "cell_type": "markdown",
   "id": "37a5c723",
   "metadata": {},
   "source": [
    "$\\sigma$-algebra can be seen as a collection of \"measurable\" or \"observable\" events that we can assign probabilities to. If we can measure certain events, we should also be able to measure:\n",
    "\n",
    "- Their complements (if we can measure \"it rains,\" we should measure \"it doesn't rain\")\n",
    "- Their unions (if we can measure \"A happens\" and \"B happens,\" we should measure \"A or B happens\")\n",
    "- Their countable combinations (infinite sequences of events we can observe)\n",
    "\n",
    "A $\\sigma$-algebra is essentially a closed system of events under these natural operations. It ensures mathematical consistency and prevents paradoxes when assigning probabilities.\n",
    "\n",
    "Here's an example of $\\sigma$-algebra for coin flips.\n",
    "\n",
    "Let $\\Omega = \\{H, T\\}$ (heads or tails). The power set $\\sigma$-algebra is:\n",
    "$$F = \\{\\emptyset, \\{H\\}, \\{T\\}, \\{H, T\\}\\}$$\n",
    "\n",
    "We can assign probabilities: $P({H}) = 1/2$, $P({T}) = 1/2$, $P({H,T}) = 1$, $P(∅) = 0$\n",
    "\n",
    "For continuous $\\Omega$: usually F = Borel $\\sigma$-algebra (intervals and their combinations)."
   ]
  },
  {
   "cell_type": "markdown",
   "id": "42a84b21",
   "metadata": {},
   "source": [
    "## Return to Opening Challenge"
   ]
  },
  {
   "cell_type": "markdown",
   "id": "67aef1ae",
   "metadata": {},
   "source": [
    "**Solving the Autonomous Vehicle Dilemma: The Mathematics Behind AI Safety**\n",
    "\n",
    "1. Sample Space: Define all possible driving scenarios $\\Omega = \\{highway, city, parking, emergency, ...\\}$\n",
    "2. Event Definition: $A = ``\\text{AI encounters unknown scenario\"}$\n",
    "3. Probability Calculation: $P(A) = |\\text{untrained scenarios}| / |\\text{all possible scenarios}|$\n",
    "4. Risk Assessment: $P(accident | \\text{unknown scenario}) \\times P(\\text{unknown scenario})$\n",
    "\n",
    "\n",
    "**Key Insights:**\n",
    "\n",
    "- The larger the sample space, the higher $P(unknown scenario)$\n",
    "- AI safety requires minimizing both $P(error)$ and $P(unknown)$\n",
    "- Probability theory provides the mathematical framework for quantifying AI uncertainty\n",
    "\n",
    "\n"
   ]
  },
  {
   "cell_type": "code",
   "execution_count": null,
   "id": "3b2e8a82",
   "metadata": {},
   "outputs": [],
   "source": [
    "# Scenario Coverage Analysis\n",
    "# Simulate driving scenarios\n",
    "scenario_types = ['highway', 'city_street', 'residential', 'parking', 'emergency', 'weather_adverse', 'construction']\n",
    "trained_scenarios = {'highway': 10000, 'city_street': 8000, 'residential': 5000, 'parking': 3000}\n",
    "total_scenarios = 50000\n",
    "\n",
    "print(f\"Training data coverage:\")\n",
    "coverage = {}\n",
    "for scenario in scenario_types:\n",
    "    if scenario in trained_scenarios:\n",
    "        coverage[scenario] = trained_scenarios[scenario] / total_scenarios\n",
    "        print(f\"   {scenario}: {coverage[scenario]:.3f} ({coverage[scenario]*100:.1f}%)\")\n",
    "    else:\n",
    "        coverage[scenario] = 0.0\n",
    "        print(f\"   {scenario}: {coverage[scenario]:.3f} (UNTRAINED!)\")\n",
    "\n",
    "unknown_prob = 1 - sum(coverage.values())\n",
    "print(f\"\\nP(unknown scenario) ≈ {unknown_prob:.3f} ({unknown_prob*100:.1f}%)\")\n",
    "print(\"⚠️  This is why AI systems need robust uncertainty quantification!\")"
   ]
  },
  {
   "cell_type": "markdown",
   "id": "c62c4100",
   "metadata": {},
   "source": [
    "## Key Takeaways"
   ]
  },
  {
   "cell_type": "markdown",
   "id": "743108bf",
   "metadata": {},
   "source": [
    "<div class=\"alert alert-summary\">\n",
    "<h4>🎓 Key Takeaways</h4>\n",
    "<ol>\n",
    "<li><b>Probability quantifies uncertainty:</b> Essential for AI decision-making under uncertainty</li>\n",
    "<li><b>Sample spaces define possibilities:</b> Larger spaces = more potential unknowns</li>\n",
    "<li><b>Events are what we care about:</b> \"Success\", \"Failure\", \"Unknown scenario\"</li>\n",
    "<li><b>Probability measures must satisfy axioms:</b> Non-negative, normalized, additive</li>\n",
    "<li><b>Uniform probability:</b> P(A) = |A| / |Ω| when all outcomes are equally likely</li>\n",
    "</div>\n",
    "\n",
    "\n",
    "<div class=\"alert alert-summary\">\n",
    "<h4>Essential Formulas</h4>\n",
    "<ul>\n",
    "<li><b>Basic probability:</b> P(A) = |A| / |Ω| (uniform case)</li>\n",
    "<li><b>Complement rule:</b> P(A') = 1 - P(A)</li>\n",
    "<li><b>Union (inclusive or):</b> P(A ∪ B) = P(A) + P(B) - P(A ∩ B)</li>\n",
    "<li><b>Intersection (and):</b> P(A ∩ B) = probability both occur</li>\n",
    "<li><b>Probability axioms:</b> P(Ω) = 1, P(A) ≥ 0, P(A ∪ B) = P(A) + P(B) if A ∩ B = ∅</li>\n",
    "</ul>\n",
    "</div>"
   ]
  }
 ],
 "metadata": {
  "kernelspec": {
   "display_name": "venv",
   "language": "python",
   "name": "python3"
  },
  "language_info": {
   "codemirror_mode": {
    "name": "ipython",
    "version": 3
   },
   "file_extension": ".py",
   "mimetype": "text/x-python",
   "name": "python",
   "nbconvert_exporter": "python",
   "pygments_lexer": "ipython3",
   "version": "3.10.11"
  }
 },
 "nbformat": 4,
 "nbformat_minor": 5
}
