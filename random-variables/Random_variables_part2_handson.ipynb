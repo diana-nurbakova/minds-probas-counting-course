{
 "cells": [
  {
   "cell_type": "markdown",
   "id": "9f00f1bb",
   "metadata": {},
   "source": [
    "# Random Variables and Distribution Simulation"
   ]
  },
  {
   "cell_type": "code",
   "execution_count": null,
   "id": "810a2250",
   "metadata": {},
   "outputs": [],
   "source": [
    "%%html\n",
    "<link rel=\"stylesheet\" type=\"text/css\" href=\"../styles/styles.css\">"
   ]
  },
  {
   "cell_type": "code",
   "execution_count": null,
   "id": "6b1c9c6f",
   "metadata": {},
   "outputs": [],
   "source": [
    "import matplotlib.pyplot as plt\n",
    "import matplotlib.patches as mpatches\n",
    "import numpy as np\n",
    "from scipy import stats\n",
    "import math"
   ]
  },
  {
   "cell_type": "markdown",
   "id": "92c9015f",
   "metadata": {},
   "source": [
    "## Distribution Simulation"
   ]
  },
  {
   "cell_type": "markdown",
   "id": "3cbcebbe",
   "metadata": {},
   "source": [
    "The objective of this section is to study how different random phenomena can be simulated from the uniform distribution on $[0, 1]$, $U \\sim \\mathcal{U}_{[0,1]}$​.\n",
    "\n",
    "To generate a number from the uniform distribution, we can use the function `random.random()` or `random.uniform(a, b)`, where `a`\n",
    "and `b` are the bounds of the interval on which the random variable is defined."
   ]
  },
  {
   "cell_type": "code",
   "execution_count": null,
   "id": "e5d7d765",
   "metadata": {},
   "outputs": [],
   "source": [
    "# pseudo-random real number from uniform distribution on [0, 1) and uniform distribution\n",
    "from random import random, uniform"
   ]
  },
  {
   "cell_type": "code",
   "execution_count": null,
   "id": "71fff109",
   "metadata": {},
   "outputs": [],
   "source": [
    "# random number between 0 and 1\n",
    "u1 = random()\n",
    "print(u1)\n",
    "u2 = uniform(a=0, b=1)\n",
    "print(u2)"
   ]
  },
  {
   "cell_type": "markdown",
   "id": "4be45102",
   "metadata": {},
   "source": [
    "We will consider 2 cases: discrete and continuous."
   ]
  },
  {
   "cell_type": "markdown",
   "id": "da74d500",
   "metadata": {},
   "source": [
    "### Discrete Distributions"
   ]
  },
  {
   "cell_type": "markdown",
   "id": "275e8894",
   "metadata": {},
   "source": [
    "Let $U \\sim \\mathcal{U}_{[0,1]}$, $X$  be a discrete random variable with values $\\{x_1, x_2, ..., x_n\\}$ and $\\mathbb{P}(X = x_i) = p_i$, $\\sum_{i}p_i = 1$.\n",
    "\n",
    "To simulate the distribution of $X$, we divide the interval $[0,1]$ into sub-intervals such that the length of sub-interval $i$ is $p_i$​:\n",
    "\n",
    "$$X = \\left\\{\\begin{array}{ll} x_0 & \\text{if } U < p_0 \\\\ \n",
    "x_1 & \\text{if } p_0 \\leq U < p_0 + p_1 \\\\  \n",
    "... \\\\\n",
    "x_j & \\text{if } \\sum_{k=0}^{j-1}p_k \\leq U < \\sum_{k=0}^{j}p_k \n",
    "\\end{array}\\right.$$\n",
    "\n",
    "In other words:\n",
    "$$X = x_j \\text{ if } F(x_{j-1}) \\leq U < F(x_j)$$\n",
    "\n",
    "where $F(x)$ is the cumulative distribution function of $X$.\n",
    "\n",
    "$\\mathbb{P}(X=x_j) = \\mathbb{P}\\left(\\sum_{k=0}^{j_1}p_k \\leq U < \\sum_{k=0}^{j}p_k \\right) = p_j$\n"
   ]
  },
  {
   "cell_type": "markdown",
   "id": "63c147b8",
   "metadata": {},
   "source": [
    "#### Bernoulli Distribution"
   ]
  },
  {
   "cell_type": "markdown",
   "id": "0e8d3ed8",
   "metadata": {},
   "source": [
    "Let $X$ be a discrete random variable that follows the Bernoulli distribution with parameter $p$, $\\mathcal{B}(p)$, e.g. a coin flip. Then, we can present the random variable $X$ as follows:\n",
    "\n",
    "$$X = \\left\\{\\begin{array}{ll} 1 & \\text{if } U < p \\\\ \n",
    "0 & \\text{if } U \\geq p\\end{array}\\right.$$\n",
    "\n",
    "Then:\n",
    "\n",
    "$$\\mathbb{P}(success) = \\mathbb{P}(X = 1) = \\mathbb{P}(U < p) = p$$\n",
    "\n",
    "Note that in this case, the interval $[0, 1]$ is divided into 2 parts: one of length $p$ and the other of length $1-p$. The value of $X$ is then defined by the condition in which part the value of $U$ falls.\n",
    "\n",
    "Write the function `bernoulli(p)` that calculates a value of $X$ that follows the Bernoulli distribution with parameter $p$.\n",
    "\n",
    "```\n",
    "def bernoulli(p=0.5):\n",
    "    \"\"\"\n",
    "    Simulation of a Bernoulli with parameter p.\n",
    "    \n",
    "    Keyword arguments:\n",
    "    p -- probability of success. Default, 0.5\n",
    "    \n",
    "    Return:\n",
    "    binary value of Bernoulli distribution realization\n",
    "    \"\"\"\n",
    "```"
   ]
  },
  {
   "cell_type": "code",
   "execution_count": null,
   "id": "9dc34f25",
   "metadata": {},
   "outputs": [],
   "source": [
    "# ANSWER\n",
    "def bernoulli(p=0.5):\n",
    "    \"\"\"\n",
    "    Simulation of a Bernoulli with parameter p.\n",
    "    \n",
    "    Keyword arguments:\n",
    "    p -- probability of success. Default, 0.5\n",
    "    \n",
    "    Return:\n",
    "    binary value of Bernoulli distribution realization\n",
    "    \"\"\"\n",
    "    \n",
    "    return None\n"
   ]
  },
  {
   "cell_type": "markdown",
   "id": "683dfb9f",
   "metadata": {},
   "source": [
    "#### Coin Toss"
   ]
  },
  {
   "cell_type": "markdown",
   "id": "28fc4b44",
   "metadata": {},
   "source": [
    "Write a simulation of 1000 tosses of a balanced coin and plot the estimated probability (proportion of heads) as a function of the number of tosses (from 0 to 1000). Plot the result. Compare it to the theoretical value.\n",
    "\n",
    "```\n",
    "def coin_toss(nsimu=1000, p=0.5):\n",
    "    \"\"\"\n",
    "    Simulation of nsimu Bernoulli realizations (coin toss) with parameter p.\n",
    "    \n",
    "    \n",
    "    Keyword arguments:\n",
    "    nsimu -- number of simulations. Default, 1000\n",
    "    p -- probability of success. Default, 0.5\n",
    "    \n",
    "    Return:\n",
    "    the cumulative number of successes starting with 0 over 1000 runs and the proportion of successes\n",
    "    \"\"\"\n",
    "```\n",
    "\n",
    "To calculate the number of heads on $i$-th tosses, it is possible to calculate the cumulative sum with\n",
    "[`numpy.cumsum()`](https://numpy.org/doc/stable/reference/generated/numpy.cumsum.html)."
   ]
  },
  {
   "cell_type": "code",
   "execution_count": null,
   "id": "205485a7",
   "metadata": {},
   "outputs": [],
   "source": [
    "## SOLUTION\n",
    "def coin_toss(nsimu=1000, p=0.5):\n",
    "    \"\"\"\n",
    "    Simulation of nsimu Bernoulli realizations (coin toss) with parameter p.\n",
    "    \n",
    "    \n",
    "    Keyword arguments:\n",
    "    nsimu -- number of simulations. Default, 1000\n",
    "    p -- probability of success. Default, 0.5\n",
    "    \n",
    "    Return:\n",
    "    the cumulative number of successes starting with 0 over 1000 runs and the proportion of successes\n",
    "    \"\"\"\n",
    "    \n",
    "    return None, None\n",
    "\n",
    "p = 0.5\n",
    "cumsum_x, avg = coin_toss(p)"
   ]
  },
  {
   "cell_type": "code",
   "execution_count": null,
   "id": "ebec22a1",
   "metadata": {},
   "outputs": [],
   "source": [
    "## SOLUTION\n",
    "# visualization\n"
   ]
  },
  {
   "cell_type": "markdown",
   "id": "8b8f054b",
   "metadata": {},
   "source": [
    "**Conclusions / comments**: <span style=\"color: red;\">YOUR COMMENT HERE</span>"
   ]
  },
  {
   "cell_type": "markdown",
   "id": "87974fa7",
   "metadata": {},
   "source": [
    "### Continuous Distributions"
   ]
  },
  {
   "cell_type": "markdown",
   "id": "c6a143a1",
   "metadata": {},
   "source": [
    "#### Standard Normal Distribution"
   ]
  },
  {
   "cell_type": "markdown",
   "id": "864af9ab",
   "metadata": {},
   "source": [
    "Among continuous distributions, we will focus on the case of the standard normal distribution, N($\\mathcal{N}(0, 1)$ with density function $\\varphi(z) = \\frac{e^{-\\frac{z^2}{2}}}{\\sqrt{2\\pi}}$​.\n",
    "\n",
    "For simulation purposes, we will study the [Box-Muller method](https://en.wikipedia.org/wiki/Box%E2%80%93Muller_transform):\n",
    "Let $U_1$  and $U_2$  be two independent random variables that follow the uniform distribution. Then a pair of random variables $Z_1$ and $Z_2$\n",
    " following the standard normal distribution can be generated according to the following transformation:\n",
    "\n",
    "$$\\left\\{ \\begin{array}{l} Z_1 = \\sqrt{-2 \\ln{U_1}} \\cos(2\\pi U_2) \\\\ Z_2 = \\sqrt{-2 \\ln{U_1}} \\sin(2\\pi U_2) \\end{array} \\right.$$\n",
    "\n",
    "\n",
    "Write the function `normal_dist()` that generates 2 random variables that follow the standard normal distribution with the Box-Muller method.\n",
    "\n",
    "```\n",
    "def normal_dist():\n",
    "    \"\"\"\n",
    "    Generates two random variables following the standard normal distribution with the Box-Muller method.\n",
    "    \n",
    "    Return:\n",
    "    z1, z2 -- two random variables from the standard normal distribution\n",
    "    \"\"\"\n",
    "```\n",
    "\n",
    "Some tips:\n",
    "\n",
    "- To calculate the square root of $x$, we can use the function `math.sqrt(x)`\n",
    "- To calculate the log of $x$, we can use the function `math.log(x)`\n",
    "- The number $\\pi$ can be obtained as `math.pi`"
   ]
  },
  {
   "cell_type": "code",
   "execution_count": null,
   "id": "002b4df1",
   "metadata": {},
   "outputs": [],
   "source": [
    "import math"
   ]
  },
  {
   "cell_type": "code",
   "execution_count": null,
   "id": "130b90b7",
   "metadata": {},
   "outputs": [],
   "source": [
    "## SOLUTION\n",
    "def normal_dist():\n",
    "    \"\"\"\n",
    "    Generates two random variables following the standard normal distribution with the Box-Muller method.\n",
    "    \n",
    "    Return:\n",
    "    z1, z2 -- two random variables from the standard normal distribution\n",
    "    \"\"\"\n",
    "    \n",
    "    return None, None"
   ]
  },
  {
   "cell_type": "markdown",
   "id": "e651f24a",
   "metadata": {},
   "source": [
    "Generate 5000 pairs of random variables following the standard normal distribution."
   ]
  },
  {
   "cell_type": "code",
   "execution_count": null,
   "id": "d7ebeeef",
   "metadata": {},
   "outputs": [],
   "source": [
    "## SOLUTION\n"
   ]
  },
  {
   "cell_type": "markdown",
   "id": "9053975b",
   "metadata": {},
   "source": [
    "Visualize the variables $Z_1$  in the form of a histogram. Plot the curve of the standard normal distribution on top. Comment.\n",
    "\n",
    "Some tips:\n",
    "\n",
    "- To create a histogram, we can use the function `plt.hist()`\n",
    "- For the histogram to be based on frequency, use the option `density=True` of `plt.hist()`, e.g. `plt.hist(z1, density=True)`\n",
    "- Before plotting the standard normal distribution, you can create values to plot as follows:"
   ]
  },
  {
   "cell_type": "code",
   "execution_count": null,
   "id": "d20c003d",
   "metadata": {},
   "outputs": [],
   "source": [
    "from scipy.stats import norm # standard normal distribution\n",
    "mu = 0\n",
    "variance = 1\n",
    "sigma = math.sqrt(variance)\n",
    "x = np.linspace(mu - 4*sigma, mu + 4*sigma, 100)\n",
    "y = norm.pdf(x, mu, sigma) # density function with parameters mu and sigma"
   ]
  },
  {
   "cell_type": "code",
   "execution_count": null,
   "id": "f031b91f",
   "metadata": {},
   "outputs": [],
   "source": [
    "## SOLUTION\n",
    "# visualization\n"
   ]
  },
  {
   "cell_type": "markdown",
   "id": "e720271e",
   "metadata": {},
   "source": [
    "**Conclusions / comments**: <span style=\"color: red;\">YOUR COMMENT HERE</span>"
   ]
  },
  {
   "cell_type": "markdown",
   "id": "2154af56",
   "metadata": {},
   "source": []
  }
 ],
 "metadata": {
  "kernelspec": {
   "display_name": "probability-statistics-ai-course",
   "language": "python",
   "name": "python3"
  },
  "language_info": {
   "codemirror_mode": {
    "name": "ipython",
    "version": 3
   },
   "file_extension": ".py",
   "mimetype": "text/x-python",
   "name": "python",
   "nbconvert_exporter": "python",
   "pygments_lexer": "ipython3",
   "version": "3.10.13"
  }
 },
 "nbformat": 4,
 "nbformat_minor": 5
}
