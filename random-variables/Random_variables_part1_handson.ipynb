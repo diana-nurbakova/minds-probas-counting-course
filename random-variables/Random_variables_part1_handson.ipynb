{
 "cells": [
  {
   "cell_type": "markdown",
   "id": "9f00f1bb",
   "metadata": {},
   "source": [
    "# Random Variables and Distribution Simulation"
   ]
  },
  {
   "cell_type": "code",
   "execution_count": null,
   "id": "810a2250",
   "metadata": {},
   "outputs": [],
   "source": [
    "%%html\n",
    "<link rel=\"stylesheet\" type=\"text/css\" href=\"../styles/styles.css\">"
   ]
  },
  {
   "cell_type": "code",
   "execution_count": null,
   "id": "6b1c9c6f",
   "metadata": {},
   "outputs": [],
   "source": [
    "import matplotlib.pyplot as plt\n",
    "import matplotlib.patches as mpatches\n",
    "import numpy as np\n",
    "from scipy import stats\n",
    "import math"
   ]
  },
  {
   "cell_type": "markdown",
   "id": "d8a68308",
   "metadata": {},
   "source": [
    "<div class=\"alert-exercise\">\n",
    "<h5> QUESTION:</h5> \n",
    "\n",
    "A minibus shuttle can accommodate up to 5 passengers per trip. The transportation company accepts at most 6 bookings per trip,\n",
    "with each passenger required to have a booking. Past experience has shown that 25% of people making a booking do not show up for the departure. All passengers are assumed to act independently of each other.\n",
    "\n",
    "Assume that 6 bookings have been made.\n",
    "\n",
    "1. What is the probability that at least one passenger with a reservation does not show up for departure?\n",
    "2. What is the average number of passengers showing up for departure?\n",
    "3. What is the average number of people transported?\n",
    "\n",
    "Compare your results with the ones obtained using Python.\n",
    "\n",
    "</div>"
   ]
  },
  {
   "cell_type": "markdown",
   "id": "acf32faf",
   "metadata": {},
   "source": [
    "<div class=\"alert-exercise\">\n",
    "<h5> QUESTION:</h5> \n",
    "\n",
    "We want to analyze the result of an optimization problem. The solution program has a probability $p$ of converging to the desired value.\n",
    "We denote by $X$ the number of trials necessary to obtain $m$ successes. We assume that the trials are independent.\n",
    "\n",
    "For all $k\\in \\mathbb{N}$ determine the probability that $X = k$. What is the average number of trials to perform to obtain $m$ successes?\n",
    "\n",
    "*Hint*: You might want to check out [a negative binomial distribution a.k.a. *Pascal distribution*](https://en.wikipedia.org/wiki/Negative_binomial_distribution). In `scipy.stats` refer to [`scipy.stats.nbinom`](https://docs.scipy.org/doc/scipy/reference/generated/scipy.stats.nbinom.html)\n",
    "\n",
    "</div>"
   ]
  },
  {
   "cell_type": "markdown",
   "id": "97e83347",
   "metadata": {},
   "source": [
    "<div class=\"alert-exercise\">\n",
    "<h5> QUESTION:</h5> \n",
    "\n",
    "The grade obtained by students on an exam is a normal r.v. $X \\sim \\mathcal{N}(7,3^2)$.\n",
    "\n",
    "1. Calculate the percentage of individuals having more than 10, and the grade below which 10% of students are found.\n",
    "\n",
    "2. Given these results, we decide to revalue all grades by a linear transformation $Z = aX + b$. What values should be given to $a$ and $b$ so that the previous values become 50% and 7 respectively? (*Hint: calculate* $\\mathbb{E}(Z)$ *and* $Var(Z)$ *as functions of* $\\mathbb{E}(X)$ *and* $Var(X)$).\n",
    "\n",
    "</div>"
   ]
  },
  {
   "cell_type": "markdown",
   "id": "269e6136",
   "metadata": {},
   "source": [
    "<div class=\"alert-exercise\">\n",
    "<h5> QUESTION:</h5> \n",
    "\n",
    "We want to model salary income in European countries. Let $X$ be the salary of individuals and $r$ be the minimum income fixed by the country. We assume that $X$ follows the Pareto distribution $\\mathcal{P}(\\alpha, r)$, with density \n",
    "\n",
    "$$f(x) = \\left \\{\\begin{array}{ll}\n",
    "                  \\alpha r^\\alpha x^{-(\\alpha +1)}=\\frac{\\alpha r^\\alpha}{x^{(\\alpha +1)}} \\text{ if } x>r\\\\\n",
    "                  0 \\text{ otherwise }\\\\\n",
    "                \\end{array}\n",
    "              \\right. $$\n",
    "              \n",
    "1. What is the expected value of $X$?\n",
    "2. Give the cumulative distribution function of $X$, denoted $F_X$. Show that $U = (\\frac{r}{X})^a$ follows a uniform distribution.\n",
    "3. $D_9$ corresponds to the minimum income of the richest 10% and $D_1$ corresponds to the maximum income of the poorest 10%. These quantities are given by $F_X(D_9) = 0.9$ and $F_X(D_1) = 0.1$.\n",
    "\n",
    "In 2014, the observed ratio $D_9/D_1$ equals 2.81 in France and 3.56 in the United Kingdom (OECD data on gross earnings, [Decile ratios of gross earnings](https://data-explorer.oecd.org/vis?df[ds]=DisseminateFinalDMZ&df[id]=DSD_EARNINGS%40DEC_I&df[ag]=OECD.ELS.SAE&lc=en&dq=......_T&pd=2015%2C&to[TIME_PERIOD]=false&pg=0)).\n",
    "\n",
    "Calculate the ratio $D_9/D_1$ for $r = 1$, as a function of $\\alpha$. For what value of $\\alpha$ do we have $D_9/D_1 = 2.8$? For what value of $\\alpha$ do we have $D9/D1 = 3.56$? How should the parameter $\\alpha$ be interpreted?\n",
    "\n",
    "</div>"
   ]
  },
  {
   "cell_type": "markdown",
   "id": "5bad561a",
   "metadata": {},
   "source": [
    "<div class=<div class=\"alert-exercise\">\n",
    "<h5> QUESTION:</h5> \n",
    "\n",
    "Show that if $X \\sim \\mathcal{E}(\\lambda)$, then for all positive real numbers $a$ and $b$, we have\n",
    "$$P(X > a + b\\ |\\ X > b) = P(X > a)$$\n",
    "\n",
    "If $X$ represents for example the lifetime of a printer, what does this property mean?\n",
    "\n",
    "</div>"
   ]
  },
  {
   "cell_type": "markdown",
   "id": "919e408b",
   "metadata": {},
   "source": [
    "<div class=\"alert-exercise\">\n",
    "<h5> QUESTION:</h5> \n",
    "\n",
    "Let $X$ be a random variable with values in $\\{-1,0,1\\}$ such that $P(X=-1) = 1/3$, \n",
    "$P(X=0) = 1/2$ and $P(X = 1) = 1/6$. Propose an algorithm (steps only without implementation) to simulate $X$. We assume that we know how to simulate a continuous random variable\n",
    "with uniform distribution on $[0, 1]$.\n",
    "\n",
    "</div>"
   ]
  }
 ],
 "metadata": {
  "kernelspec": {
   "display_name": "probability-statistics-ai-course",
   "language": "python",
   "name": "python3"
  },
  "language_info": {
   "codemirror_mode": {
    "name": "ipython",
    "version": 3
   },
   "file_extension": ".py",
   "mimetype": "text/x-python",
   "name": "python",
   "nbconvert_exporter": "python",
   "pygments_lexer": "ipython3",
   "version": "3.10.13"
  }
 },
 "nbformat": 4,
 "nbformat_minor": 5
}
