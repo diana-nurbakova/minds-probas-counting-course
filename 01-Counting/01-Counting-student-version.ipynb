{
 "cells": [
  {
   "cell_type": "markdown",
   "id": "bc962a7e",
   "metadata": {},
   "source": [
    "# Combinatorial Analysis and Counting Fundamentals"
   ]
  },
  {
   "cell_type": "code",
   "execution_count": null,
   "id": "52f3f859",
   "metadata": {},
   "outputs": [],
   "source": [
    "%%html\n",
    "<link rel=\"stylesheet\" type=\"text/css\" href=\"../styles/styles.css\">"
   ]
  },
  {
   "cell_type": "code",
   "execution_count": null,
   "id": "c4e18c89",
   "metadata": {},
   "outputs": [],
   "source": [
    "# import libraries\n",
    "import numpy as np # numeric calculations\n",
    "import pandas as pd # dataframe\n",
    "# plotting and viz\n",
    "import matplotlib.pyplot as plt\n",
    "import seaborn as sns\n",
    "# combinatorial\n",
    "from itertools import permutations, combinations, combinations_with_replacement, product\n",
    "from scipy.special import comb, perm\n",
    "# random number generation\n",
    "import random\n",
    "from collections import Counter\n",
    "from collections import defaultdict\n",
    "from  pprint import pprint\n",
    "import warnings\n",
    "warnings.filterwarnings('ignore')\n",
    "from IPython.display import HTML, display"
   ]
  },
  {
   "cell_type": "code",
   "execution_count": null,
   "id": "d53ec7a9",
   "metadata": {},
   "outputs": [],
   "source": [
    "# Set style for better visualization\n",
    "plt.style.use('seaborn-v0_8')\n",
    "sns.set_palette(\"husl\")"
   ]
  },
  {
   "cell_type": "code",
   "execution_count": null,
   "id": "a0cf8c87",
   "metadata": {},
   "outputs": [],
   "source": [
    "import sys\n",
    "from pathlib import Path\n",
    "\n",
    "# Add the \"resources\" directory to the path\n",
    "project_root = Path().resolve().parent\n",
    "resources_path = project_root / 'resources'\n",
    "sys.path.insert(0, str(resources_path))"
   ]
  },
  {
   "cell_type": "code",
   "execution_count": null,
   "id": "dc0c66f5",
   "metadata": {},
   "outputs": [],
   "source": [
    "from counting_utils import (visualize_permutation_graph, generate_stars_and_bars_table)"
   ]
  },
  {
   "cell_type": "markdown",
   "id": "5d0f51e8",
   "metadata": {},
   "source": [
    "<div class=\"alert alert-info\">\n",
    "<h4>🎯 What's the probability of getting a pair in 5-card poker?</h4>\n",
    "<p>Do you know the game of <strong>Poker</strong> with 52 cards?</p>\n",
    "\n",
    "<p>A <strong>poker hand</strong> in classic poker (without jokers or added cards) consists of 5 cards that a player forms. These card combinations can have different strengths. The strength of combinations is related to the probability of having that type of hand.</p>\n",
    "\n",
    "<p>Note that the <strong>suit of a card</strong> refers to: spades ♠, clubs ♣, diamonds ♦, or hearts ♥.</p>\n",
    "\n",
    "<p>The <strong>rank of a card</strong> refers to its value, its hierarchical level. The order of cards by increasing strength is: Two (2), Three (3), Four (4), Five (5), Six (6), Seven (7), Eight (8), Nine (9), Ten (10), Jack (J), Queen (Q), King (K), Ace (A).</p>\n",
    "\n",
    "<p><strong>A pair</strong> is a combination formed by <em>two cards of the same rank</em> and three other cards such that:</p>\n",
    "<ul>\n",
    "<li>their <em>rank is different from that of the pair</em>;</li>\n",
    "<li>their <em>ranks are different from each other</em>.</li>\n",
    "</ul>\n",
    "\n",
    "<p>Here's an example of a pair: this pair is defined by two jacks (two cards of the same rank) and 3 other cards different in rank that is also different from the pair (3, 9, K), i.e.: 3 ≠ 9 ≠ K ≠ J.</p>\n",
    "\n",
    "<center>\n",
    "<span style='font-size:100px; color:red'>&#x1F0BB; </span>\n",
    "<span style='font-size:100px;'>&#x1F0DB;  &#x1F0DE; &#x1F0A9; </span> \n",
    "<span style='font-size:100px; color:red'> &#x1F0B3;</span>\n",
    "</center>\n",
    "\n",
    "<p><strong>What is the probability of getting a pair?</strong></p>\n",
    "\n",
    "(A) <5%\n",
    "(B) between 5% and 10%\n",
    "(C) between 10% and 20%\n",
    "(D) between 20% and 40%\n",
    "(E) >40%\n",
    "</div>"
   ]
  },
  {
   "cell_type": "markdown",
   "id": "56bdef65",
   "metadata": {},
   "source": [
    "> How do we calculate the number of possible configurations, realizable events, favorable events, etc.?\n",
    "\n",
    "Often it involves enumerating certain combinatorial objects - this is called **COUNTING**."
   ]
  },
  {
   "cell_type": "markdown",
   "id": "0d538f66",
   "metadata": {},
   "source": [
    "## Without Repetition"
   ]
  },
  {
   "cell_type": "markdown",
   "id": "eed1a476",
   "metadata": {},
   "source": [
    "### Permutations without repetition"
   ]
  },
  {
   "cell_type": "markdown",
   "id": "2868e670",
   "metadata": {},
   "source": [
    "Consider an example of card ordering. Imagine in a card hame you''ve got the following hand:\n",
    "<center>\n",
    "<span style='font-size:50px; color:red;'>&#x1F0B6;</span>\n",
    "<span style='font-size:50px; color:black;'>&#x1F0D9;</span>\n",
    "<span style='font-size:50px; color:black;'>&#x1F0DD;</span>\n",
    "<span style='font-size:50px; color:red;'>&#x1F0C5;</span>\n",
    "</center>\n",
    "\n",
    "In how many ways can we order / arrange these 4 cards?"
   ]
  },
  {
   "cell_type": "code",
   "execution_count": null,
   "id": "cfb97881",
   "metadata": {},
   "outputs": [],
   "source": [
    "# 4 available cards\n",
    "cards = ['6♥', '9♣', 'Q♣', '5♦']\n",
    "print(f\"Original set: {cards}\")"
   ]
  },
  {
   "cell_type": "code",
   "execution_count": null,
   "id": "8e783447",
   "metadata": {},
   "outputs": [],
   "source": [
    "# Generate all permutations\n",
    "all_perms = list(permutations(cards))\n",
    "for i, p in enumerate(all_perms):\n",
    "    print(f\"  {i+1}: {list(p)}\")"
   ]
  },
  {
   "cell_type": "markdown",
   "id": "6708c169",
   "metadata": {},
   "source": [
    "So, we get 24 options.\n",
    "\n",
    "Let's consider another example: \n",
    "\n",
    "Let $E = \\{a,b,c\\}$ be a set of letters. How many 3-letter words can be created where all the letters are distinct?"
   ]
  },
  {
   "cell_type": "code",
   "execution_count": null,
   "id": "d0d021d5",
   "metadata": {},
   "outputs": [],
   "source": [
    "# example 2\n",
    "elements = ['a', 'b', 'c']\n",
    "perms_abc = list(permutations(elements))\n",
    "print(f\"All permutations of {elements}:\")\n",
    "for i, p in enumerate(perms_abc):\n",
    "    print(f\"  {i+1}: {''.join(p)}\")"
   ]
  },
  {
   "cell_type": "markdown",
   "id": "c002a8a4",
   "metadata": {},
   "source": [
    "The reasoning can be represented in a form of a tree:"
   ]
  },
  {
   "cell_type": "code",
   "execution_count": null,
   "id": "11b9c07c",
   "metadata": {},
   "outputs": [],
   "source": [
    "visualize_permutation_graph(elements)"
   ]
  },
  {
   "cell_type": "markdown",
   "id": "b5cfb169",
   "metadata": {},
   "source": [
    "Thus, we obtain $n = 3 \\times 2 \\times 1$ or in other words $3!$ options."
   ]
  },
  {
   "cell_type": "markdown",
   "id": "c3338919",
   "metadata": {},
   "source": [
    "<div class=\"alert alert-success\">\n",
    "<h4> Definition: Permutation</h4>\n",
    "A <strong>permutation</strong> of <em>n</em> elements is any ordered arrangement of these <em>n</em> elements.\n",
    "\n",
    "<h5>Properties of Permutations</h5>\n",
    "<ol><li>The elements in permutations of the same set <em>E</em> are identical.</li>\n",
    "<li>The number of permutations of a set with <em>n</em> elements is: <em>n! = 1×2×...×n</em></li>\n",
    "</ol>\n",
    "</div>"
   ]
  },
  {
   "cell_type": "markdown",
   "id": "1cef27ca",
   "metadata": {},
   "source": [
    "<div class=\"alert-exercise\">\n",
    "<h5> QUESTION:</h5> Write python function that calculates the factorial of a given number.\n",
    "\n",
    "```\n",
    "def factorial_custom(n: int) -> int:\n",
    "    \"\"\"\n",
    "    Calculates the factorial of a given non-negative integer n and returns it as a result.\n",
    "        \n",
    "    Args:\n",
    "        n (int): non-negative integer for which the factorial should be calculated\n",
    "    Returns:\n",
    "        the factorial of n\n",
    "    \"\"\"\n",
    "```\n",
    "</div>"
   ]
  },
  {
   "cell_type": "code",
   "execution_count": null,
   "id": "74456294",
   "metadata": {},
   "outputs": [],
   "source": [
    "# ANSWER \n",
    "def factorial_custom(n: int) -> int:\n",
    "    \"\"\"\n",
    "    Calculates the factorial of a given non-negative integer n and returns it as a result.\n",
    "    \n",
    "    Args:\n",
    "        n (int): non-negative integer for which the factorial should be calculated\n",
    "    Returns:\n",
    "        the factorial of n\n",
    "    \"\"\"\n",
    "    \n",
    "    return 0"
   ]
  },
  {
   "cell_type": "markdown",
   "id": "0398670d",
   "metadata": {},
   "source": [
    "<div class=\"alert-exercise\">\n",
    "<h5> QUESTION:</h5> Write python function that calculates the number of permutations for a given number of elements. Apply to our toy examples of three letters.\n",
    "</div>"
   ]
  },
  {
   "cell_type": "markdown",
   "id": "c37dc065",
   "metadata": {},
   "source": [
    "</div>"
   ]
  },
  {
   "cell_type": "code",
   "execution_count": null,
   "id": "e8b31a39",
   "metadata": {},
   "outputs": [],
   "source": [
    "# ANSWER\n",
    "def permutations_count(n: int) -> int:\n",
    "    \"\"\"\n",
    "    Calculates and returns the number of permutations P = n! in a set of size n.\n",
    "    \n",
    "    Args:\n",
    "        n (int): number of elements in a set\n",
    "    Returns:\n",
    "        the number of permutations\n",
    "    \"\"\"\n",
    "    \n",
    "    return 0\n",
    "    "
   ]
  },
  {
   "cell_type": "code",
   "execution_count": null,
   "id": "8c38341f",
   "metadata": {},
   "outputs": [],
   "source": [
    "# ANSWEr\n",
    "permutations_count(len(elements))"
   ]
  },
  {
   "cell_type": "markdown",
   "id": "33dcca40",
   "metadata": {},
   "source": [
    "It is also possible to use [`scipy.special.perm`](https://docs.scipy.org/doc/scipy/reference/generated/scipy.special.perm.html) to get the number of permutations:"
   ]
  },
  {
   "cell_type": "code",
   "execution_count": null,
   "id": "f516afc4",
   "metadata": {},
   "outputs": [],
   "source": [
    "n = len(elements)\n",
    "print(f\"# permutations of {elements}: {perm(n, n, exact=True)}\")"
   ]
  },
  {
   "cell_type": "markdown",
   "id": "d13101b9",
   "metadata": {},
   "source": [
    "### $k$-permutations of $n$ (Arrangements) without Repetition"
   ]
  },
  {
   "cell_type": "markdown",
   "id": "28273a89",
   "metadata": {},
   "source": [
    "Let's consider the following example. \n",
    "\n",
    "4 students (Karine, Michel, Kevin, and Amélie) take part in INSA Cross race. How many ways to determine 1st and 2nd place?"
   ]
  },
  {
   "cell_type": "code",
   "execution_count": null,
   "id": "913a29ca",
   "metadata": {},
   "outputs": [],
   "source": [
    "# arrangements example\n",
    "participants = ['Karine', 'Michel', 'Kevin', 'Amélie']\n",
    "arrangements_2_from_4 = list(permutations(participants, 2))\n",
    "\n",
    "print(f\"All arrangements of 2 from 4 of {participants}:\")\n",
    "for i, p in enumerate(arrangements_2_from_4):\n",
    "    print(f\"  {i+1}: {', '.join(p)}\")\n",
    "\n",
    "visualize_permutation_graph(participants, k=2)"
   ]
  },
  {
   "cell_type": "code",
   "execution_count": null,
   "id": "689e3d67",
   "metadata": {},
   "outputs": [],
   "source": [
    "fig, ax = plt.subplots(1, 1, figsize=(10, 6))\n",
    "positions = [1, 2]\n",
    "choices = [4, 3]\n",
    "ax.bar(positions, choices, color=['lightblue', 'lightcoral'])\n",
    "ax.set_xlabel('Position')\n",
    "ax.set_ylabel('Number of choices')\n",
    "ax.set_title('Choices available for each position\\n4 × 3 = 12 total arrangements')\n",
    "ax.set_xticks(positions)\n",
    "ax.set_xticklabels(['1st place', '2nd place'])\n",
    "for i, v in enumerate(choices):\n",
    "    ax.text(positions[i], v + 0.1, str(v), ha='center', va='bottom', fontsize=12, fontweight='bold')\n",
    "plt.tight_layout()\n",
    "plt.show()"
   ]
  },
  {
   "cell_type": "markdown",
   "id": "17c67bd1",
   "metadata": {},
   "source": [
    "<div class=\"alert alert-success\">\n",
    "<h4>Definition: Arrangement without repetition</h4>\n",
    "<p>An <strong>arrangement without repetition</strong> (k-permutation) of <em>k</em> elements among <em>n</em> elements of set <em>E</em> is any ordered arrangement of these <em>k</em> elements.</p>\n",
    "\n",
    "<h5>Properties of Arrangements</h5>\n",
    "<ol>\n",
    "<li>An arrangement without repetition of <em>n</em> elements taken from <em>n</em> elements (<em>A(n,n)</em>) is a permutation.</li>\n",
    "<li>The number of arrangements without repetition of k elements among n elements: \n",
    "\n",
    "$$A(n, k) =\\frac{n!}{(n-k)!} = n\\times(n-1)\\times...\\times(n-k+1)$$\n",
    "</li>\n",
    "</ol>\n",
    "</div>"
   ]
  },
  {
   "cell_type": "markdown",
   "id": "6c5d7c11",
   "metadata": {},
   "source": [
    "<div class=\"alert-exercise\">\n",
    "<h5> QUESTION:</h5> Modify the function `permutations_count()` to calculate the number of k-permutation. If $k = n$, then the number of permutations is calculated. Test it on our toy example of Cross INSA.\n",
    "</div>"
   ]
  },
  {
   "cell_type": "code",
   "execution_count": null,
   "id": "b5822786",
   "metadata": {},
   "outputs": [],
   "source": [
    "# ANSWER\n",
    "def permutations_count(n: int, k:int=None) -> int:\n",
    "    \"\"\"\n",
    "    Calculates and returns the number of k-permutations A = n!/(n-k)! in a set of size n.\n",
    "    \n",
    "    Args:\n",
    "        n (int): number of elements in a set\n",
    "        k (int): number of elements taken. Default None. If None, then k = n.\n",
    "    Returns:\n",
    "        the number of permutations\n",
    "    \"\"\"\n",
    "    \n",
    "    return 0"
   ]
  },
  {
   "cell_type": "code",
   "execution_count": null,
   "id": "45e46c1c",
   "metadata": {},
   "outputs": [],
   "source": [
    "# ANSWER\n",
    "permutations_count(len(participants), k=2)"
   ]
  },
  {
   "cell_type": "markdown",
   "id": "0251dafe",
   "metadata": {},
   "source": [
    "### Combinations without Repetition"
   ]
  },
  {
   "cell_type": "markdown",
   "id": "f5bd0771",
   "metadata": {},
   "source": [
    "Let's consider the following example:\n",
    "\n",
    "4 students (Karine, Michel, Kevin, and Amélie) take part in INSA Cross race. Two people receive white t-shirts. How many possibilities?\n",
    "\n",
    "**Attention!** in this case, the order DOES NOT MATTER! i.e. *Karine & Michel = Michel & Karine*"
   ]
  },
  {
   "cell_type": "code",
   "execution_count": null,
   "id": "2a8ac8fa",
   "metadata": {},
   "outputs": [],
   "source": [
    "print(f\"participants: {participants}\")\n",
    "combinations_2_from_4 = list(combinations(participants, 2))\n",
    "print(f\"All possible combinations for 2 white t-shirt recipients:\")\n",
    "for i, c in enumerate(combinations_2_from_4):\n",
    "    print(f\"  {i+1}: {c[0]} & {c[1]}\")"
   ]
  },
  {
   "cell_type": "markdown",
   "id": "70615fae",
   "metadata": {},
   "source": [
    "Now, let's consider the following example.\n",
    "\n",
    "Let $E = \\{a, b, c, d\\}$. Let's compare two things:\n",
    "1. how many possibilities are there to form 3-letter words? $\\Rightarrow$ ORDER MATTERS\n",
    "2. how many possibilities are there to select 3 letters? $\\Rightarrow$ ORDER DOESN'T MATTER"
   ]
  },
  {
   "cell_type": "code",
   "execution_count": null,
   "id": "808a41a1",
   "metadata": {},
   "outputs": [],
   "source": [
    "elements_abcd = ['a', 'b', 'c', 'd']\n",
    "# ARRANGEMENTS of 3\n",
    "perms_abcd = list(permutations(elements_abcd, 3))\n",
    "print(f\"All 3-permutations of {elements_abcd}:\")\n",
    "for i, p in enumerate(perms_abcd):\n",
    "    print(f\"  {i+1}: {''.join(p)}\")"
   ]
  },
  {
   "cell_type": "markdown",
   "id": "208105ab",
   "metadata": {},
   "source": [
    "We obtain 24 arrangements (3-permutations of 4 elements).\n",
    "\n",
    "Note that we can group the 3-permutations elements by the letters forming them:"
   ]
  },
  {
   "cell_type": "code",
   "execution_count": null,
   "id": "ac2b9635",
   "metadata": {},
   "outputs": [],
   "source": [
    "# Group permutations by their sorted elements (canonical form)\n",
    "grouped_perms = defaultdict(list)\n",
    "for p in perms_abcd:\n",
    "    # Use sorted tuple as key to group permutations with same elements\n",
    "    key = ''.join(sorted(p))\n",
    "    grouped_perms[key].append(''.join(p))\n",
    "\n",
    "pprint(grouped_perms)"
   ]
  },
  {
   "cell_type": "markdown",
   "id": "d69da3e6",
   "metadata": {},
   "source": [
    "We can see that the items `['abc', 'acb', 'bac', 'bca', 'cab', 'cba']` are all permutations of a set of 3 elements `{a, b, c}`. The number of such permutations is equal to $3! = 3\\times 2 = 6$.\n",
    "\n",
    "To obtain the number of possibilities to select 3 letters (question 2), we can divide the number of arrangements of 3 from 4 (question 1) by the number of permutations of 3, i.e.:\n",
    "$$C(n, k) = C^4_3 = \\frac{A^3_4}{3!} = \\frac{24}{6} = 4$$\n",
    "\n",
    "This demonstrates the relation between combinations and permutations."
   ]
  },
  {
   "cell_type": "markdown",
   "id": "582941cb",
   "metadata": {},
   "source": [
    "<div class=\"alert alert-success\">\n",
    "<h4>Definition: Combination without repetition</h4>\n",
    "<p>A <strong>combination without repetition</strong> of <em>k</em> elements among <em>n</em> elements of set <em>E</em> is any <strong>unordered</strong> arrangement of these <em>k</em> elements. A common way to read it is <i>\"n choose k\"</i>.</p>\n",
    "\n",
    "<h5>Properties of Combinations</h5>\n",
    "<ol>\n",
    "<li>Two combinations are different if they contain at least one different element.</li>\n",
    "<li>The number of combinations without repetition of k elements among n elements: \n",
    "\n",
    "$$C(n, k) = C_k^n = \\left(\\begin{matrix}n \\\\ k\\end{matrix}\\right) = \\frac{n!}{k!(n-k)!} = \\frac{A_n^k}{k!}$$\n",
    "\n",
    "</li>\n",
    "<li><strong>Symmetry:</strong> \n",
    "\n",
    "$$C(n,k) = C(n,n-k)$$\n",
    "\n",
    "</li>\n",
    "<li><strong>Single choice:</strong> \n",
    "\n",
    "$$C(n,1) = C(n,n-1) = n$$\n",
    "</li>\n",
    "<li><strong>Pascal's identity:</strong> \n",
    "\n",
    "$$C(n,k) = C(n-1,k-1) + C(n-1,k)$$\n",
    "</li>\n",
    "<li><strong>Hockey stick identity:</strong> \n",
    "\n",
    "$$C(n,k) + C(n,k+1) = C(n+1,k+1)$$\n",
    "</li>\n",
    "<li><strong>Binomial theorem:</strong> \n",
    "\n",
    "$$(a+b)^n = \\sum_{k=0}^n C(n,k) \\times a^k \\times b^{n-k}$$\n",
    "</li>\n",
    "</ol>\n",
    "</div>"
   ]
  },
  {
   "cell_type": "markdown",
   "id": "b5ba09e0",
   "metadata": {},
   "source": [
    "**Proofs**\n",
    "\n",
    "1. Symmetry, $C(n,k) = C(n,n-k)$\n",
    "\n",
    "$$C(n,n-k) = \\frac{n!}{(n-k)!(n-(n-k)!)} = \\frac{n!}{(n-k)!k!} = C(n,k)$$\n",
    "\n",
    "2. Single choice, $C(n,1) = C(n,n-1) = n$\n",
    "\n",
    "$$C(n,1) = \\frac{n!}{1!(n-1)!} = n$$\n",
    "$$C(n,n-1) = \\frac{n!}{(n-1)!1!} = n$$\n",
    "\n",
    "3. Pascal's identity, $C(n,k) = C(n-1,k-1) + C(n-1,k)$\n",
    "\n",
    "$$C(n-1, k-1) = \\frac{(n-1)!}{(k-1)! \\left((n-1) - (k-1)\\right)!} = \\frac{(n-1)!}{(k-1)! \\left(n- k\\right)!}$$\n",
    "\n",
    "$$C(n-1,k) = \\frac{(n-1)!}{k! \\left((n-1) - k)\\right)!} = \\frac{(n-1)!}{k! \\left(n- k-1\\right)!}$$\n",
    "\n",
    "Then:\n",
    "\n",
    "$$C(n-1, k-1) + C(n-1,k) = \\frac{(n-1)!}{(k-1)! \\left(n- k\\right)!} + \\frac{(n-1)!}{k! \\left(n- k-1\\right)!} = \\frac{(n-1)!}{(k-1)! \\left(n- k-1\\right)!}\\left(\\frac{1}{n-k} + \\frac{1}{k}\\right) =$$\n",
    "\n",
    "$$= \\frac{(n-1)!}{(k-1)! \\left(n- k-1\\right)!}\\left(\\frac{k}{(n-k)k} + \\frac{n-k}{k(n-k)}\\right) = \\frac{(n-1)!}{(k-1)! \\left(n- k-1\\right)!}\\times \\frac{k + n - k}{(n-k)k} =$$\n",
    "\n",
    "$$ = \\frac{(n-1)!}{(k-1)! \\left(n- k-1\\right)!}\\times \\frac{n}{(n-k)k} = \\frac{(n-1)!\\times n}{\\left((k-1)!\\times k\\right) \\left((n- k-1)!\\times (n-k)\\right)} = \\frac{n!}{k!(n-k)!} = C(n,k)$$\n",
    "\n",
    "4. Hockey stick identity, $C(n,k) + C(n,k+1) = C(n+1,k+1)$\n",
    "\n",
    "$$C(n,k) + C(n,k+1) = \\frac{n!}{k!(n-k)!} + \\frac{n!}{(k+1)!(n-(k+1))!} = \\frac{n!}{k!(n-k-1)!}\\times \\left(\\frac{1}{n-k} +\\frac{1}{k+1}\\right) =$$\n",
    "\n",
    "$$=\\frac{n!}{k!(n-k-1)!}\\times \\left(\\frac{k+1}{(n-k)(k+1)} + \\frac{n-k}{(k+1)(n-k)}\\right) = \\frac{n!}{k!(n-k-1)!}\\times \\left(\\frac{k+1 + n-k}{(n-k)(k+1)}\\right) =$$\n",
    "\n",
    "$$= \\frac{n!}{k!(n-k-1)!}\\times \\frac{n+1}{(n-k)(k+1)} = \\frac{n!\\times (n+1)}{\\left(k!\\times (k+1)\\right) \\left((n-k-1)! \\times (n-k)\\right)} = \\frac{(n+1)!}{(k+1)!(n-k)!} =$$\n",
    "\n",
    "$$=\\frac{(n+1)!}{(k+1)!\\left((n+1) - (k+1)\\right)!} = C(n+1,k+1)$$\n",
    "\n",
    "5. Binomial theorem, $(a+b)^n = \\sum_{k=0}^n C(n,k) \\times a^k \\times b^{n-k}$\n",
    "\n",
    "Let's consider an example of $n=2$:\n",
    "\n",
    "$$(a+b)^2 = C^0_2 a^0 b^{2-0} + C^1_2 a^1 b^{2-1} + C^2_2 a^2 b^{2-2} = C^0_2 a^0 b^{2} + C^1_2 a^1 b^{1} + C^2_2 a^2 b^{0} = C^0_2 b^{2} + C^1_2 ab + C^2_2 a^2 =$$\n",
    "\n",
    "$$=\\frac{2!}{0!(2-0)!}\\times b^2 + \\frac{2!}{1!(2-1)!}\\times ab + \\frac{2!}{2!(2-2)!}\\times a^2 = b^2 + 2ab + a^2$$"
   ]
  },
  {
   "cell_type": "markdown",
   "id": "ee92b5f1",
   "metadata": {},
   "source": [
    "<div class=\"alert-exercise\">\n",
    "<h5> QUESTION:</h5> Write the function that calculates the number of combinations of $n$ taken $k$. Apply it to our toy example of Cross INSA participants and t-shirts.\n",
    "</div>"
   ]
  },
  {
   "cell_type": "code",
   "execution_count": null,
   "id": "316deac2",
   "metadata": {},
   "outputs": [],
   "source": [
    "# ANSWER\n",
    "def combinations_count(n: int, k:int) -> int:\n",
    "    \"\"\"Calculates the number of combinations C(n, k).\n",
    "\n",
    "    Args:\n",
    "        n (int): total number of elements\n",
    "        k (int): number of elements taken\n",
    "\n",
    "    Returns:\n",
    "        int: number of combinations C(n, k)\n",
    "    \"\"\"\n",
    "    \n",
    "    return 0\n",
    "    "
   ]
  },
  {
   "cell_type": "code",
   "execution_count": null,
   "id": "650bb3f3",
   "metadata": {},
   "outputs": [],
   "source": [
    "# ANSWER\n",
    "combinations_count(len(participants), 2)"
   ]
  },
  {
   "cell_type": "markdown",
   "id": "42ec97fe",
   "metadata": {},
   "source": [
    "To calculate the number of combinations, it is also possible to use [`scipy.special.comb`](https://docs.scipy.org/doc/scipy/reference/generated/scipy.special.comb.html):"
   ]
  },
  {
   "cell_type": "code",
   "execution_count": null,
   "id": "c53cce72",
   "metadata": {},
   "outputs": [],
   "source": [
    "comb(len(participants), 2, exact=True)"
   ]
  },
  {
   "cell_type": "markdown",
   "id": "1090f7f2",
   "metadata": {},
   "source": [
    "<a id='poker-hand-5'></a>\n",
    "<div class=\"alert-exercise\">\n",
    "<h5> QUESTION:</h5> A classic poker hand is composed of 5 cards from a 52-card deck. Calculate the number of possibilities to get 5-card hand? Verify using your functions.\n",
    "</div>\n",
    "\n",
    "\n",
    "\n",
    "<details> <summary>Reveal solution</summary>\n",
    "The 5 cards of the hand are all distinct, and the order of cards in the hand does not matter. So, a poker hand can be described as a 5-combination (k = 5) of cards from a 52 card deck (n = 52).\n",
    "\n",
    "$$C(n, k) = C(52, 5) = \\frac{52!}{5!(52 - 5)!} = \\frac{52\\times 51\\times 50\\times 49 \\times 48 \\times 47!}{5!47!} = \\frac{52\\times 51\\times 50\\times 49\\times 48}{5\\times 4 \\times 3 \\times 2 \\times 1} = $$\n",
    "$$=\\frac{52\\times 51\\times 5\\times 49\\times 48}{4 \\times 3} = \\frac{52\\times 17\\times 5\\times 49\\times 48}{4} = 13\\times 17\\times 5\\times 49\\times 48 = 2598960$$\n",
    "</details>\n",
    "\n"
   ]
  },
  {
   "cell_type": "code",
   "execution_count": null,
   "id": "d7521c16",
   "metadata": {},
   "outputs": [],
   "source": [
    "# ANSWER\n",
    "13*17*5*49*48"
   ]
  },
  {
   "cell_type": "code",
   "execution_count": null,
   "id": "9b86c1a6",
   "metadata": {},
   "outputs": [],
   "source": [
    "# ANSWER\n",
    "comb(52, 5, exact=True)"
   ]
  },
  {
   "cell_type": "markdown",
   "id": "f2ffc02c",
   "metadata": {},
   "source": [
    "<div class=\"alert alert-primary\">\n",
    "<h4>🤖 ML Application Spotlight</h4>\n",
    "<p><strong>Feature Selection:</strong> In machine learning, when we want to select k features from n available features, we use combinations. For example, if we have 10 features and want to select 3, there are C(10,3) = 120 possible combinations to evaluate.</p>\n",
    "</div>"
   ]
  },
  {
   "cell_type": "markdown",
   "id": "9b14b62f",
   "metadata": {},
   "source": [
    "## With Repetition"
   ]
  },
  {
   "cell_type": "markdown",
   "id": "cad79901",
   "metadata": {},
   "source": [
    "### $k$-permutations (Arrangements) with Repetition"
   ]
  },
  {
   "cell_type": "markdown",
   "id": "63708b28",
   "metadata": {},
   "source": [
    "Let's consider the following example:\n",
    "\n",
    "We need to find a 7-digit code. We know the first three digits are 116. How many options for the remaining 4 digits?\n",
    "\n",
    "![Code lock with 7 digits](img/code-lock.svg)\n",
    "\n",
    "Let's focus on the remaining digits. The digits can be the same. So at each position, there are 10 options: 0, 1, 2, 3, 4, 5, 6,7, 8, 9. \n",
    "\n",
    "![Code lock with 7 digits. Each position has 10 options](img/code-lock-options.svg)\n",
    "\n",
    "So, the total number of possibilities is $10^4 = 10000$."
   ]
  },
  {
   "cell_type": "markdown",
   "id": "3da52590",
   "metadata": {},
   "source": [
    "<div class=\"alert alert-success\">\n",
    "<h4>Definition: Arrangement with repetition</h4>\n",
    "<p>An <strong>arrangement with repetition</strong> of <em>k</em> elements among <em>n</em> elements of set <em>E</em> is any ordered arrangement of <em>k</em> elements, not necessarily distinct.</p>\n",
    "<p><strong>Formula:</strong></p>\n",
    "\n",
    "$$n^k$$\n",
    "\n",
    "</div>"
   ]
  },
  {
   "cell_type": "markdown",
   "id": "1649491b",
   "metadata": {},
   "source": [
    "<div class=\"alert-exercise\">\n",
    "<h5> QUESTION:</h5> Write a function that calculates the number of k-permutations with repetition. Test it.\n",
    "\n",
    "```\n",
    "def arrangements_with_repetition_count(n: int, k:int) -> int:\n",
    "    \"\"\"Calculates the number of k-permutations of n with repetition: n^k.\n",
    "\n",
    "    Args:\n",
    "        n (int): total number of elements\n",
    "        k (int): number of elements taken\n",
    "\n",
    "    Returns:\n",
    "        int: number of k-permutations with repetition\n",
    "    \"\"\"\n",
    "```\n",
    "</div>\n"
   ]
  },
  {
   "cell_type": "code",
   "execution_count": null,
   "id": "d7a6b248",
   "metadata": {},
   "outputs": [],
   "source": [
    "# ANSWER\n",
    "def arrangements_with_repetition_count(n: int, k:int) -> int:\n",
    "    \"\"\"Calculates the number of k-permutations of n with repetition: n^k.\n",
    "\n",
    "    Args:\n",
    "        n (int): total number of elements\n",
    "        k (int): number of elements taken\n",
    "\n",
    "    Returns:\n",
    "        int: number of k-permutations with repetition\n",
    "    \"\"\"\n",
    "    return 0"
   ]
  },
  {
   "cell_type": "code",
   "execution_count": null,
   "id": "b6d859ba",
   "metadata": {},
   "outputs": [],
   "source": [
    "# ANSWER\n",
    "arrangements_with_repetition_count(10, 4)"
   ]
  },
  {
   "cell_type": "markdown",
   "id": "1a97fc01",
   "metadata": {},
   "source": [
    "<div class=\"alert alert-primary\">\n",
    "<h4>🤖 ML Application Spotlight</h4>\n",
    "<p><strong>Neural Network Architecture Search:</strong> When designing neural networks, we might have n different layer types and want to create a network with k layers. Each position can have any of the n layer types, giving us n^k possible architectures to explore.</p>\n",
    "</div>"
   ]
  },
  {
   "cell_type": "markdown",
   "id": "137e49a6",
   "metadata": {},
   "source": [
    "### Combinations with repetition"
   ]
  },
  {
   "cell_type": "markdown",
   "id": "377bf991",
   "metadata": {},
   "source": [
    "Consider the following example:\n",
    "\n",
    "There are 4 types of vaccines (A, B, C, D). Three people want to be vaccinated. Each person receives one vaccine, possibly of the same type. \n",
    "What is the number of possible configurations?\n",
    "\n",
    "This is equivalent to distributing $k=3$ indistinguishable items into $n=4$ distinguishable categories.\n",
    "\n",
    "Let's use a visual method (stars and bars) to find a solution:\n",
    "- Use ★ (stars) to represent the $k$ items we're selecting\n",
    "- Use | (bars) to separate the $n$ categories\n",
    "- We need $(n-1)$ bars to create $n$ sections\n",
    "\n",
    "In our case to create 4 sections corresponding to the types of vaccines, we need 3 bars. 3 stars represent our 3 selections. Total number of symbols to place: 3 + 3 = 6 positions.\n",
    "\n",
    "The question becomes: \n",
    "\n",
    "> How many ways can we arrange 3 stars and 3 bars?\n",
    "\n",
    "Choose 3 positions for stars from 6 total: $C(6,3) = C(n+k-1, k) = 20$\n"
   ]
  },
  {
   "cell_type": "code",
   "execution_count": null,
   "id": "9ec1021e",
   "metadata": {},
   "outputs": [],
   "source": [
    "html_output = generate_stars_and_bars_table(n=4, k=3, show_all=True)\n",
    "display(HTML(html_output))"
   ]
  },
  {
   "cell_type": "markdown",
   "id": "b25945ed",
   "metadata": {},
   "source": [
    "We can use [`itertools.combinations_with_replacement`](https://docs.python.org/3/library/itertools.html#itertools.combinations_with_replacement) to list the possibilities:"
   ]
  },
  {
   "cell_type": "code",
   "execution_count": null,
   "id": "4772ea84",
   "metadata": {},
   "outputs": [],
   "source": [
    "vaccines = ['A', 'B', 'C', 'D']\n",
    "comb_abcd_rep = combinations_with_replacement(vaccines, 3)\n",
    "print(f\"All possible combinations for 3 patients getting a vaccines of one of 4 types:\")\n",
    "for i, c in enumerate(comb_abcd_rep):\n",
    "    print(f\"  {i+1}: {c[0]} & {c[1]} & {c[2]}\")\n"
   ]
  },
  {
   "cell_type": "markdown",
   "id": "256c608a",
   "metadata": {},
   "source": [
    "So, we get 20 possibilities."
   ]
  },
  {
   "cell_type": "markdown",
   "id": "1c062a0f",
   "metadata": {},
   "source": [
    "<div class=\"alert alert-success\">\n",
    "<h4>Definition: Combination with repetition</h4>\n",
    "<p>A <strong>combination with repetition</strong> of <em>k</em> elements among <em>n</em> elements of set <em>E</em> (or <strong>multisubset</strong> of size <em>k</em> from a set <em>E</em> of size <em>n</em>) is any unordered set of <em>k</em> elements, not necessarily distinct.</p>\n",
    "<p><strong>Formula:</strong> \n",
    "\n",
    "$$C(n+k-1, k) = \\frac{(n+k-1)!}{k!(n-1)!}$$\n",
    "</p>\n",
    "</div>"
   ]
  },
  {
   "cell_type": "markdown",
   "id": "345dfaf6",
   "metadata": {},
   "source": [
    "<div class=\"alert-exercise\">\n",
    "<h5> QUESTION:</h5> Write a function that calculates the number of combinations with repetition. Test it.\n",
    "\n",
    "```\n",
    "def combinations_with_repetition_count(n: int, k: int) -> int:\n",
    "    \"\"\"Calculates and returns the number of combinations with repetition: C(n+k-1, k) \n",
    "\n",
    "    Args:\n",
    "        n (int): number of types of elements\n",
    "        k (int): number of elements taken\n",
    "\n",
    "    Returns:\n",
    "        int: number of combinations with repetitions\n",
    "    \"\"\"\n",
    "```\n",
    "</div>\n"
   ]
  },
  {
   "cell_type": "code",
   "execution_count": null,
   "id": "69255cc1",
   "metadata": {},
   "outputs": [],
   "source": [
    "# ANSWER\n",
    "def combinations_with_repetition_count(n: int, k: int) -> int:\n",
    "    \"\"\"Calculates and returns the number of combinations with repetition: C(n+k-1, k) \n",
    "\n",
    "    Args:\n",
    "        n (int): number of types of elements\n",
    "        k (int): number of elements taken\n",
    "\n",
    "    Returns:\n",
    "        int: number of combinations with repetitions\n",
    "    \"\"\"\n",
    "    \n",
    "    return 0"
   ]
  },
  {
   "cell_type": "code",
   "execution_count": null,
   "id": "7cafbf82",
   "metadata": {},
   "outputs": [],
   "source": [
    "# ANSWER\n",
    "combinations_with_repetition_count(n=4, k=3)"
   ]
  },
  {
   "cell_type": "markdown",
   "id": "b80d555d",
   "metadata": {},
   "source": [
    "### Permutations with Repetition"
   ]
  },
  {
   "cell_type": "markdown",
   "id": "21eb1e98",
   "metadata": {},
   "source": [
    "Now, let's modify the problem statement as follows:\n",
    "\n",
    "There are 10 vaccine doses of 4 types: 2 type A, 3 type B, 4 type C, 1 type D. How many ways to arrange these 10 vaccines for 10 people in queue?\n",
    "\n",
    "Note that the vaccines of the same type are identical to each other. So, we need to account for overcounting that occurs when identical objects are swapped.\n",
    "\n",
    "If all objects were different, we would have $n!$ permutations (arrangements). \n",
    "\n",
    "However, since some objects are identical, we've overcounted. Consider three vaccines of type B: $B_1, B_2, B_3$. They can be rearranged among themselves in $3!$ ways, but all these arrangements look identical because the objects are indistinguishable: \n",
    "$(B_1, B_2, B_3)$, $B_3, B_2, B_1$, $B_1, B_3, B_2$, etc. look the same as $B, B, B$.\n",
    "\n",
    "For each group $i$ of identical objects: the $n_i$ objects of type $i$ can be permuted among themselves in $n_i!$ ways (all looking the same). \n",
    "\n",
    "Since these overcounting factors are independent, we divide by each of them: $\\frac{n!}{n_1!n_2!n_3!n_4} = \\frac{10!}{2!3!4!1} = \\frac{10\\times9\\times8\\times7\\times6\\times5\\times4!}{2!3!4!1} = \\frac{10\\times9\\times8\\times7\\times6\\times5}{2!3!}=\\frac{10\\times9\\times8\\times7\\times6\\times5}{2!3\\times 2\\times 1} = \\frac{10\\times9\\times8\\times7\\times5}{2!} = 10\\times9\\times4\\times7\\times5 = 12600$"
   ]
  },
  {
   "cell_type": "code",
   "execution_count": null,
   "id": "69c64e1e",
   "metadata": {},
   "outputs": [],
   "source": [
    "factorial_custom(10) / (factorial_custom(2)*factorial_custom(3)*factorial_custom(4)*factorial_custom(1))"
   ]
  },
  {
   "cell_type": "markdown",
   "id": "a2c0c139",
   "metadata": {},
   "source": [
    "<div class=\"alert alert-success\">\n",
    "<h4>Definition: Permutation with repetition</h4>\n",
    "<p>Let there be <em>l</em> categories, where elements of set <em>E</em> are distributed among these categories such that <em>n₁+n₂+...+nₗ=n</em>, where <em>nᵢ</em> is the number of elements in category <em>i</em>.</p>\n",
    "<p>A <strong>permutation with repetition</strong> of <em>n</em> elements distributed in <em>l</em> categories is any ordered arrangement of <em>n</em> elements that contains <em>n_i</em> elements from each category <em>i</em>.</p>\n",
    "<p><strong>Formula:</strong> \n",
    "\n",
    "$$\\frac{n!}{n_1! \\times n_2! \\times ... \\times n_l!}$$\n",
    "</p>\n",
    "\n",
    "It is also called <strong>multinomial coefficient</strong>, written as:\n",
    "\n",
    "$$\\left(\\begin{matrix}n \\\\ n_1,n_2,...,n_l\\end{matrix}\\right) = \\frac{n!}{n_1! \\times n_2! \\times ... \\times n_l!}$$\n",
    "</div>"
   ]
  },
  {
   "cell_type": "markdown",
   "id": "7d9bc92c",
   "metadata": {},
   "source": [
    "Key distinctions:\n",
    "- *Permutations with Repetition vs. Regular Permutations*: In regular permutations, all objects are distinct. Here, some are identical.\n",
    "- *Permutations with Repetition vs. Combinations*: Permutations with repetition still care about order (AABBC ≠ BCAAB), unlike combinations.\n",
    "- *Permutations with Repetition vs. Arrangements with Repetition*: The latter refers to selecting with replacement (like a code where each position can be any digit). The former refers to arranging a fixed set of objects where some happen to be identical."
   ]
  },
  {
   "cell_type": "markdown",
   "id": "2b36569f",
   "metadata": {},
   "source": [
    "## Summary Table"
   ]
  },
  {
   "cell_type": "markdown",
   "id": "1d9f75a0",
   "metadata": {},
   "source": [
    "||Without Repetition|With Repetition|\n",
    "|--|:--:|:--:|\n",
    "|With Order|$$A(n, k) = \\frac{n!}{(n-k)!}$$</br>$$A(n, n) = n!$$|$$n^k$$</br>$$\\frac{n!}{n_1!\\times n_2!\\times...\\times n_l!}$$|\n",
    "|Without Order|$$C(n,k) = \\frac{n!}{k!(n-k)!}$$| $$C(k+n-1,k) = \\frac{(n+k-1)!}{k!(n-1)!}$$|"
   ]
  },
  {
   "cell_type": "markdown",
   "id": "aabafa5b",
   "metadata": {},
   "source": [
    "## Side Note: Balls and Urns\n",
    "\n",
    "![Urn with 5 coloured balls](img/urn-balls.svg)"
   ]
  },
  {
   "cell_type": "markdown",
   "id": "259a806d",
   "metadata": {},
   "source": [
    "| Problem Statement |An urn contains 5 balls of different colors (red, blue, green, yellow, purple). You draw 3 balls one by one and line them up in order. How many different arrangements are possible?| An urn contains 5 balls of different colors. You draw 3 balls all at once and put them in a bag. How many different selections are possible? | An urn contains 5 balls of different colors. You draw a ball, note its color, put it back, then draw again. You do this 3 times and record the sequence. How many different sequences are possible? |An urn contains unlimited balls of 5 different colors. You draw 3 balls (possibly of the same color). How many different selections are possible?| You have 10 balls: 3 red, 4 blue, 3 green. In how many ways can you arrange all 10 balls in a line?|\n",
    "|------|------|------|------|------|------|\n",
    "| Key phrases about order | - \"one by one\" or \"sequentially\" → ORDER MATTERS</br> - \"line them up\" or \"arrange in a row\" → ORDER MATTERS | - \"all at once\" or \"simultaneously\" → ORDER DOESN'T MATTER</br> - \"selection\" or \"choose\" or \"pick\" → ORDER DOESN'T MATTER </br> - \"put in a bag\" or \"form a group\" → ORDER DOESN'T MATTER | - \"record the sequence\" or \"in order\" → ORDER MATTERS </br> - Can use phrases like \"each draw is independent\"| - \"selection\" or \"color composition\" → ORDER DOESN'T MATTER </br> - \"how many of each color\" rather than \"which specific balls\" | - \"arrange in a line\" → ORDER MATTERS</br> - \"3 red, 4 blue, 3 green\" → GROUPS of identical items </br> - \"all balls\" → using everything |\n",
    "| Order matters?| YES | NO | YES | NO | YES | \n",
    "| Key phrases about repetition | - \"different colors\" or \"distinct\" → NO REPETITION (each ball used once)</br> - No replacement mentioned → WITHOUT REPETITION | \"different colors\" → NO REPETITION| \"put it back\" or \"with replacement\" → WITH REPETITION | - \"return the ball to the urn\" or \"unlimited balls\" → WITH REPETITION </br> - \"possibly of the same color\" → WITH REPETITION| The items within each color group are indistinguishable |\n",
    "| Repetition? | NO |  NO | YES | YES | YES |\n",
    "| Method | **Arrangements (Permutations) Without Repetition** | **Combinations Without Repetition**| **Arrangements With Repetition** | **Combinations With Repetition** | **Permutations With Repetition (Multinomial)**|\n",
    "| Formula | $$A(n,k) = \\frac{n!}{(n - k)!}$$ | $$C(n,k) = \\frac{n!}{k!(n - k)!}$$ | $$n^k$$ | $$C(n + k - 1, k)$$ | $$\\frac{n!}{n_1!n_2!...n_l!}$$ | \n",
    "| Solution | $$A(5,3) = 5!/(5-3)! = 5×4×3 = 60$$ | $$C(5,3) = 5!/(3!×2!) = 10$$ | $$5³ = 125$$ | $$C(5+3-1, 3) = C(7,3) = 35$$ | $$10!/(3!×4!×3!) = 4,200$$ |\n",
    "| Why (summary) | We care about which ball is first, second, third (order), and we can't reuse balls. | We only care about WHICH balls we got, not the order we got them in.| Each position can be any of the 5 colors (order matters, repetition allowed). | We care about how many balls of each color we selected (e.g., 2 red + 1 blue, or 3 green, or 1 of each of three colors), not the order we drew them in. The repetition comes from being able to select the same color multiple times.| Total arrangements divided by arrangements within identical groups. |\n"
   ]
  },
  {
   "cell_type": "markdown",
   "id": "6e62c3e4",
   "metadata": {},
   "source": [
    "## Fundamental Counting Principle"
   ]
  },
  {
   "cell_type": "markdown",
   "id": "721dc42d",
   "metadata": {},
   "source": [
    "Consider the following example:\n",
    "\n",
    "In a restaurant, the menu consists of 3 appetizers, 4 main courses and 2 desserts. If you must choose one from each category, how many different meals are there?\n",
    "\n",
    "<div style=\"text-align: center; font-family: Arial, sans-serif;\">\n",
    "  <h3>Restaurant Menu: 3 × 4 × 2 = 24 possible meals</h3>\n",
    "  \n",
    "  <!-- Root -->\n",
    "  <div style=\"margin: 20px 0;\">\n",
    "    <div style=\"display: inline-block; background-color: #667eea; color: white; padding: 10px 20px; border-radius: 8px; font-weight: bold;\">\n",
    "      Choose Meal\n",
    "    </div>\n",
    "  </div>\n",
    "  \n",
    "  <!-- Container for level 1 with proper positioning -->\n",
    "  <div style=\"position: relative; margin: 0 auto; width: 800px;\">\n",
    "    <!-- Level 1 Lines: Appetizers -->\n",
    "    <svg width=\"800\" height=\"60\" style=\"display: block;\">\n",
    "      <line x1=\"400\" y1=\"0\" x2=\"200\" y2=\"60\" stroke=\"#FF6B6B\" stroke-width=\"2\"/>\n",
    "      <line x1=\"400\" y1=\"0\" x2=\"400\" y2=\"60\" stroke=\"#FF6B6B\" stroke-width=\"2\"/>\n",
    "      <line x1=\"400\" y1=\"0\" x2=\"600\" y2=\"60\" stroke=\"#FF6B6B\" stroke-width=\"2\"/>\n",
    "    </svg>\n",
    "    \n",
    "  <div style=\"display: flex; justify-content: space-around; margin-bottom: 20px;\">\n",
    "      <div style=\"background-color: #FFE4E1; padding: 10px 15px; border-radius: 8px; border: 2px solid #FF6B6B; width: 120px; text-align: center;\">\n",
    "        Salad\n",
    "      </div>\n",
    "      <div style=\"background-color: #FFE4E1; padding: 10px 15px; border-radius: 8px; border: 2px solid #FF6B6B; width: 120px; text-align: center;\">\n",
    "        Soup\n",
    "      </div>\n",
    "      <div style=\"background-color: #FFE4E1; padding: 10px 15px; border-radius: 8px; border: 2px solid #FF6B6B; width: 120px; text-align: center;\">\n",
    "        Bruschetta\n",
    "      </div>\n",
    "    </div>\n",
    "  </div>\n",
    "  \n",
    "  <!-- Level 2: Main Courses -->\n",
    "  <p style=\"color: #666; font-style: italic; margin: 20px 0 10px 0;\">For each appetizer, 4 main course options:</p>\n",
    "  \n",
    "  <div style=\"position: relative; margin: 0 auto; width: 600px;\">\n",
    "    <svg width=\"600\" height=\"60\" style=\"display: block;\">\n",
    "      <line x1=\"100\" y1=\"0\" x2=\"75\" y2=\"60\" stroke=\"#4CAF50\" stroke-width=\"2\"/>\n",
    "      <line x1=\"100\" y1=\"0\" x2=\"200\" y2=\"60\" stroke=\"#4CAF50\" stroke-width=\"2\"/>\n",
    "      <line x1=\"100\" y1=\"0\" x2=\"325\" y2=\"60\" stroke=\"#4CAF50\" stroke-width=\"2\"/>\n",
    "      <line x1=\"100\" y1=\"0\" x2=\"450\" y2=\"60\" stroke=\"#4CAF50\" stroke-width=\"2\"/>\n",
    "    </svg>\n",
    "    \n",
    "  <div style=\"display: flex; justify-content: space-around; margin-bottom: 20px;\">\n",
    "      <div style=\"background-color: #E8F5E8; padding: 8px 12px; border-radius: 8px; border: 2px solid #4CAF50; font-size: 14px; width: 80px; text-align: center;\">\n",
    "        Pasta\n",
    "      </div>\n",
    "      <div style=\"background-color: #E8F5E8; padding: 8px 12px; border-radius: 8px; border: 2px solid #4CAF50; font-size: 14px; width: 80px; text-align: center;\">\n",
    "        Steak\n",
    "      </div>\n",
    "      <div style=\"background-color: #E8F5E8; padding: 8px 12px; border-radius: 8px; border: 2px solid #4CAF50; font-size: 14px; width: 80px; text-align: center;\">\n",
    "        Fish\n",
    "      </div>\n",
    "      <div style=\"background-color: #E8F5E8; padding: 8px 12px; border-radius: 8px; border: 2px solid #4CAF50; font-size: 14px; width: 80px; text-align: center;\">\n",
    "        Chicken\n",
    "      </div>\n",
    "    </div>\n",
    "  </div>\n",
    "  \n",
    "  <!-- Level 3: Desserts -->\n",
    "  <p style=\"color: #666; font-style: italic; margin: 20px 0 10px 0;\">For each main course, 2 dessert options:</p>\n",
    "  \n",
    "  <div style=\"position: relative; margin: 0 auto; width: 400px;\">\n",
    "    <svg width=\"400\" height=\"40\" style=\"display: block;\">\n",
    "      <line x1=\"100\" y1=\"0\" x2=\"125\" y2=\"40\" stroke=\"#F1C40F\" stroke-width=\"2\"/>\n",
    "      <line x1=\"100\" y1=\"0\" x2=\"275\" y2=\"40\" stroke=\"#F1C40F\" stroke-width=\"2\"/>\n",
    "    </svg>\n",
    "    \n",
    "  <div style=\"display: flex; justify-content: space-around;\">\n",
    "      <div style=\"background-color: #FFF8E1; padding: 8px 12px; border-radius: 8px; border: 2px solid #F1C40F; font-size: 14px; width: 100px; text-align: center;\">\n",
    "        Ice Cream\n",
    "      </div>\n",
    "      <div style=\"background-color: #FFF8E1; padding: 8px 12px; border-radius: 8px; border: 2px solid #F1C40F; font-size: 14px; width: 100px; text-align: center;\">\n",
    "        Cake\n",
    "      </div>\n",
    "    </div>\n",
    "  </div>\n",
    "  \n",
    "  <!-- Calculation explanation -->\n",
    "  <div style=\"background-color: #f0f0f0; padding: 15px; border-radius: 8px; margin-top: 30px; max-width: 600px; margin-left: auto; margin-right: auto;\">\n",
    "    <p style=\"margin: 5px 0;\"><strong>Step 1:</strong> Choose 1 appetizer → 3 options</p>\n",
    "    <p style=\"margin: 5px 0;\"><strong>Step 2:</strong> For EACH appetizer, choose 1 main → 4 options</p>\n",
    "    <p style=\"margin: 5px 0;\"><strong>Step 3:</strong> For EACH (appetizer, main) pair, choose 1 dessert → 2 options</p>\n",
    "    <hr style=\"margin: 10px 0;\">\n",
    "    <p style=\"margin: 5px 0; font-weight: bold;\">Total paths from top to bottom: 3 × 4 × 2 = 24 complete meals</p>\n",
    "  </div>\n",
    "</div>"
   ]
  },
  {
   "cell_type": "markdown",
   "id": "f8b48acf",
   "metadata": {},
   "source": [
    "<div class=\"alert alert-success\">\n",
    "<h4>Definition: Fundamental Counting Principle</h4>\n",
    "\n",
    "If event <em>E₁</em> can occur in <em>n₁</em> ways, and for each of these ways event <em>E₂</em> can occur in <em>n₂</em> ways, then <em>E₁</em> followed by <em>E₂</em> can occur in the number of ways given by:\n",
    "\n",
    "$$n_1 \\times n_2$$\n",
    "</div>\n",
    "\n",
    "Such multiplication counts all possible **pairings** between the choices, ensuring we don't miss any combinations and don't count any twice.\n",
    "\n",
    "Note that if choices are mutually exclusive alternatives (\"*choose A OR choose B*\"), we use addition. "
   ]
  },
  {
   "cell_type": "markdown",
   "id": "83eba136",
   "metadata": {},
   "source": [
    "<div class=\"alert alert-primary\">\n",
    "<h4>🤖 ML Application Spotlight</h4>\n",
    "<p><strong>Hyperparameter Optimization:</strong> When searching through different combinations of hyperparameters for a machine learning model, we often need to count the number of possible configurations. For example, if we have 3 learning rates, 4 batch sizes, and 2 optimizers to test, we have 3×4×2 = 24 different combinations to evaluate.</p>\n",
    "</div>"
   ]
  },
  {
   "cell_type": "markdown",
   "id": "4a7e1132",
   "metadata": {},
   "source": [
    "## Return to Opening Challenge"
   ]
  },
  {
   "cell_type": "markdown",
   "id": "33e59bcd",
   "metadata": {},
   "source": [
    "<center>\n",
    "<!-- Pair cards -->\n",
    "<span style='font-size:100px; color:red'>&#x1F0BB; </span>\n",
    "<span style='font-size:100px;'>  &#x1F0DB; </span>\n",
    "<!-- Other cards -->\n",
    "<span style='font-size:100px;'>  &#x1F0DE; &#x1F0A9; </span> \n",
    "<span style='font-size:100px; color:red'> &#x1F0B3;</span>\n",
    "</center>\n",
    "\n",
    "* Total number of cards in a deck: 52\n",
    "* Number of ranks (values): 13\n",
    "* Number of suits: 4\n",
    "* Number of cards of a fixed suit: 4\n",
    "\n",
    "* Number of ways to get a 5-card hand: 2,598,960 (calculated in the Question [on the number of possibilities to get 5 card-hand from 52 card-deck](#poker-hand-5))\n",
    "\n",
    "<details>\n",
    "<summary>Reveal Solution 1</summary>\n",
    "\n",
    "1. First, we focus on two cards forming a pair:\n",
    "\n",
    "<center>\n",
    "<!-- Pair cards with background highlight -->\n",
    "<span style='display: inline-block; background-color: #fff3cd; padding: 10px; border-radius: 10px; margin-right: 5px;'>\n",
    "    <span style='font-size:100px; color:red'>&#x1F0BB; </span>\n",
    "    <span style='font-size:100px;'>  &#x1F0DB; </span>\n",
    "</span>\n",
    "<!-- Vertical separator -->\n",
    "<span style='font-size:100px; color: #888; margin: 0 10px;'>|</span>\n",
    "<!-- Other cards -->\n",
    "<span style='font-size:100px;'>  &#x1F0DE; &#x1F0A9; </span> \n",
    "<span style='font-size:100px; color:red'> &#x1F0B3;</span>\n",
    "</center>\n",
    "\n",
    "Conditions:\n",
    "- 2 cards of the same rank\n",
    "- 2 cards of different suit\n",
    "\n",
    "> How many ways to select 2 cards of different suit?\n",
    "\n",
    "Here, the order DOES NOT matter.\n",
    "\n",
    "* ♠ & ♥\n",
    "* ♠ & ♦\n",
    "* ♠ & ♣\n",
    "* ♥ & ♦\n",
    "* ♥ & ♣\n",
    "* ♣ & ♦\n",
    "\n",
    "Answer: $C(4, 2) = \\frac{4!}{2!2!} = 6$\n",
    "\n",
    "> How many ways to select a rank?\n",
    "\n",
    "A, K, Q, J, 10, 9, 8, 7, 6, 5, 4, 3, 2\n",
    "\n",
    "Answer: 13\n",
    "\n",
    "> (TOTAL) How many ways to create a pair?\n",
    "\n",
    "Answer: $C(4, 2) \\times C(13, 1) = 6\\times 13 = 78$\n",
    "\n",
    "2. Second, we focus on the remaining 3 cards.\n",
    "\n",
    "<center>\n",
    "<!-- Pair cards -->\n",
    "<span style='font-size:100px; color:red'>&#x1F0BB; </span>\n",
    "<span style='font-size:100px;'>  &#x1F0DB; </span>\n",
    "<!-- Vertical separator -->\n",
    "<span style='font-size:100px; color: #888; margin: 0 10px;'>|</span>\n",
    "<!-- Other cards with background highlight -->\n",
    "<span style='display: inline-block; background-color: #fff3cd; padding: 10px; border-radius: 10px; margin-right: 5px;'>\n",
    "    <span style='font-size:100px;'>  &#x1F0DE; &#x1F0A9; </span> \n",
    "    <span style='font-size:100px; color:red'> &#x1F0B3;</span>\n",
    "</span>\n",
    "</center>\n",
    "\n",
    "Conditions:\n",
    "- their rank is different from that of the pair;\n",
    "- their ranks are different from each other\n",
    "- their suits are free\n",
    "\n",
    "> How many ways to choose 3 ranks different from that of the pair?\n",
    "Order doesn't matter.\n",
    "\n",
    "Answer: $C(12, 3) = \\frac{12!}{3!(12-3)!} = \\frac{12!}{3!9!} = \\frac{12\\times 11\\times 10}{6} = 220$\n",
    "\n",
    "> How many ways to choose a suit for each of three cards?\n",
    "\n",
    "Answer: $4\\times 4\\times 4 = 4^3 = 64$\n",
    "\n",
    "> (TOTAL) How many ways to choose three remaining cards?\n",
    "\n",
    "Answer: $C(12,3) \\times 4^3 = 220 \\times 64 = 14,080$\n",
    "\n",
    "3. Number of possibilities to get a pair hand:\n",
    "\n",
    "$$78\\times 14080 = 1,098,240$$\n",
    "\n",
    "4. Probability to get a pair:\n",
    "\n",
    "$$\\frac{\\text{\\# possibilities to get a pair hand}}{\\text{\\# possibilities to get a 5-card hand}} = \\frac{1,098,240}{2,598,960}\\approx 42\\%$$\n",
    "\n",
    "</details>\n",
    "\n",
    "<details>\n",
    "<summary>Reveal Solution 2</summary>\n",
    "\n",
    "The total number of cards in a deck: 52\n",
    "\n",
    "1. First, we focus on two cards forming a pair:\n",
    "\n",
    "<center>\n",
    "<!-- Pair cards with background highlight -->\n",
    "<span style='display: inline-block; background-color: #fff3cd; padding: 10px; border-radius: 10px; margin-right: 5px;'>\n",
    "    <span style='font-size:100px; color:red'>&#x1F0BB; </span>\n",
    "    <span style='font-size:100px;'>  &#x1F0DB; </span>\n",
    "</span>\n",
    "<!-- Vertical separator -->\n",
    "<span style='font-size:100px; color: #888; margin: 0 10px;'>|</span>\n",
    "<!-- Other cards -->\n",
    "<span style='font-size:100px;'>  &#x1F0DE; &#x1F0A9; </span> \n",
    "<span style='font-size:100px; color:red'> &#x1F0B3;</span>\n",
    "</center>\n",
    "\n",
    "> How many ways to select the first card of a pair? <span style='font-size:40px; color:red'>&#x1F0BB; </span>\n",
    "\n",
    "Answer: 52 \n",
    "\n",
    "*Warning!* here, we introduce the notion of order that we need to account for later\n",
    "\n",
    "> How many ways to select the second card of a pair for a fixed first card?\n",
    "<div style=\"text-align: center; font-family: Arial, sans-serif;\">\n",
    "  <!-- Root node -->\n",
    "  <div style=\"margin-bottom: 20px;\">\n",
    "    <span style='font-size:40px; color:red'>&#x1F0BB;</span>\n",
    "  </div>\n",
    "  \n",
    "  <!-- Connecting lines -->\n",
    "  <div style=\"margin-bottom: 10px;\">\n",
    "    <svg width=\"300\" height=\"50\">\n",
    "      <line x1=\"150\" y1=\"0\" x2=\"50\" y2=\"50\" stroke=\"#FF6B6B\" stroke-width=\"2\"/>\n",
    "      <line x1=\"150\" y1=\"0\" x2=\"150\" y2=\"50\" stroke=\"#FF6B6B\" stroke-width=\"2\"/>\n",
    "      <line x1=\"150\" y1=\"0\" x2=\"250\" y2=\"50\" stroke=\"#FF6B6B\" stroke-width=\"2\"/>\n",
    "    </svg>\n",
    "  </div>\n",
    "  \n",
    "  <!-- Leaf nodes -->\n",
    "  <div style=\"display: flex; justify-content: center; gap: 50px;\">\n",
    "    <span style='font-size:40px;'>&#x1F0AB;</span>  <!-- Jack of spades -->\n",
    "    <span style='font-size:40px; color:red'>&#x1F0CB;</span>  <!-- Jack of diamonds -->\n",
    "    <span style='font-size:40px;'>&#x1F0DB;</span>  <!-- Jack of clubs -->\n",
    "  </div>\n",
    "</div>\n",
    "\n",
    "Answer: 3\n",
    "\n",
    "> (TOTAL) How many ways to select 2 cards forming a pair?\n",
    "\n",
    "Recall that we need to account for the \"order\". So, we need to divide by the number of permutations of 2 cards.\n",
    "\n",
    "Answer: $\\frac{52\\times 3}{2!} = 26 \\times 3 = 78$\n",
    "\n",
    "2. Second, we focus on the remaining 3 cards.\n",
    "\n",
    "<center>\n",
    "<!-- Pair cards -->\n",
    "<span style='font-size:100px; color:red'>&#x1F0BB; </span>\n",
    "<span style='font-size:100px;'>  &#x1F0DB; </span>\n",
    "<!-- Vertical separator -->\n",
    "<span style='font-size:100px; color: #888; margin: 0 10px;'>|</span>\n",
    "<!-- Other cards with background highlight -->\n",
    "<span style='display: inline-block; background-color: #fff3cd; padding: 10px; border-radius: 10px; margin-right: 5px;'>\n",
    "    <span style='font-size:100px;'>  &#x1F0DE; &#x1F0A9; </span> \n",
    "    <span style='font-size:100px; color:red'> &#x1F0B3;</span>\n",
    "</span>\n",
    "</center>\n",
    "\n",
    "Conditions:\n",
    "- their rank is different from that of the pair;\n",
    "- their ranks are different from each other\n",
    "\n",
    "> How many ways to select the first card NOT forming a pair?\n",
    "\n",
    "As one rank is taken by the pair, we need to exclude 4 cards of this rank from the deck.\n",
    "\n",
    "Answer: 52 - 4 = 48\n",
    "\n",
    "*Warning!* here, we introduce the notion of order that we need to account for later\n",
    "\n",
    "> How many ways to select the second card NOT forming a pair?\n",
    "\n",
    "As the ranks of all remaining cards should be different, we need to subtract the cards of the rank of a previous card:\n",
    "\n",
    "Answer: 48 - 4 = 44\n",
    "\n",
    "> How many ways to select the third card NOT forming a pair?\n",
    "\n",
    "Idem.\n",
    "\n",
    "Answer: 44 - 4 = 40\n",
    "\n",
    "> (TOTAL) How many ways to choose the remaining three cards of a hand?\n",
    "\n",
    "Recall to account for the introduced order.\n",
    "\n",
    "Answer: $\\frac{48\\times 44\\times 40}{3!} = \\frac{48\\times 44\\times 40}{3\\times 2 \\times 1} = 8\\times 44\\times 40 = 14080$\n",
    "\n",
    "3. Number of possibilities to get a pair hand:\n",
    "\n",
    "$$78\\times 14080 = 1,098,240$$\n",
    "\n",
    "4. Probability to get a pair:\n",
    "\n",
    "$$\\frac{\\text{\\# possibilities to get a pair hand}}{\\text{\\# possibilities to get a 5-card hand}} = \\frac{1,098,240}{2,598,960}\\approx 42\\%$$\n",
    "\n",
    "\n",
    "\n",
    "</details>"
   ]
  },
  {
   "cell_type": "code",
   "execution_count": null,
   "id": "3311af9a",
   "metadata": {},
   "outputs": [],
   "source": [
    "# theoretical probability\n",
    "theoretical_probability = comb(4,2) * comb(13,1) * 4**3 * comb(12,3) / comb(52,5)\n",
    "print(f\"Theoretical probability to get a pair: {theoretical_probability}\")"
   ]
  },
  {
   "cell_type": "markdown",
   "id": "27352f41",
   "metadata": {},
   "source": [
    "<div class=\"alert-exercise\">\n",
    "<h5> QUESTION:</h5> Let's simulate a pair as a poker hand and see if we get a similar result. Compare the result with the theoretical.\n",
    "\n",
    "```\n",
    "def simulate_poker_hands(n_simulations:int=100000) -> float:\n",
    "    \"\"\"Simulate poker hands to estimate probability of getting a pair\n",
    "\n",
    "    Args:\n",
    "        n_simulations (int, optional): number of simulations. Defaults to 100000.\n",
    "\n",
    "    Returns:\n",
    "        float: probability of getting a pair\n",
    "    \"\"\"\n",
    "```\n",
    "\n",
    "To do so, we are going to use Monte Carlo simulation to empirically estimate the probability of getting exactly one pair in a 5-card poker hand by repeatedly sampling random hands and counting favorable outcomes.\n",
    "\n",
    "1. Create a deck of 52 cards. Use the `get_card_deck_52()` function provided.\n",
    "2. The main algorithm:\n",
    "\n",
    "```\n",
    "For each simulation trial:\n",
    "  a) Draw 5 cards randomly without replacement from the deck\n",
    "  b) Extract just the ranks from the 5 cards\n",
    "  c) Count frequency of each rank in the hand\n",
    "  d) Check if hand matches \"exactly one pair\" pattern\n",
    "  e) If yes, increment pair_count\n",
    "```\n",
    "\n",
    "3. Pair detection logic:\n",
    "\n",
    "```\n",
    "A hand has exactly one pair if and only if:\n",
    "  - Rank frequencies when sorted = [2, 1, 1, 1]\n",
    "```\n",
    "\n",
    "This means:\n",
    "  - Exactly one rank appears twice (the pair)\n",
    "  - Three other ranks each appear once\n",
    "  - No three-of-a-kind, two pair, full house, etc.\n",
    "\n",
    "Other hands have other patterns:\n",
    "* High card: [1, 1, 1, 1, 1]\n",
    "* Two pair: [2, 2, 1]\n",
    "* Three of a kind: [3, 1, 1]\n",
    "* Full house: [3, 2]\n",
    "* Four of a kind: [4, 1]\n",
    "\n",
    "4. Probability estimation:\n",
    "\n",
    "```\n",
    "Estimated probability = pair_count / n_simulations\n",
    "```\n",
    "\n",
    "</div>"
   ]
  },
  {
   "cell_type": "code",
   "execution_count": null,
   "id": "6a016058",
   "metadata": {},
   "outputs": [],
   "source": [
    "def get_card_deck_52() -> list:\n",
    "    \"\"\"Creates a list of 52 cards as the Cartesian product of 13 ranks and 4 suits.\n",
    "\n",
    "    Returns:\n",
    "        list: list of 52 cards, where a card is given by a tuple (rank, suit)\n",
    "    \"\"\"\n",
    "    ranks = ['2', '3', '4', '5', '6', '7', '8', '9', '10', 'J', 'Q', 'K', 'A']\n",
    "    suits = ['♠', '♥', '♦', '♣']\n",
    "    \n",
    "    deck_prod = product(ranks, suits)\n",
    "    deck = []\n",
    "    for e in deck_prod:\n",
    "        deck.append(e)\n",
    "    \n",
    "    # or simply\n",
    "    # deck = [(rank, suit) for rank in ranks for suit in suits]\n",
    "    \n",
    "    return deck"
   ]
  },
  {
   "cell_type": "code",
   "execution_count": null,
   "id": "3f46b222",
   "metadata": {},
   "outputs": [],
   "source": [
    "# create a deck\n",
    "d = get_card_deck_52()\n",
    "print(f\"Deck: {d}\")\n",
    "# choose 5 cards from a deck\n",
    "random.sample(d, 5)"
   ]
  },
  {
   "cell_type": "code",
   "execution_count": null,
   "id": "e8fc3ef2",
   "metadata": {},
   "outputs": [],
   "source": [
    "# ANSWER\n",
    "def simulate_poker_hands(n_simulations:int=100000) -> float:\n",
    "    \"\"\"Simulate poker hands to estimate probability of getting a pair\n",
    "\n",
    "    Args:\n",
    "        n_simulations (int, optional): number of simulations. Defaults to 100000.\n",
    "\n",
    "    Returns:\n",
    "        float: probability of getting a pair\n",
    "    \"\"\"\n",
    "    \n",
    "    return 0"
   ]
  },
  {
   "cell_type": "code",
   "execution_count": null,
   "id": "4fd91c78",
   "metadata": {},
   "outputs": [],
   "source": [
    "# ANSWER\n",
    "empirical_probability = simulate_poker_hands(n_simulations=100000)\n",
    "print(f\"Empirical probability to get a pair: {empirical_probability}\")"
   ]
  },
  {
   "cell_type": "markdown",
   "id": "6534a217",
   "metadata": {},
   "source": [
    "Let's vary the number of simulations and plot the obtained values."
   ]
  },
  {
   "cell_type": "code",
   "execution_count": null,
   "id": "9aa68334",
   "metadata": {},
   "outputs": [],
   "source": [
    "probabilities = []\n",
    "sim_counts = [10, 50, 100, 200, 300, 500, 800, 1000, 2000, 5000, 7000, 10000, 20000, 50000, 70000, 100000]\n",
    "\n",
    "for n in sim_counts:\n",
    "    p = simulate_poker_hands(n)\n",
    "    probabilities.append(p)"
   ]
  },
  {
   "cell_type": "code",
   "execution_count": null,
   "id": "1529ee83",
   "metadata": {},
   "outputs": [],
   "source": [
    "# Create plot\n",
    "plt.figure(figsize=(12, 7))\n",
    "    \n",
    "# Plot simulated probability\n",
    "plt.plot(sim_counts, probabilities, \n",
    "             color='#3498db', linewidth=2, \n",
    "             label='Simulated Probability', alpha=0.8)\n",
    "    \n",
    "# Plot theoretical probability as dashed line\n",
    "plt.axhline(y=theoretical_probability, \n",
    "                color='#FA8072', linestyle='--', linewidth=2.5,\n",
    "                label=f'Theoretical Probability = {theoretical_probability:.4f} (42.26%)')\n",
    "    \n",
    "# Add confidence bands (optional - shows ±1 standard error)\n",
    "std_errors = [np.sqrt(theoretical_probability * (1 - theoretical_probability) / n) \n",
    "                  for n in sim_counts]\n",
    "upper_bound = [theoretical_probability + 1.96 * se for se in std_errors]\n",
    "lower_bound = [theoretical_probability - 1.96 * se for se in std_errors]\n",
    "    \n",
    "plt.fill_between(sim_counts, lower_bound, upper_bound, \n",
    "                     color='#FA8072', alpha=0.2, \n",
    "                     label='95% Confidence Interval')\n",
    "    \n",
    "# Formatting\n",
    "plt.xlabel('Number of Simulations', fontsize=12, fontweight='bold')\n",
    "plt.ylabel('Probability of Getting a Pair', fontsize=12, fontweight='bold')\n",
    "plt.title('Convergence of Monte Carlo Simulation to Theoretical Probability', \n",
    "              fontsize=14, fontweight='bold', pad=20)\n",
    "plt.legend(loc='best', fontsize=11, framealpha=0.9)\n",
    "plt.grid(True, alpha=0.3, linestyle='--')\n",
    "    \n",
    "# Add annotation at final point\n",
    "final_prob = probabilities[-1]\n",
    "plt.annotate(f'Final estimate: {final_prob:.4f}\\n({final_prob*100:.2f}%)',\n",
    "                xy=(sim_counts[-1], final_prob),\n",
    "                xytext=(sim_counts[-1]*0.7, final_prob + 0.02),\n",
    "                fontsize=10,\n",
    "                bbox=dict(boxstyle='round,pad=0.5', facecolor='lightblue', alpha=0.7),\n",
    "                arrowprops=dict(arrowstyle='->', color='black', lw=1.5))\n",
    "    \n",
    "plt.tight_layout()\n",
    "plt.show()"
   ]
  },
  {
   "cell_type": "markdown",
   "id": "e51de9ef",
   "metadata": {},
   "source": [
    "## Common Mistakes in Counting"
   ]
  },
  {
   "cell_type": "markdown",
   "id": "b98705cc",
   "metadata": {},
   "source": [
    "<div class=\"alert alert-danger\">\n",
    "<h4>⚠️ Common Mistakes in Counting</h4>\n",
    "<ul>\n",
    "<li><strong>Order confusion:</strong> Forgetting whether order matters (arrangements vs combinations)</li>\n",
    "<li><strong>Repetition oversight:</strong> Not considering if elements can be reused</li>\n",
    "<li><strong>Overcounting:</strong> Counting the same outcome multiple times</li>\n",
    "<li><strong>Missing constraints:</strong> Ignoring problem-specific restrictions</li>\n",
    "<li><strong>Wrong principle:</strong> Using multiplication when addition is needed, or vice versa</li>\n",
    "</ul>\n",
    "</div>"
   ]
  },
  {
   "cell_type": "markdown",
   "id": "fc99920c",
   "metadata": {},
   "source": [
    "## Applications in Machine Learning"
   ]
  },
  {
   "cell_type": "markdown",
   "id": "f327387a",
   "metadata": {},
   "source": [
    "<div class=\"alert alert-secondary\">\n",
    "<h4>🤖 ML Application: Hyperparameter Grid Search</h4>\n",
    "<p>A machine learning engineer at Netflix needs to optimize a recommendation model with the following hyperparameters:</p>\n",
    "<ul>\n",
    "<li>Learning rate: [0.001, 0.01, 0.1] (3 options)</li>\n",
    "<li>Batch size: [32, 64, 128, 256] (4 options)</li>\n",
    "<li>Hidden layers: [2, 3, 4, 5] (4 options)</li>\n",
    "<li>Dropout rate: [0.1, 0.2, 0.3, 0.4, 0.5] (5 options)</li>\n",
    "<li>Optimizer: ['Adam', 'SGD', 'RMSprop'] (3 options)</li>\n",
    "</ul>\n",
    "<p><strong>Challenge:</strong> How many total configurations need to be tested in a complete grid search?</p>\n",
    "</div>"
   ]
  },
  {
   "cell_type": "code",
   "execution_count": null,
   "id": "6a6d875b",
   "metadata": {},
   "outputs": [],
   "source": [
    "# Calculate hyperparameter combinations\n",
    "hyperparams = {\n",
    "    'learning_rate': 3,\n",
    "    'batch_size': 4,\n",
    "    'hidden_layers': 4,\n",
    "    'dropout_rate': 5,\n",
    "    'optimizer': 3\n",
    "}\n",
    "\n",
    "total_configs = 1\n",
    "for param, options in hyperparams.items():\n",
    "    total_configs *= options\n",
    "    print(f\"{param}: {options} options\")\n",
    "\n",
    "print(f\"\\nTotal configurations: {' × '.join(map(str, hyperparams.values()))} = {total_configs:,}\")"
   ]
  },
  {
   "cell_type": "markdown",
   "id": "049c6a11",
   "metadata": {},
   "source": [
    "<div class=\"alert alert-warning\">\n",
    "<h4>💡 Key Insight: Curse of Dimensionality</h4>\n",
    "<p>As the number of hyperparameters increases, the search space grows exponentially. This is why techniques like random search, Bayesian optimization, and genetic algorithms are often preferred over exhaustive grid search.</p>\n",
    "</div>"
   ]
  },
  {
   "cell_type": "markdown",
   "id": "d243a837",
   "metadata": {},
   "source": [
    "<div class=\"alert alert-primary\">\n",
    "<h4>🤖 ML Application: Feature Engineering</h4>\n",
    "<p><strong>Polynomial Features:</strong> When creating polynomial features of degree <em>d</em> from <em>n</em> original features, we need to count the number of resulting features.</p>\n",
    "<p>In general case:\n",
    "\n",
    "$$\\left(\\begin{matrix}n + d \\\\ d\\end{matrix}\\right)$$\n",
    "</p>\n",
    "\n",
    "<em>Note:</em> sometimes, the intercept term (degree = 0) is not counted, in this case the formula becomes:\n",
    "\n",
    "$$\\left(\\begin{matrix}n + d \\\\ d\\end{matrix}\\right) - 1$$\n",
    "\n",
    "<p>For degree 2 with <em>n</em> original features, we get the following number of polynomial features:\n",
    "\n",
    "$$C(n+d,d) = C(2+2, 2) = C(4, 2) = 6$$\n",
    "</p>\n",
    "This corresponds to: `1`, `a`, `b`, `ab`, `a^2`, `b^2`. \n",
    "<p>This counting helps us understand computational complexity and memory requirements.</p>\n",
    "</div>\n",
    "\n",
    "Note that this is actually a combinations with repetition problem - we're choosing which features to multiply together (with repetition allowed, e.g. $a^2$ uses $a$ twice).\n",
    "\n"
   ]
  },
  {
   "cell_type": "code",
   "execution_count": null,
   "id": "ff0a368c",
   "metadata": {},
   "outputs": [],
   "source": [
    "d = 3\n",
    "n = 5\n",
    "# calculate the number of polynomial features\n",
    "combinations_count(n+d, d)"
   ]
  },
  {
   "cell_type": "markdown",
   "id": "c9ac016a",
   "metadata": {},
   "source": [
    "If we want to calculate the number of polynomial features with the detail for each degree up to the given degree, we can use combinations with repetition:"
   ]
  },
  {
   "cell_type": "code",
   "execution_count": null,
   "id": "f7ca0a5c",
   "metadata": {},
   "outputs": [],
   "source": [
    "def count_polynomial_features(n_features, degree):\n",
    "    \"\"\"Count number of polynomial features up to given degree\"\"\"\n",
    "    total_features = 0\n",
    "    for d in range(degree + 1):\n",
    "        if d == 0:\n",
    "            features_degree_d = 1\n",
    "        else:\n",
    "            # Features of degree d: combinations with repetition\n",
    "            features_degree_d = combinations_with_repetition_count(n_features, d)\n",
    "        total_features += features_degree_d\n",
    "        print(f\"Degree {d}: {features_degree_d} features\")\n",
    "        \n",
    "    return total_features"
   ]
  },
  {
   "cell_type": "code",
   "execution_count": null,
   "id": "26a161d6",
   "metadata": {},
   "outputs": [],
   "source": [
    "polynom_features_count = count_polynomial_features(n, d)\n",
    "print(f\"Total polynomial features up to degree {d}: {polynom_features_count}\")"
   ]
  },
  {
   "cell_type": "markdown",
   "id": "cc1a2abf",
   "metadata": {},
   "source": [
    "## Key Takeaways"
   ]
  },
  {
   "cell_type": "markdown",
   "id": "44b0fcc8",
   "metadata": {},
   "source": [
    "<div class=\"alert alert-summary\">\n",
    "<h4>📋 Key Takeaways</h4>\n",
    "<ol>\n",
    "<li><strong>Order matters:</strong> Use permutations/arrangements when sequence is important</li>\n",
    "<li><strong>Order doesn't matter:</strong> Use combinations when only selection matters</li>\n",
    "<li><strong>Repetition allowed:</strong> Elements can be reused in the selection</li>\n",
    "<li><strong>Fundamental counting principle:</strong> Multiply possibilities for independent choices</li>\n",
    "<li><strong>Real-world applications:</strong> Counting appears everywhere in ML - from hyperparameter optimization to feature engineering</li>\n",
    "</ol>\n",
    "</div>"
   ]
  }
 ],
 "metadata": {
  "kernelspec": {
   "display_name": "venv",
   "language": "python",
   "name": "python3"
  },
  "language_info": {
   "codemirror_mode": {
    "name": "ipython",
    "version": 3
   },
   "file_extension": ".py",
   "mimetype": "text/x-python",
   "name": "python",
   "nbconvert_exporter": "python",
   "pygments_lexer": "ipython3",
   "version": "3.10.11"
  }
 },
 "nbformat": 4,
 "nbformat_minor": 5
}
