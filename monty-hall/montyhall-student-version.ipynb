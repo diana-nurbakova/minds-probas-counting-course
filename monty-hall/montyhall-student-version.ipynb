{
 "cells": [
  {
   "cell_type": "markdown",
   "id": "8c1d6aca",
   "metadata": {},
   "source": [
    "# Monty-Hall Problem"
   ]
  },
  {
   "cell_type": "code",
   "execution_count": null,
   "id": "35307a8f",
   "metadata": {},
   "outputs": [],
   "source": [
    "%%html\n",
    "<link rel=\"stylesheet\" type=\"text/css\" href=\"../styles/styles.css\">"
   ]
  },
  {
   "cell_type": "markdown",
   "id": "589f988a",
   "metadata": {},
   "source": [
    "There is a probabilistic puzzle [*the Monty Hall problem*](https://en.wikipedia.org/wiki/Monty_Hall_problem), also known as *the Monty Hall paradox*, inspired by the American television game show [*Let's Make a Deal*](https://en.wikipedia.org/wiki/Let%27s_Make_a_Deal) presented by [Monty Hall](https://en.wikipedia.org/wiki/Monty_Hall). \n",
    "\n",
    "The problem can be formulated as follows:\n",
    " \n",
    "\n",
    "The person is placed in front of three closed doors.\n",
    "\n",
    "<center>\n",
    "<img src=\"img/3-doors.png\" alt=\"Three closed doors\" width=\"400px\">\n",
    "</center>\n",
    "\n",
    "Behind one door is a prize and behind the other two is a goat. \n",
    "\n",
    "The person chooses a door that remains closed:\n",
    "<center>\n",
    "<img src=\"img/choice-1.png\" alt=\"1st choice of a door\" width=\"400px\">\n",
    "</center>\n",
    "\n",
    "The presenter, who knows what is behind each door, opens one of the remaining doors, behind which is a goat:\n",
    "\n",
    "<center>\n",
    "<img src=\"img/goat-revealed.png\" alt=\"A goat is revealed behind one of the doors\" width=\"400px\">\n",
    "</center>\n",
    "\n",
    "The person then has a choice: either open the door they initially chose, or open another door (i.e. change their mind).\n",
    "<center>\n",
    "<img src=\"img/question.png\" alt=\"Which door to choose?\" width=\"620px\">\n",
    "</center>\n",
    "\n",
    "> Is it in the person's interest to change their initial choice? \n",
    "\n",
    "> What are their chances of winning the prize by acting in the best possible way?\n",
    "\n",
    "<img style=\"float: right;\" src=\"https://allthatsinteresting.com/wordpress/wp-content/uploads/2018/03/portrait-of-marilyn-vos-savant.jpg\" alt=\"Marilyn Vos Savant's portrait, source: allthatsinteresting.com, under Wikimedia Commons licence\" width=\"150px\" > This problem became known to the general public thanks to [Marilyn Vos Savant](https://en.wikipedia.org/wiki/Marilyn_vos_Savant), a woman with one of the highest IQs in the world, as listed in the Guinness Book of Records. She published the question and her answer in her *Ask Marilyn* column in Parade Magazine in September 1990:\n",
    "\n",
    "*Suppose you're on a game show, and you're given the choice of three doors: Behind one door is a car; behind the others, goats. You pick a door, say No. 1, and the host, who knows what's behind the doors, opens another door, say No. 3, which has a goat. He then says to you, “Do you want to pick door No. 2?” Is it to your advantage to switch your choice?\"*\n",
    "\n",
    "To answer this question, we will first approach this problem from a probabilistic point of view, and then we will do a simulation."
   ]
  },
  {
   "cell_type": "markdown",
   "id": "13b7c41d",
   "metadata": {},
   "source": [
    "## Probabilistic Approach"
   ]
  },
  {
   "cell_type": "markdown",
   "id": "0d5dd2b0",
   "metadata": {},
   "source": [
    "Let $A = \\text{\\{the person wins the prize\\}}$ and $B = \\text{\\{the person chose the right door\\}}$. Then, according to the total probability formula:\n",
    "\n",
    "$$\\mathbb{P}(A) = \\mathbb{P}(A|B)\\times \\mathbb{P}(B) + \\mathbb{P}(A|\\bar{B})\\times \\mathbb{P}(\\bar{B})$$\n",
    "\n",
    "Note that the probability that the person chose the right door, $\\mathbb{P}(B) = \\frac{1}{3}$ when there is only one prize behind three doors. And $\\mathbb{P}(\\bar{B}) = \\frac{2}{3}$. Thus, we obtain:\n",
    " \n",
    "\n",
    "$$\\mathbb{P}(A) = \\mathbb{P}(A|B)\\times \\mathbb{P}(B) + \\mathbb{P}(A|\\bar{B})\\times \\mathbb{P}(\\bar{B}) = \\mathbb{P}(A|B)\\times \\frac{1}{3} + \\mathbb{P}(A|\\bar{B})\\times \\frac{2} {3}$$\n",
    "\n",
    "Let us consider the case where **the person sticks with their initial choice**:\n",
    "\n",
    "* the probability of winning knowing that the chosen door is correct is 1, i.e. $\\mathbb{P}(A|B) = 1$\n",
    "* the probability of winning knowing that the chosen door is not the right one is 0, i.e. $\\mathbb{P}(A|\\bar{B}) = 0$\n",
    "\n",
    "In this case:\n",
    "$$\\mathbb{P}(A) = \\mathbb{P}(A|B)\\times \\mathbb{P}(B) + \\mathbb{P}(A|\\bar{B})\\times \\mathbb{P}(\\bar{B}) = \\mathbb{P}(A|B)\\times \\frac{1}{3} + \\mathbb {P}(A|∅)\\times \\frac{2}{3} = 1\\times \\frac{1}{3} + 0\\times \\frac{2}{3} = \\mathbf{\\frac{1}{3}}$$\n",
    "<center>\n",
    "<img src=\"img/tree-keep-initial-choice.png\" alt=\"Probability tree if the strategy is to stick with the initial choice\" width=\"620px\">\n",
    "</center>\n",
    "\n",
    "\n",
    "Now, let's consider the case where **the person changes their mind**:\n",
    "\n",
    "* if the person initially chose the right door, the probability of winning if they subsequently change is 0, i.e. $\\mathbb{P}(A|B) = 0$\n",
    "* if the person initially chose the right door, the probability of winning if they subsequently change is 1, i.e. $\\mathbb{P}(A|\\hat{B}) = 1$.\n",
    "\n",
    "Therefore:\n",
    "$$\\mathbb{P}(A) = \\mathbb{P}(A|B)\\times \\mathbb{P}(B) + \\mathbb{P}(A|\\bar{B})\\times \\mathbb{P}(\\bar{B}) = \\mathbb{P}(A|B)\\times \\frac{1}{3} + \\mathbb\n",
    " {P}(A|∅)\\times \\frac{2}{3} = 0\\times \\frac{1}{3} + 1\\times \\frac{2}{3} = \\mathbf{\\frac{2}{3}}$$\n",
    "\n",
    "<center>\n",
    "<img src=\"img/tree-change-initial-choice.png\" alt=\"Probability tree if the strategy is to change the initial choice\" width=\"620px\">\n",
    "</center>\n",
    "\n",
    "In other words, initially the probabilities of winning are distributed as follows:\n",
    "<center>\n",
    "<img src=\"img/doors-prob.png\" alt=\"Probability of winning initially\" width=\"400px\">\n",
    "</center>\n",
    "\n",
    "Once a goat is revealed, the probability of winning is distributed as follows:\n",
    "<center>\n",
    "<img src=\"img/doors-prob-goat.png\" alt=\"Initial probability of winning\" width=\"400px\">\n",
    "</center>\n"
   ]
  },
  {
   "cell_type": "markdown",
   "id": "fd7f0a98",
   "metadata": {},
   "source": [
    "## Simulation"
   ]
  },
  {
   "cell_type": "markdown",
   "id": "e3c517c6",
   "metadata": {},
   "source": [
    "Let's verify the reasoning below with a simulation. \n",
    "\n",
    "We will need a pseudo-random generator. We can use the [`random`](https://docs.python.org/3/library/random.html) module."
   ]
  },
  {
   "cell_type": "code",
   "execution_count": null,
   "id": "2ca5bd79",
   "metadata": {},
   "outputs": [],
   "source": [
    "# loading the pseudo-random number generator module\n",
    "from random import randint, choice "
   ]
  },
  {
   "cell_type": "markdown",
   "id": "6f8a931e",
   "metadata": {},
   "source": [
    "In order to choose an integer $N$ between $a$ and $b$ (i.e. $a \\leq N \\leq b$), you can use the function [`random.randint(a, b)`](https://docs.python.org/3/library/random.html#random.randint), e.g.:"
   ]
  },
  {
   "cell_type": "code",
   "execution_count": null,
   "id": "72cde995",
   "metadata": {},
   "outputs": [],
   "source": [
    "# choose a number between 1 and 6\n",
    "randint(1, 6)"
   ]
  },
  {
   "cell_type": "markdown",
   "id": "03c7fc48",
   "metadata": {},
   "source": [
    "To select an element from a sequence `s` at random, you can use the function [`random.choice()`](https://docs.python.org/3/library/random.html#random.choice), e.g.:"
   ]
  },
  {
   "cell_type": "code",
   "execution_count": null,
   "id": "9b0c8332",
   "metadata": {},
   "outputs": [],
   "source": [
    "# list (sequence of elements)\n",
    "s = ['a', 'b', 'c']\n",
    "# randomly choose an element\n",
    "choice(s)"
   ]
  },
  {
   "cell_type": "markdown",
   "id": "25094e12",
   "metadata": {},
   "source": [
    "### Simulation Example (Rolling a Dice)"
   ]
  },
  {
   "cell_type": "markdown",
   "id": "7f4423b8",
   "metadata": {},
   "source": [
    "Let us imagine that the problem we are dealing with is as follows. We roll a fair die six times. What interests us is the probability of obtaining six different values during these rolls.\n",
    " \n",
    "From a probabilistic point of view, this probability is equal to:\n",
    "\n",
    "$$\\frac{6}{6} \\times \\frac{5}{6} \\times \\frac{4}{6} \\times \\frac{3}{6} \\times \\frac{2}{6} \\times \\frac{1}{6} = \\frac{6!}{6^6} = 0.015$$\n",
    "\n",
    "<center>\n",
    "<img src=\"img/rolling-dice-animation.svg\" alt=\"Rolling dice\" width=\"200px\">\n",
    "<img src=\"img/rolling-dice-animation.svg\" alt=\"Rolling dice\" width=\"200px\">\n",
    "<img src=\"img/rolling-dice-animation.svg\" alt=\"Rolling dice\" width=\"200px\">\n",
    "<img src=\"img/rolling-dice-animation.svg\" alt=\"Rolling dice\" width=\"200px\">\n",
    "<img src=\"img/rolling-dice-animation.svg\" alt=\"Rolling dice\" width=\"200px\">\n",
    "<img src=\"img/rolling-dice-animation.svg\" alt=\"Rolling dice\" width=\"200px\">\n",
    "</center>"
   ]
  },
  {
   "cell_type": "code",
   "execution_count": null,
   "id": "b2b83280",
   "metadata": {},
   "outputs": [],
   "source": [
    "import math \n",
    "# calculate the value\n",
    "math.factorial(6) / 6**6"
   ]
  },
  {
   "cell_type": "markdown",
   "id": "e703e433",
   "metadata": {},
   "source": [
    "Let's move on to the simulation by identifying the following points:\n",
    "\n",
    "* *variables to be controlled*: the results of 6 dice rolls\n",
    "* *distribution of each variable*: discrete uniform, 1/6 for each side:\n",
    "  \n",
    "\n",
    "|1</br>&#x2680;|2</br>&#x2681;|3</br>&#x2682;|4</br>&#x2683;|5</br>&#x2684;|6</br>&#x2685;|\n",
    "|--|--|--|--|--|--|\n",
    "|$$\\frac{1}{6}$$|$$\\frac{1}{6}$$|$$\\frac{1}{6}$$|$$\\frac{1}{6}$$|$$\\frac{1}{6}$$|$$\\frac{1}{6}$$|\n",
    "\n",
    "* *loop* (to be repeated as many times as the number of trials):\n",
    "    - *realisation of a random variable*: rolling a die\n",
    "    - *deterministic calculation of the result*: adding the result of the realisation to a set (`set`). If the size of this set after 6 rolls is equal to 6 (number of rolls), then all rolls had different results. If this is the case, the value of the success counter variable is incremented. \n",
    "* *Aggregation of results*: divide the number of successes by the number of trials to obtain the probability"
   ]
  },
  {
   "cell_type": "code",
   "execution_count": null,
   "id": "3bcafcfc",
   "metadata": {},
   "outputs": [],
   "source": [
    "# number of trials\n",
    "trials = 1000000\n",
    "# initialisation of the counter of success\n",
    "success = 0\n",
    "# number of rolls\n",
    "rolls = 6\n",
    "# repetitions according to the number of trials\n",
    "for i in range(trials):\n",
    "    # set of unique results during a trial\n",
    "    faces = set() \n",
    "    # for each roll \n",
    "    for j in range(rolls):\n",
    "        # a draw from a r.v. following a uniform distribution on [1, 6]\n",
    "        res = randint(1, 6)\n",
    "        # add the result into the set faces\n",
    "        faces.add(res)\n",
    "    # test if the number of values in faces is equal to the number of rolls\n",
    "    if len(faces) == rolls :\n",
    "        # increment success\n",
    "        success += 1\n",
    "# calculate the probability of success\n",
    "prob = success / trials\n",
    "# display the result\n",
    "print(f\"The probability of success : {prob}\")"
   ]
  },
  {
   "cell_type": "markdown",
   "id": "df70cbc8",
   "metadata": {},
   "source": [
    "Note that the result obtained is consistent with the theoretical value."
   ]
  },
  {
   "cell_type": "markdown",
   "id": "30d6ea4c",
   "metadata": {},
   "source": [
    "### Application to the Monty Hall Problem"
   ]
  },
  {
   "cell_type": "markdown",
   "id": "830fea16",
   "metadata": {},
   "source": [
    "Let `doors = [‘A’, “B”, ‘C’]` be a list containing the options for the doors. Write the function `simulation_monty_hall(trials)` which takes as a parameter the number of runs to be made (trials) and performs the following operations:\n",
    "- choose the winning door at random from doors,\n",
    "- choose the person's 'initial choice' door at random from doors,\n",
    "- aggregate the winning results by choosing either the initial door or changing the door once a goat is revealed.\n",
    "- calculates the success rate of each strategy: if the initial choice is a winner, then the strategy of keeping the initial choice wins; otherwise, the strategy of changing the door wins.\n",
    "\n",
    "```\n",
    "def simulation_monty_hall(trials=10000):\n",
    "    \"\"\"\n",
    "    Simulation of the Monty Hall problem. The winning door and the door initially chosen by the user \n",
    "    are chosen at random.\n",
    "        \n",
    "    Keyword arguments:\n",
    "        trials --  number of simulations (trials). Default is 10000\n",
    "    \n",
    "        \n",
    "    Return: a dictionary containing the number of times the initially chosen door wins (initial) and \n",
    "            the number of times the strategy of changing doors wins (change)\n",
    "    \"\"\"\n",
    "```"
   ]
  },
  {
   "cell_type": "code",
   "execution_count": null,
   "id": "666980ca",
   "metadata": {},
   "outputs": [],
   "source": [
    "## ANSWER\n",
    "def simulation_monty_hall(trials=10000):\n",
    "    \"\"\"\n",
    "    Simulation of the Monty Hall problem. The winning door and the door initially chosen by the user \n",
    "    are chosen at random.\n",
    "        \n",
    "    Keyword arguments:\n",
    "        trials --  number of simulations (trials). Default is 10000\n",
    "    \n",
    "        \n",
    "    Return: a dictionary containing the number of times the initially chosen door wins (initial) and \n",
    "            the number of times the strategy of changing doors wins (change)\n",
    "    \"\"\"\n",
    "    \n",
    "    \n",
    "    return {'initial' : 0, 'change' : 0}"
   ]
  },
  {
   "cell_type": "markdown",
   "id": "92d88eb8",
   "metadata": {},
   "source": [
    "Perform simulations for the number of runs 10, 100, 1000, 10000, 50000, 100000, 1000000. Display the following statistics:\n",
    "- the number of runs\n",
    "- the number of times the strategy of keeping the initial choice (strategy 1) wins\n",
    "- the number of times the strategy of changing (strategy 2) wins\n",
    "- the probability of winning with strategy 1\n",
    "- the probability of winning with strategy 2\n",
    "Comment."
   ]
  },
  {
   "cell_type": "code",
   "execution_count": null,
   "id": "18c3ab12",
   "metadata": {},
   "outputs": [],
   "source": [
    "## ANSWER\n"
   ]
  },
  {
   "cell_type": "markdown",
   "id": "a5a46cc2",
   "metadata": {},
   "source": [
    "**Conclusions/comments:** <span style='font-size:20px; color:red'>YOUR COMMENT HERE</span>"
   ]
  },
  {
   "cell_type": "markdown",
   "id": "c8322b5f",
   "metadata": {},
   "source": []
  }
 ],
 "metadata": {
  "kernelspec": {
   "display_name": "probability-statistics-ai-course",
   "language": "python",
   "name": "python3"
  },
  "language_info": {
   "codemirror_mode": {
    "name": "ipython",
    "version": 3
   },
   "file_extension": ".py",
   "mimetype": "text/x-python",
   "name": "python",
   "nbconvert_exporter": "python",
   "pygments_lexer": "ipython3",
   "version": "3.10.13"
  }
 },
 "nbformat": 4,
 "nbformat_minor": 5
}
