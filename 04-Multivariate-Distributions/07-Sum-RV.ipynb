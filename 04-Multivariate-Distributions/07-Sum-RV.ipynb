{
 "cells": [
  {
   "cell_type": "markdown",
   "id": "b4c78c89",
   "metadata": {},
   "source": [
    "# Sum of Real Random Variables"
   ]
  },
  {
   "cell_type": "code",
   "execution_count": null,
   "id": "e1f62eaf",
   "metadata": {},
   "outputs": [],
   "source": [
    "%%html\n",
    "<link rel=\"stylesheet\" type=\"text/css\" href=\"../styles/styles.css\">"
   ]
  },
  {
   "cell_type": "markdown",
   "id": "a9391881",
   "metadata": {},
   "source": [
    "## Learning Objectives"
   ]
  },
  {
   "cell_type": "markdown",
   "id": "0b721874",
   "metadata": {},
   "source": [
    "By the end of this lesson, you will be able to:"
   ]
  },
  {
   "cell_type": "code",
   "execution_count": null,
   "id": "ec5758fe",
   "metadata": {},
   "outputs": [],
   "source": [
    "import numpy as np\n",
    "import pandas as pd\n",
    "import matplotlib.pyplot as plt\n",
    "import seaborn as sns\n",
    "from scipy import stats\n",
    "from mpl_toolkits.mplot3d import Axes3D\n",
    "\n",
    "# Set style for better-looking plots\n",
    "plt.style.use('seaborn-v0_8-darkgrid')\n",
    "#sns.set_palette(\"husl\")\n",
    "\n",
    "# Set random seed for reproducibility\n",
    "np.random.seed(42)"
   ]
  },
  {
   "cell_type": "code",
   "execution_count": null,
   "id": "19167247",
   "metadata": {},
   "outputs": [],
   "source": [
    "import sys\n",
    "from pathlib import Path\n",
    "\n",
    "# Add the \"resources\" directory to the path\n",
    "project_root = Path().resolve().parent\n",
    "resources_path = project_root / 'resources'\n",
    "sys.path.insert(0, str(resources_path))"
   ]
  },
  {
   "cell_type": "code",
   "execution_count": null,
   "id": "28e77053",
   "metadata": {},
   "outputs": [],
   "source": [
    "from multivariate import(get_viz_movie_data, viz_joint_distr_cont, covariance_demo, demo_corr_dependence, get_xy_plane, get_all_pdf_cont, demo_correlation, generate_movie_data)"
   ]
  },
  {
   "cell_type": "markdown",
   "id": "68a08221",
   "metadata": {},
   "source": [
    "## Functions of Two Random Variables"
   ]
  },
  {
   "cell_type": "markdown",
   "id": "9eaf9da2",
   "metadata": {},
   "source": [
    "Until now we have been interested in two r.v. and we have begun to see some examples of functions of two r.v."
   ]
  },
  {
   "cell_type": "markdown",
   "id": "35c24a36",
   "metadata": {},
   "source": [
    "<div class=\"alert alert-success\">\n",
    "<h4>Definition: Function of two r.v.</h4>\n",
    "\n",
    "<h5>Discrete case</h5>\n",
    "\n",
    "Let $X$ and $Y$ be two discrete r.v. Let $Z = g(X, Y)$ where $g: \\mathbb{R}^2 \\rightarrow \\mathbb{R}$.\n",
    "Then:\n",
    "\n",
    "$$\\mathbb{P}_Z(z) = \\mathbb{P}_Z(g(X, Y) = z) = \\sum_{(x_i, y_j)\\in A} \\mathbb{P}_{XY}(x_i,y_j)$$\n",
    "\n",
    "where $A = \\{(x_i, y_j) \\in \\mathbb{R}_{XY} : \\ g(x_i,y_j) = z \\}$\n",
    "\n",
    "<h5>Continuous case</h5>\n",
    "\n",
    "In the continuous case, the CDF of $Z = g(X, Y)$ can be defined as:\n",
    "\n",
    "$$F_Z(z) = \\mathbb{P}(Z \\leq z) = \\mathbb{P}(g(X,Y) \\leq z) = \\iint\\limits_D f_{XY}(x,y)dxdy$$\n",
    "\n",
    "where $D = \\{(x,y)\\ | \\ g(x,y) < z\\}$\n",
    "\n",
    "</div>"
   ]
  },
  {
   "cell_type": "markdown",
   "id": "2a94cb0f",
   "metadata": {},
   "source": [
    "What if we want to find the expected value of a function of a random variable, but we don't know (or don't want to derive) the distribution of that transformed variable?\n",
    "\n",
    "If we need to find the expectation of $Z = g(X, Y)$, we can use the following expression:"
   ]
  },
  {
   "cell_type": "markdown",
   "id": "0ee022e8",
   "metadata": {},
   "source": [
    "<div class=\"alert alert-success\" >\n",
    "<h4>Definition: LOTUS - Law of the Unconscious Statistician</h4>\n",
    "\n",
    "<h5>Discrete case</h5>\n",
    "\n",
    "Let $X$ and $Y$ be two discrete r.v. Let $Z = g(X, Y)$ where $g: \\mathbb{R}^2 \\rightarrow \\mathbb{R}$. Then, the expectation of $Z$ is given by (Law of the Unconscious Statistician - LOTUS):\n",
    "\n",
    "$$\\mathbb{E}[Z] = \\mathbb{E}[g(X,Y)] =  \\sum_{(x_i, y_j)\\in \\mathbb{R}_{XY}} g(x_i,y_j) \\mathbb{P}_{XY}(x_i,y_j)$$\n",
    "\n",
    "<h5>continuous case</h5>\n",
    "\n",
    "Let $(X,Y)$ be a pair of jointly continuous r.v. with PDF $f_{XY}(x,y)$. Let $Z = g(X, Y)$ where $g: \\mathbb{R}^2 \\rightarrow \\mathbb{R}$. Then, the expectation of $Z$ is given by:\n",
    "\n",
    "$$\\mathbb{E}[Z] = \\mathbb{E}[g(X,Y)] = \\int\\limits_{-\\infty}^{\\infty}\\int\\limits_{-\\infty}^{\\infty}g(x,y)f_{XY}(x,y)dxdy$$\n",
    "\n",
    "Note that in the case where $X$ and $Y$ are independent, $f_{XY}(x,y) = f_X(x)\\times f_Y(y)$.\n",
    "\n",
    "</div>"
   ]
  },
  {
   "cell_type": "markdown",
   "id": "e024b215",
   "metadata": {},
   "source": [
    "<div class=\"alert example\">\n",
    "<h4>Calculated Example</h4>\n",
    "\n",
    "Let $(X, Y)$ have joint PDF:\n",
    "$$f_{X,Y}(x,y) = \\left\\{\\begin{array}{ll} 2 & \\text{ if } 0\\leq x \\leq y \\leq 1 \\\\ 0 & \\text{otherwise}\\end{array}\\right.$$\n",
    "\n",
    "Find $E[XY]$.\n",
    "\n",
    "</div>"
   ]
  },
  {
   "cell_type": "markdown",
   "id": "ff033d2c",
   "metadata": {},
   "source": [
    "<details>\n",
    "<summary>Reveal solution</summary>\n",
    "\n",
    "As we are looking for $E[XY]$, our function $g(X, Y) = X\\cdot Y$\n",
    "\n",
    "Using multivariate LOTUS:\n",
    "\n",
    "$$E[XY] = \\int_0^1\\int_0^y xy \\times 2 dxdy = 2 \\int_0^1 \\bigg[\\frac{x^2y}{2}\\bigg]_{x=0}^{x=y} dy = 2 \\int_0^1 \\bigg[\\frac{y^2y}{2} - \\frac{0^2y}{2} \\bigg] dy =$$\n",
    "$$= 2 \\int_0^1 \\frac{y^3}{2} dy = \\int_0^1 y^3 dy = \\bigg[\\frac{y^4}{4}\\bigg]_{y=0}^{y=1} = \\frac{1^4}{4} - \\frac{0^4}{4} = \\frac{1}{4}$$\n",
    "\n",
    "</details>"
   ]
  },
  {
   "cell_type": "markdown",
   "id": "cce8a22e",
   "metadata": {},
   "source": [
    "### Method of Transformations"
   ]
  },
  {
   "cell_type": "markdown",
   "id": "b2c2dff0",
   "metadata": {},
   "source": [
    "In the case of a pair of jointly continuous r.v. $(X,Y)$, we can formulate the following theorem:"
   ]
  },
  {
   "cell_type": "markdown",
   "id": "0839469c",
   "metadata": {},
   "source": [
    "<div class=\"alert alert-success\" style='background-color:white'>\n",
    "\n",
    "Let $(X,Y)$ be a pair of jointly continuous r.v. Let the mapping $g : \\mathbb{R}^2 \\to \\mathbb{R}$ be a function admitting continuous partial derivatives.\n",
    "\n",
    "Let $(Z,W)$ be a pair of r.v. defined by:\n",
    "$$(Z,W) = g(X,Y) = \\left(g_1(X,Y), g_2(X,Y)\\right)$$\n",
    "\n",
    "Let $h = g^{-1}$, i.e.:\n",
    "$$(X,Y) = h(Z,W) = \\left(h_1(Z, W), h_2(Z, W)\\right)$$\n",
    "\n",
    "Then $(Z,W)$ is a pair of jointly continuous r.v. with joint PDF $f_{ZW}(z,w)$ defined by:\n",
    "$$\\forall (z, w)\\in \\mathbb{R}_{ZW}, \\ f_{ZW}(z,w) = f_{XY}(h_1(z,w), h_2(z, w)) |J|$$\n",
    "\n",
    "where $J$ is the Jacobian of $h$ given by:\n",
    "\n",
    "$$J = \\det \\left[\\begin{matrix}\\frac{\\partial h_1}{\\partial z} & \\frac{\\partial h_1}{\\partial w} \\\\ \\frac{\\partial h_2}{\\partial z} & \\frac{\\partial h_2}{\\partial w} \\end{matrix}\\right] = \\frac{\\partial h_1}{\\partial z}\\cdot \\frac{\\partial h_2}{\\partial w} - \\frac{\\partial h_2}{\\partial z}\\cdot \\frac{\\partial h_1}{\\partial w}$$\n",
    "\n",
    "</div>"
   ]
  },
  {
   "cell_type": "markdown",
   "id": "b3e12027",
   "metadata": {},
   "source": [
    "Following the development from [@pishro-nik_introduction_2014], consider two r.v. $X$ and $Y$ with joint PDF $f_{XY}(x,y)$. Let's define a new r.v. $Z$ as follows: $Z = X + Y$.\n",
    "\n",
    "> Let $Z = X + Y$. What is its PDF $f_Z(z)$?\n",
    "\n",
    "To be able to apply the previous theorem, we need two r.v. $Z$ and $W$. We can define $W = X$. In this case, the function $g$ ensures the following transformations:\n",
    "\n",
    "$$\\left\\{\\begin{array}{ll}z = x + y \\\\ w = x\\end{array}\\right.$$\n",
    "\n",
    "Now let's find the inverse function $h$ for $x$ and $y$:\n",
    "\n",
    "$$\\left\\{\\begin{array}{ll} x = w \\\\ y = z - w \\end{array}\\right.$$\n",
    "\n",
    "The Jacobian is therefore given by:\n",
    "\n",
    "$$J = \\det \\left[\\begin{matrix}\\frac{\\partial h_1}{\\partial z} & \\frac{\\partial h_1}{\\partial w} \\\\ \\frac{\\partial h_2}{\\partial z} & \\frac{\\partial h_2}{\\partial w} \\end{matrix}\\right] = \\det \\left[\\begin{matrix}0 & 1 \\\\ 1 & -1\\end{matrix}\\right] = 0\\times(-1) - 1\\times 1 = -1$$\n",
    "\n",
    "Therefore:\n",
    "$$|J| = |-1| = 1$$\n",
    "\n",
    "Then:\n",
    "\n",
    "$$f_{ZW}(z,w) = f_{XY}(h_1(z,w), h_2(z, w)) |J| = f_{XY}(w, z-w) \\times 1$$\n",
    "\n",
    "According to the statement, we are looking for the PDF $f_Z(z)$. So it's the marginal PDF, i.e.:\n",
    "\n",
    "$$f_Z(z) = \\int\\limits_{-\\infty}^{\\infty}f_{XY}(w,z-w)dw$$\n",
    "\n",
    "Note that if $X$ and $Y$ are independent, then $f_{XY}(x,y) = f_X(x)f_Y(y)$. In this case:\n",
    "\n",
    "$$f_Z(z) = \\int\\limits_{-\\infty}^{\\infty}f_{XY}(w,z-w)dw = \\int\\limits_{-\\infty}^{\\infty}f_{X}(w)f_{Y}(z-w)dw$$\n",
    "\n",
    "This integral is called the **convolution** or **convolution product** of $f_X$ and $f_Y$. The following notation is used:\n",
    "\n",
    "$$f_Z(z) = f_X(z) \\mathbf{*}f_Y(z) = \\int\\limits_{-\\infty}^{\\infty}f_{X}(w)f_{Y}(z-w)dw = \\int\\limits_{-\\infty}^{\\infty}f_{Y}(w)f_{X}(z-w)dw$$"
   ]
  },
  {
   "cell_type": "markdown",
   "id": "0ecf10ee",
   "metadata": {},
   "source": [
    "<div class=\"alert alert-success\">\n",
    "<h4>Definition: Distribution of the Sum of Two RV</h4>\n",
    "\n",
    "Let $X$ and $Y$ be two independent r.v. Let $Z = X + Y$. The distribution of $Z$ is obtained by performing the **convolution product** of the distributions of $X$ and $Y$ as follows:\n",
    "\n",
    "<h5>Discrete case</h5>\n",
    "\n",
    "$$\\forall k \\in \\mathbb{N}, \\ \\mathbb{P}(Z = k) = \\sum_{i \\in \\mathbb{N}}\\mathbb{P}(X = k-i)\\times \\mathbb{P}(Y=i)$$\n",
    "\n",
    "<h5>Continuous case</h5>\n",
    "\n",
    "Let $f_X(x)$ and $f_Y(y)$ be the PDFs of $X$ and $Y$ respectively. We obtain:\n",
    "\n",
    "$$\\forall z\\in \\mathbb{R}, \\ f_Z(z) = \\int_{\\mathbb{R}}f_X(x)f_Y(z-x)dx$$\n",
    "\n",
    "</div>\n"
   ]
  },
  {
   "cell_type": "markdown",
   "id": "290a1eb7",
   "metadata": {},
   "source": [
    "<div class=\"alert example\">\n",
    "<h4>Calculated Example</h4>\n",
    "\n",
    "Let $X$ and $Y$ be two discrete r.v.\n",
    "\n",
    "$X$ is defined by:\n",
    "\n",
    "| $x$ | $-1$ | $1$ |\n",
    "|--:|:--:|:--:|\n",
    "|$\\mathbb{P}(X=x)$ | $1/3$ | $2/3$ |\n",
    "\n",
    "$Y$ is defined by:\n",
    "\n",
    "| $y$ | $-2$ | $0$ | $2$ |\n",
    "|--:|:--:|:--:|:--:|\n",
    "|$\\mathbb{P}(Y=y)$ | $2/6$ | $1/6$ | $3/6$|\n",
    "\n",
    "What is the probability that $X+Y$ equals 1?\n",
    "\n",
    "</div>"
   ]
  },
  {
   "cell_type": "markdown",
   "id": "e78da5bc",
   "metadata": {},
   "source": [
    "<details>\n",
    "<summary>Reveal solution</summary>\n",
    "\n",
    "Let's look at the cases where the sum $X + Y$ will equal $1$:\n",
    "\n",
    "| $\\downarrow X\\ Y \\rightarrow$| $-2$ | $0$ | $2$ |\n",
    "|--:|:--:|:--:|:--:|\n",
    "|$-1$ | $-3$ | $0$ | $\\mathbf{1}$|\n",
    "|$1$ | $-1$ | $\\mathbf{1}$ | $3$|\n",
    "\n",
    "The two possibilities are:\n",
    "\n",
    "* $X = -1$ and $Y = 2$\n",
    "* $X = 1$ and $Y = 0$\n",
    "\n",
    "Then:\n",
    "\n",
    "$$\\mathbb{P}_{X+Y}(1) = \\mathbb{P}_X(X=-1)\\times \\mathbb{P}_Y(Y=2) + \\mathbb{P}_X(X=1)\\times \\mathbb{P}_Y(Y=0) =$$\n",
    "$$= \\frac{1}{3}\\times \\frac{3}{6} + \\frac{2}{3} \\times \\frac{1}{6} = \\frac{1}{6} + \\frac{1}{9} = \\frac{5}{18}$$\n",
    "\n",
    "</details>"
   ]
  },
  {
   "cell_type": "markdown",
   "id": "a4c3ae85",
   "metadata": {},
   "source": [
    "### Special Cases"
   ]
  },
  {
   "cell_type": "markdown",
   "id": "87091fce",
   "metadata": {},
   "source": [
    "<div class=\"alert alert-success\" style='background-color:white'>\n",
    "<h4>Special Case: Sum of Normal Distributions</h4>\n",
    "\n",
    "Let $X\\sim \\mathcal{N}(\\mu_X, \\sigma_X^2)$ and $Y\\sim \\mathcal{N}(\\mu_Y, \\sigma_Y^2)$. Let $X$ and $Y$ be independent. Then:\n",
    "$$X + Y \\sim \\mathcal{N}(\\mu_X + \\mu_Y, \\sigma_X^2 + \\sigma_Y^2)$$\n",
    "\n",
    "</div>"
   ]
  },
  {
   "cell_type": "markdown",
   "id": "2a6ec898",
   "metadata": {},
   "source": [
    "<div class=\"alert alert-success\" style='background-color:white'>\n",
    "<h4>Special Case: Sum of Poisson Distributions</h4>\n",
    "\n",
    "Let $X\\sim \\mathcal{P}(\\lambda)$ and $Y\\sim \\mathcal{P}(\\mu)$. Let $X$ and $Y$ be independent. Then:\n",
    "$$X + Y \\sim \\mathcal{P}(\\lambda + \\mu)$$\n",
    "\n",
    "</div>"
   ]
  },
  {
   "cell_type": "markdown",
   "id": "e653eaef",
   "metadata": {},
   "source": [
    "## Functions of $n$ Random Variables"
   ]
  },
  {
   "cell_type": "markdown",
   "id": "b8de9bdd",
   "metadata": {},
   "source": [
    "<div class=\"alert alert-success\">\n",
    "<h4>Definition: LOTUS for the Function of n r.v.</h4>\n",
    "\n",
    "Let $\\mathbf{X} = (X_1, ..., X_n)$ be a random vector defined on the probability space $(\\Omega, \\mathcal{A}, \\mathbb{P})$.\n",
    "\n",
    "Let $Z = h(X_1,...,X_n)$ where $h:\\mathbb{R}^n \\to \\mathbb{R}$ is a bounded and piecewise continuous function.\n",
    "\n",
    "<h5>Discrete case</h5>\n",
    "\n",
    "Let $\\mathbf{X}$ have values in $D = \\mathbf{X}(\\Omega) \\subset \\mathbb{R}^n$ a finite or countable subset.\n",
    "\n",
    "Then, the expectation $\\mathbb{E}Z$ is given by:\n",
    "\n",
    "$$\\mathbb{E}Z = \\sum\\limits_{k=(k_1,...,k_n)\\in D} h(k_1,...,k_n)\\mathbb{P}(X_1 = k_1, ..., X_n = k_n)$$\n",
    "\n",
    "<h5>Continuous case</h5>\n",
    "\n",
    "Let $f_\\mathbf{X} : \\mathbb{R}^n \\to \\mathbb{R}$ be the PDF of $\\mathbf{X}$.\n",
    "\n",
    "Then, the expectation $\\mathbb{E}Z$ is given by:\n",
    "\n",
    "$$\\mathbb{E}Z = \\int_{\\mathbb{R}^n}h(t_1,...,t_n)f_{\\mathbf{X}}(t_1,...,t_n) dt_1...dt_n$$\n",
    "\n",
    "when this integral exists.\n",
    "\n",
    "</div>"
   ]
  },
  {
   "cell_type": "markdown",
   "id": "e0e6c3c8",
   "metadata": {},
   "source": [
    "<div class=\"alert alert-primary\">\n",
    "<h4>🤖 ML Application: Expected Loss Computation</h4>\n",
    "\n",
    "Problem: Training a neural network with custom loss.\n",
    "\n",
    "Given:\n",
    "\n",
    "- Model prediction: $\\hat{Y} = f(X; \\theta)$\n",
    "- True label: $Y$\n",
    "- Loss function: $L(\\hat{Y}, Y) = (\\hat{Y} - Y)^2 + \\lambda|\\hat{Y}|$\n",
    "\n",
    "Goal: Compute expected loss $E[L(\\hat{Y}, Y)]$\n",
    "\n",
    "Using LOTUS:\n",
    "$E[L(\\hat{Y}, Y)] = \\int\\int L(\\hat{y}, y) · f_{\\hat{Y}Y}(\\hat{y}, y) d\\hat{y} dy$\n",
    "\n",
    "No need to derive the distribution of $L$ itself!\n",
    "\n",
    "Practical Application:\n",
    "\n",
    "- Gradient descent minimizes $E[L]$ over $\\theta$\n",
    "- LOTUS justifies computing gradients on individual samples (stochastic gradient descent)\n",
    "- Each mini-batch gives an unbiased estimate of $E[∇L]$\n",
    "\n",
    "</div>"
   ]
  },
  {
   "cell_type": "markdown",
   "id": "830ece5c",
   "metadata": {},
   "source": [
    "<div class=\"alert example\">\n",
    "<h4>Calculated Example: Feature Engineering Challenge</h4>\n",
    "\n",
    "You're building a fraud detection model with 3 features:\n",
    "\n",
    "- $X_1 = \\text{transaction amount (\\$)}$\n",
    "- $X_2 = \\text{time since last transaction (hours)}$\n",
    "- $X_3 = \\text{distance from usual location (km)}$\n",
    "\n",
    "Your ML team proposes a \"risk score\":\n",
    "$R = 0.01X_1 + 10/X_2 + 0.5X_3$\n",
    "\n",
    "Assume the joint distribution is known: $f_{X_1X_2X_3}(x_1, x_2, x_3)$.\n",
    "\n",
    "Tasks:\n",
    "\n",
    "1. Write the formula for $E[R]$ using LOTUS\n",
    "2. If you only cared about transaction amount, write the formula for the marginal density $f_{X_1}(x_1)$\n",
    "3. Explain why LOTUS is helpful here (vs. deriving the distribution of $R$)\n",
    "\n",
    "</div>"
   ]
  },
  {
   "cell_type": "markdown",
   "id": "034639d9",
   "metadata": {},
   "source": [
    "<details>\n",
    "<summary>Reveal solution</summary>\n",
    "\n",
    "1. $E[R] = \\int\\int\\int (0.01x_1 + 10/x_2 + 0.5x_3) · f_{X_1X_2X_3}(x_1, x_2, x_3) dx_1 dx_2 dx_3$\n",
    "\n",
    "2. $f_{X_1}(x_1) = \\int_0^\\infty\\int_0^\\infty f_{X_1X_2X_3}(x_1, x_2, x_3) dx_2 dx_3$\n",
    "\n",
    "3. LOTUS is helpful because:\n",
    "\n",
    "- $R$ is a complex nonlinear function (especially the $10/X_2$ term)\n",
    "- Finding the distribution of $R$ would require transformation techniques\n",
    "- LOTUS lets us compute $E[R]$ directly without finding the distribution of $R$\n",
    "- In practice, we can estimate $E[R]$ from data without ever knowing $f_R$\n",
    "\n",
    "</details>"
   ]
  },
  {
   "cell_type": "markdown",
   "id": "64a80fd0",
   "metadata": {},
   "source": [
    "<div class=\"alert alert-success\">\n",
    "<h4>Definition: Variance of the Sum of <strong>n</strong> r.v.</h4>\n",
    "\n",
    "Let $Z = X_1 + ... + X_n$. Then the **variance** can be calculated as follows:\n",
    "\n",
    "$$Var(Z) = Cov\\left(\\sum_{i=1}^{n}X_i, \\ \\sum_{j=1}^{n}X_j\\right) = \\sum_{i=1}^{n}\\sum_{j=1}^{n}Cov(X_i, X_j) = \\sum_{i=1}^{n}Var(X_i) + 2\\sum_{i<j}Cov(X_i, X_j)$$\n",
    "\n",
    "</div>"
   ]
  },
  {
   "cell_type": "markdown",
   "id": "bac739fb",
   "metadata": {},
   "source": [
    "### Special Cases"
   ]
  },
  {
   "cell_type": "markdown",
   "id": "5356b894",
   "metadata": {},
   "source": [
    "<div class=\"alert alert-success\"  style='background-color:white'>\n",
    "<h4>Special Case: Sum of Normal Distributions</h4>\n",
    "\n",
    "Let $X_1, X_2, ..., X_n$ be $n$ mutually independent random variables, where each $X_k, \\ \\forall k \\in \\{1,...,n\\}$ follows a normal distribution $\\mathcal{N}(\\mu_k, \\sigma_k^2)$. \n",
    "\n",
    "Then, the random variable defined as the sum $\\sum_{i=1}^n X_i$ follows a normal distribution $\\mathcal{N}(\\mu, \\sigma^2)$, where:\n",
    "\n",
    "* $\\mu = \\sum\\limits_{k=1}^{n}\\mu_k$\n",
    "* $\\sigma^2 = \\sum\\limits_{k=1}^{n}\\sigma^2_k$\n",
    "\n",
    "If $\\forall k=\\{1,...,n\\}$, $X_k\\sim\\mathcal{N}(0,1)$, then $T = \\sum\\limits_{k=1}^{n}X_k^2$ follows the Chi-squared distribution with $n$ degrees of freedom, denoted $\\chi^2_n$ or $\\chi^2(n)$.\n",
    "\n",
    "</div>"
   ]
  },
  {
   "cell_type": "markdown",
   "id": "8f15650f",
   "metadata": {},
   "source": []
  }
 ],
 "metadata": {
  "kernelspec": {
   "display_name": "venv",
   "language": "python",
   "name": "python3"
  },
  "language_info": {
   "codemirror_mode": {
    "name": "ipython",
    "version": 3
   },
   "file_extension": ".py",
   "mimetype": "text/x-python",
   "name": "python",
   "nbconvert_exporter": "python",
   "pygments_lexer": "ipython3",
   "version": "3.10.11"
  }
 },
 "nbformat": 4,
 "nbformat_minor": 5
}
